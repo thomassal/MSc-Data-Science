{
 "cells": [
  {
   "cell_type": "markdown",
   "metadata": {},
   "source": [
    "## Deep Learning\n",
    "### Project 1\n",
    "\n",
    "### Name: Thomas Saltos"
   ]
  },
  {
   "cell_type": "markdown",
   "metadata": {},
   "source": [
    "### Imports"
   ]
  },
  {
   "cell_type": "code",
   "execution_count": 1,
   "metadata": {},
   "outputs": [
    {
     "name": "stdout",
     "output_type": "stream",
     "text": [
      "Tensorflow version 2.0.0\n"
     ]
    }
   ],
   "source": [
    "import math\n",
    "import gc\n",
    "import matplotlib.pyplot as plt\n",
    "import numpy as np\n",
    "import tensorflow as tf\n",
    "%matplotlib inline\n",
    "\n",
    "from tensorflow.keras import backend as K # Importing Keras backend (by default it is Tensorflow)\n",
    "from tensorflow.keras.datasets import fashion_mnist\n",
    "from tensorflow.keras.layers import Input, Conv2D, Dense, Dropout, Flatten, MaxPool2D # Layers to be used for building our model\n",
    "from tensorflow.keras.models import Model # The class used to create a model\n",
    "from tensorflow.keras.optimizers import SGD, Adam\n",
    "from tensorflow.keras.utils import to_categorical\n",
    "\n",
    "print(\"Tensorflow version \" + tf.__version__)"
   ]
  },
  {
   "cell_type": "markdown",
   "metadata": {},
   "source": [
    "### Dataset"
   ]
  },
  {
   "cell_type": "code",
   "execution_count": 2,
   "metadata": {},
   "outputs": [],
   "source": [
    "batch_size = 128\n",
    "classes = 10\n",
    "epochs = 20\n",
    "\n",
    "(X_train, y_train), (X_test, y_test) = fashion_mnist.load_data()\n"
   ]
  },
  {
   "cell_type": "code",
   "execution_count": 3,
   "metadata": {},
   "outputs": [],
   "source": [
    "class_names = {i:cn for i, cn in enumerate(['T-shirt/top', 'Trouser', 'Pullover', 'Dress', 'Coat',\n",
    "               'Sandal', 'Shirt', 'Sneaker', 'Bag', 'Ankle boot']) }"
   ]
  },
  {
   "cell_type": "code",
   "execution_count": 4,
   "metadata": {},
   "outputs": [],
   "source": [
    "def plot(images, labels, predictions=None):\n",
    "    \"\"\"Helper function to plot images, labels and predictions\n",
    "    Parameters\n",
    "    ----------\n",
    "    images : 3D matrix of image\n",
    "    labels : 1D array\n",
    "    predictions (optional): 1D array\n",
    "    \"\"\"\n",
    "    # create a grid with 5 columns\n",
    "    n_cols = min(5, len(images))\n",
    "    n_rows = math.ceil(len(images) / n_cols)\n",
    "    fig, axes = plt.subplots(n_rows, n_cols, figsize=(n_cols+3, n_rows+4))\n",
    "    \n",
    "    if predictions is None:\n",
    "        predictions = [None] * len(labels)\n",
    "        \n",
    "    for i, (x, y_true, y_pred) in enumerate(zip(images, labels, predictions)):\n",
    "        ax = axes.flat[i]\n",
    "        ax.imshow(x, cmap=plt.cm.binary)\n",
    "        \n",
    "        ax.set_title(f\"{class_names[y_true]}\")\n",
    "        \n",
    "        if y_pred is not None:\n",
    "            ax.set_xlabel(f\"pred: {class_names[y_pred]}\")\n",
    "    \n",
    "        ax.set_xticks([])\n",
    "        ax.set_yticks([])"
   ]
  },
  {
   "cell_type": "code",
   "execution_count": 5,
   "metadata": {},
   "outputs": [
    {
     "data": {
      "image/png": "[encoded data removed]",
      "text/plain": [
       "<Figure size 576x504 with 15 Axes>"
      ]
     },
     "metadata": {},
     "output_type": "display_data"
    }
   ],
   "source": [
    "# plot first few images\n",
    "plot(X_train[:15], y_train[:15]) "
   ]
  },
  {
   "cell_type": "code",
   "execution_count": 6,
   "metadata": {},
   "outputs": [],
   "source": [
    "X_train = X_train.reshape(60000, 784)\n",
    "X_test = X_test.reshape(10000, 784)\n",
    "X_train = X_train.astype('float32')\n",
    "X_test = X_test.astype('float32')\n",
    "X_train /= 255\n",
    "X_test /= 255\n",
    "Y_train = to_categorical(y_train, classes)\n",
    "Y_test = to_categorical(y_test, classes)"
   ]
  },
  {
   "cell_type": "markdown",
   "metadata": {},
   "source": [
    "### Plotting Results"
   ]
  },
  {
   "cell_type": "code",
   "execution_count": 7,
   "metadata": {},
   "outputs": [],
   "source": [
    "def plot_history(history):\n",
    "    print()\n",
    "    fig, (ax1, ax2) = plt.subplots(nrows=1, ncols=2, figsize=(14, 5))\n",
    "    ax1.plot(history.history['loss'], label='Train Loss')\n",
    "    ax1.plot(history.history['val_loss'], label='Val Loss')\n",
    "    ax1.legend()\n",
    "    ax2.plot(history.history['accuracy'], label='Train Accuracy')\n",
    "    ax2.plot(history.history['val_accuracy'], label='Val Accuracy')\n",
    "    ax2.legend()"
   ]
  },
  {
   "cell_type": "code",
   "execution_count": 8,
   "metadata": {},
   "outputs": [],
   "source": [
    "def clean_up(model):\n",
    "    K.clear_session()\n",
    "    del model\n",
    "    gc.collect()"
   ]
  },
  {
   "cell_type": "markdown",
   "metadata": {},
   "source": [
    "### Model creation - MLP"
   ]
  },
  {
   "cell_type": "code",
   "execution_count": 9,
   "metadata": {},
   "outputs": [],
   "source": [
    "def train_model(\n",
    "        train_data,\n",
    "        train_labels,\n",
    "        optimizer,\n",
    "        epochs=50,\n",
    "        batch_size=128,\n",
    "        hidden_layers=0,\n",
    "        hidden_activation='relu',\n",
    "        output_activation='softmax',\n",
    "        verbose=0):\n",
    "    \n",
    "    np.random.seed(14) # Define the seed for numpy to have reproducible experiments.\n",
    "    tf.random.set_seed(1993) # Define the seed for Tensorflow to have reproducible experiments.\n",
    "    \n",
    "    # Define the input layer.\n",
    "    input = Input(\n",
    "        shape=(784,),\n",
    "        name='Input'\n",
    "    )\n",
    "\n",
    "    x = input\n",
    "    # Define the remaining hidden layers.\n",
    "    for i in range(hidden_layers):\n",
    "        x = Dense(\n",
    "            units=256,\n",
    "            kernel_initializer='glorot_uniform',\n",
    "            activation=hidden_activation,\n",
    "            name='Hidden-{0:d}'.format(i + 1)\n",
    "        )(x)\n",
    "        \n",
    "    # Define the output layer.\n",
    "    output = Dense(\n",
    "        units=classes,\n",
    "        kernel_initializer='glorot_uniform',\n",
    "        activation=output_activation,\n",
    "        name='Output'\n",
    "    )(x)\n",
    "\n",
    "    # Define the model and train it.\n",
    "    model = Model(inputs=input, outputs=output)\n",
    "    model.compile(optimizer=optimizer, loss='categorical_crossentropy', metrics=['accuracy'])\n",
    "    hs = model.fit(\n",
    "        x=X_train,\n",
    "        y=Y_train,\n",
    "        validation_split=0.1, # use 10% of the training data as validation data\n",
    "        epochs=epochs,\n",
    "        verbose=verbose,\n",
    "        batch_size=batch_size\n",
    "    )\n",
    "    print('Finished training.')\n",
    "    print('------------------')\n",
    "    model.summary() # Print a description of the model.\n",
    "    return model, hs"
   ]
  },
  {
   "cell_type": "code",
   "execution_count": 10,
   "metadata": {},
   "outputs": [
    {
     "name": "stdout",
     "output_type": "stream",
     "text": [
      "Finished training.\n",
      "------------------\n",
      "Model: \"model\"\n",
      "_________________________________________________________________\n",
      "Layer (type)                 Output Shape              Param #   \n",
      "=================================================================\n",
      "Input (InputLayer)           [(None, 784)]             0         \n",
      "_________________________________________________________________\n",
      "Hidden-1 (Dense)             (None, 256)               200960    \n",
      "_________________________________________________________________\n",
      "Output (Dense)               (None, 10)                2570      \n",
      "=================================================================\n",
      "Total params: 203,530\n",
      "Trainable params: 203,530\n",
      "Non-trainable params: 0\n",
      "_________________________________________________________________\n"
     ]
    }
   ],
   "source": [
    "# Using Adam\n",
    "optimizer = Adam()\n",
    "\n",
    "# MLP\n",
    "mlp_model_adam, mlp_hs_adam = train_model(\n",
    "    train_data=X_train,\n",
    "    train_labels=Y_train,\n",
    "    optimizer=optimizer,\n",
    "    epochs=epochs,\n",
    "    batch_size=batch_size,\n",
    "    hidden_layers=1,\n",
    "    hidden_activation='relu',\n",
    "    output_activation='softmax'\n",
    ")\n",
    "\n",
    "# Evaluate on test data and show all the results.\n",
    "mlp_eval_adam = mlp_model_adam.evaluate(X_test, Y_test, verbose=0)\n",
    "clean_up(model=mlp_model_adam)"
   ]
  },
  {
   "cell_type": "code",
   "execution_count": 11,
   "metadata": {},
   "outputs": [
    {
     "name": "stdout",
     "output_type": "stream",
     "text": [
      "Train Loss     : 0.17509\n",
      "Validation Loss: 0.31366\n",
      "Test Loss      : 0.32680\n",
      "---\n",
      "Train Accuracy     : 0.93611\n",
      "Validation Accuracy: 0.89333\n",
      "Test Accuracy      : 0.89110\n",
      "\n"
     ]
    },
    {
     "data": {
      "image/png": "[encoded data removed]",
      "text/plain": [
       "<Figure size 1008x360 with 2 Axes>"
      ]
     },
     "metadata": {
      "needs_background": "light"
     },
     "output_type": "display_data"
    }
   ],
   "source": [
    "print(\"Train Loss     : {0:.5f}\".format(mlp_hs_adam.history['loss'][-1]))\n",
    "print(\"Validation Loss: {0:.5f}\".format(mlp_hs_adam.history['val_loss'][-1]))\n",
    "print(\"Test Loss      : {0:.5f}\".format(mlp_eval_adam[0]))\n",
    "print(\"---\")\n",
    "print(\"Train Accuracy     : {0:.5f}\".format(mlp_hs_adam.history['accuracy'][-1]))\n",
    "print(\"Validation Accuracy: {0:.5f}\".format(mlp_hs_adam.history['val_accuracy'][-1]))\n",
    "print(\"Test Accuracy      : {0:.5f}\".format(mlp_eval_adam[1]))\n",
    "\n",
    "\n",
    "# Plot train and validation error per epoch.\n",
    "plot_history(history=mlp_hs_adam)"
   ]
  },
  {
   "cell_type": "markdown",
   "metadata": {},
   "source": [
    "### Model creation - CNN"
   ]
  },
  {
   "cell_type": "code",
   "execution_count": 12,
   "metadata": {},
   "outputs": [],
   "source": [
    "batch_size = 128\n",
    "classes = 10\n",
    "epochs = 100\n",
    "\n",
    "(X_train, y_train), (X_test, y_test) = fashion_mnist.load_data()\n",
    "X_train = X_train.reshape(X_train.shape[0], 28, 28, 1)\n",
    "X_test = X_test.reshape(X_test.shape[0], 28, 28, 1)\n",
    "input_shape = (28, 28, 1)\n",
    "X_train = X_train.astype('float32')\n",
    "X_test = X_test.astype('float32')\n",
    "X_train /= 255\n",
    "X_test /= 255\n",
    "Y_train = to_categorical(y_train, classes)\n",
    "Y_test = to_categorical(y_test, classes)"
   ]
  },
  {
   "cell_type": "code",
   "execution_count": 13,
   "metadata": {},
   "outputs": [],
   "source": [
    "def train_model(\n",
    "        optimizer,\n",
    "        epochs=50,\n",
    "        batch_size=128,\n",
    "        conv_layers=2,\n",
    "        conv_activation='relu',\n",
    "        conv_dropout=False,\n",
    "        output_activation='softmax',\n",
    "        callbacks=None,\n",
    "        verbose=0):\n",
    "    \n",
    "    np.random.seed(14) # Define the seed for numpy to have reproducible experiments.\n",
    "    tf.random.set_seed(1993) # Define the seed for Tensorflow to have reproducible experiments.\n",
    "    \n",
    "    # Define the input layer.\n",
    "    input = Input(\n",
    "        shape=input_shape,\n",
    "        name='Input'\n",
    "    )\n",
    "\n",
    "    x = input\n",
    "    # Define the convolutional layers.\n",
    "    for i in range(conv_layers):\n",
    "        x = Conv2D(\n",
    "            filters=8*(2**i),\n",
    "            kernel_size=(3, 3),\n",
    "            strides=(1, 1),\n",
    "            padding='same',\n",
    "            dilation_rate=(1, 1),\n",
    "            activation=conv_activation,\n",
    "            name='Conv2D-{0:d}'.format(i + 1)\n",
    "        )(x)\n",
    "        x = MaxPool2D(\n",
    "            pool_size=(2, 2),\n",
    "            strides=(2, 2),\n",
    "            padding='same',\n",
    "            name='MaxPool2D-{0:d}'.format(i + 1)\n",
    "        )(x)\n",
    "        if conv_dropout:\n",
    "            x = Dropout(\n",
    "                rate=0.2,\n",
    "                name='Dropout-{0:d}'.format(i + 1)\n",
    "            )(x)\n",
    "    # Flatten the convolved images so as to input them to a Dense Layer\n",
    "    x = Flatten(name='Flatten')(x)\n",
    "    \n",
    "    # Define the output layer.\n",
    "    output = Dense(\n",
    "        units=classes,\n",
    "        activation=output_activation,\n",
    "        name='Output'\n",
    "    )(x)\n",
    "\n",
    "    # Define the model and train it.\n",
    "    model = Model(inputs=input, outputs=output)\n",
    "    model.compile(optimizer=optimizer, loss='categorical_crossentropy', metrics=['accuracy'])\n",
    "    hs = model.fit(\n",
    "        x=X_train,\n",
    "        y=Y_train,\n",
    "        validation_split=0.1, # use 10% of the training data as validation data\n",
    "        epochs=epochs,\n",
    "        verbose=verbose,\n",
    "        callbacks=callbacks,\n",
    "        batch_size=batch_size\n",
    "    )\n",
    "    print('Finished training.')\n",
    "    print('------------------')\n",
    "    model.summary() # Print a description of the model.\n",
    "    return model, hs"
   ]
  },
  {
   "cell_type": "markdown",
   "metadata": {},
   "source": [
    "### Early stopping with patience 10"
   ]
  },
  {
   "cell_type": "code",
   "execution_count": 14,
   "metadata": {},
   "outputs": [
    {
     "name": "stdout",
     "output_type": "stream",
     "text": [
      "Train on 54000 samples, validate on 6000 samples\n",
      "Epoch 1/100\n",
      "54000/54000 [==============================] - 22s 404us/sample - loss: 0.8661 - accuracy: 0.6847 - val_loss: 0.5243 - val_accuracy: 0.8107\n",
      "Epoch 2/100\n",
      "54000/54000 [==============================] - 21s 392us/sample - loss: 0.5407 - accuracy: 0.8011 - val_loss: 0.4292 - val_accuracy: 0.8422\n",
      "Epoch 3/100\n",
      "54000/54000 [==============================] - 21s 393us/sample - loss: 0.4814 - accuracy: 0.8249 - val_loss: 0.4017 - val_accuracy: 0.8515\n",
      "Epoch 4/100\n",
      "54000/54000 [==============================] - 21s 397us/sample - loss: 0.4462 - accuracy: 0.8371 - val_loss: 0.3728 - val_accuracy: 0.8675\n",
      "Epoch 5/100\n",
      "54000/54000 [==============================] - 21s 393us/sample - loss: 0.4228 - accuracy: 0.8454 - val_loss: 0.3565 - val_accuracy: 0.8693\n",
      "Epoch 6/100\n",
      "54000/54000 [==============================] - 21s 388us/sample - loss: 0.4062 - accuracy: 0.8533 - val_loss: 0.3471 - val_accuracy: 0.8745\n",
      "Epoch 7/100\n",
      "54000/54000 [==============================] - 21s 389us/sample - loss: 0.3901 - accuracy: 0.8574 - val_loss: 0.3270 - val_accuracy: 0.8812\n",
      "Epoch 8/100\n",
      "54000/54000 [==============================] - 21s 394us/sample - loss: 0.3772 - accuracy: 0.8632 - val_loss: 0.3189 - val_accuracy: 0.8845\n",
      "Epoch 9/100\n",
      "54000/54000 [==============================] - 21s 392us/sample - loss: 0.3708 - accuracy: 0.8659 - val_loss: 0.3166 - val_accuracy: 0.8808\n",
      "Epoch 10/100\n",
      "54000/54000 [==============================] - 21s 397us/sample - loss: 0.3607 - accuracy: 0.8689 - val_loss: 0.3132 - val_accuracy: 0.8860\n",
      "Epoch 11/100\n",
      "54000/54000 [==============================] - 22s 403us/sample - loss: 0.3535 - accuracy: 0.8711 - val_loss: 0.3087 - val_accuracy: 0.8868\n",
      "Epoch 12/100\n",
      "54000/54000 [==============================] - 21s 390us/sample - loss: 0.3442 - accuracy: 0.8747 - val_loss: 0.3028 - val_accuracy: 0.8903\n",
      "Epoch 13/100\n",
      "54000/54000 [==============================] - 21s 392us/sample - loss: 0.3438 - accuracy: 0.8759 - val_loss: 0.2933 - val_accuracy: 0.8897\n",
      "Epoch 14/100\n",
      "54000/54000 [==============================] - 21s 396us/sample - loss: 0.3358 - accuracy: 0.8781 - val_loss: 0.2948 - val_accuracy: 0.8888\n",
      "Epoch 15/100\n",
      "54000/54000 [==============================] - 21s 390us/sample - loss: 0.3291 - accuracy: 0.8793 - val_loss: 0.2858 - val_accuracy: 0.8943\n",
      "Epoch 16/100\n",
      "54000/54000 [==============================] - 21s 388us/sample - loss: 0.3248 - accuracy: 0.8831 - val_loss: 0.2964 - val_accuracy: 0.8907\n",
      "Epoch 17/100\n",
      "54000/54000 [==============================] - 21s 394us/sample - loss: 0.3229 - accuracy: 0.8814 - val_loss: 0.2800 - val_accuracy: 0.8957\n",
      "Epoch 18/100\n",
      "54000/54000 [==============================] - 21s 389us/sample - loss: 0.3178 - accuracy: 0.8836 - val_loss: 0.2764 - val_accuracy: 0.8975\n",
      "Epoch 19/100\n",
      "54000/54000 [==============================] - 21s 389us/sample - loss: 0.3143 - accuracy: 0.8856 - val_loss: 0.2717 - val_accuracy: 0.9010\n",
      "Epoch 20/100\n",
      "54000/54000 [==============================] - 21s 388us/sample - loss: 0.3152 - accuracy: 0.8849 - val_loss: 0.2695 - val_accuracy: 0.9018\n",
      "Epoch 21/100\n",
      "54000/54000 [==============================] - 21s 390us/sample - loss: 0.3125 - accuracy: 0.8868 - val_loss: 0.2656 - val_accuracy: 0.9028\n",
      "Epoch 22/100\n",
      "54000/54000 [==============================] - 21s 396us/sample - loss: 0.3061 - accuracy: 0.8888 - val_loss: 0.2637 - val_accuracy: 0.9020\n",
      "Epoch 23/100\n",
      "54000/54000 [==============================] - 21s 390us/sample - loss: 0.3061 - accuracy: 0.8882 - val_loss: 0.2630 - val_accuracy: 0.9038\n",
      "Epoch 24/100\n",
      "54000/54000 [==============================] - 21s 393us/sample - loss: 0.3057 - accuracy: 0.8885 - val_loss: 0.2640 - val_accuracy: 0.9003\n",
      "Epoch 25/100\n",
      "54000/54000 [==============================] - 21s 394us/sample - loss: 0.3039 - accuracy: 0.8894 - val_loss: 0.2705 - val_accuracy: 0.9008\n",
      "Epoch 26/100\n",
      "54000/54000 [==============================] - 21s 393us/sample - loss: 0.2998 - accuracy: 0.8912 - val_loss: 0.2594 - val_accuracy: 0.9028\n",
      "Epoch 27/100\n",
      "54000/54000 [==============================] - 21s 396us/sample - loss: 0.2983 - accuracy: 0.8902 - val_loss: 0.2600 - val_accuracy: 0.9070\n",
      "Epoch 28/100\n",
      "54000/54000 [==============================] - 21s 395us/sample - loss: 0.2964 - accuracy: 0.8928 - val_loss: 0.2660 - val_accuracy: 0.9022\n",
      "Epoch 29/100\n",
      "54000/54000 [==============================] - 21s 397us/sample - loss: 0.2957 - accuracy: 0.8915 - val_loss: 0.2590 - val_accuracy: 0.9007\n",
      "Epoch 30/100\n",
      "54000/54000 [==============================] - 23s 421us/sample - loss: 0.2965 - accuracy: 0.8913 - val_loss: 0.2545 - val_accuracy: 0.9042\n",
      "Epoch 31/100\n",
      "54000/54000 [==============================] - 25s 469us/sample - loss: 0.2952 - accuracy: 0.8934 - val_loss: 0.2518 - val_accuracy: 0.9063\n",
      "Epoch 32/100\n",
      "54000/54000 [==============================] - 23s 432us/sample - loss: 0.2883 - accuracy: 0.8938 - val_loss: 0.2511 - val_accuracy: 0.9050\n",
      "Epoch 33/100\n",
      "54000/54000 [==============================] - 23s 417us/sample - loss: 0.2928 - accuracy: 0.8937 - val_loss: 0.2524 - val_accuracy: 0.9047\n",
      "Epoch 34/100\n",
      "54000/54000 [==============================] - 23s 417us/sample - loss: 0.2905 - accuracy: 0.8926 - val_loss: 0.2460 - val_accuracy: 0.9063\n",
      "Epoch 35/100\n",
      "54000/54000 [==============================] - 24s 449us/sample - loss: 0.2896 - accuracy: 0.8942 - val_loss: 0.2439 - val_accuracy: 0.9077\n",
      "Epoch 36/100\n",
      "54000/54000 [==============================] - 24s 439us/sample - loss: 0.2863 - accuracy: 0.8949 - val_loss: 0.2473 - val_accuracy: 0.9097\n",
      "Epoch 37/100\n",
      "54000/54000 [==============================] - 24s 448us/sample - loss: 0.2886 - accuracy: 0.8926 - val_loss: 0.2463 - val_accuracy: 0.9093\n",
      "Epoch 38/100\n",
      "54000/54000 [==============================] - 22s 400us/sample - loss: 0.2894 - accuracy: 0.8938 - val_loss: 0.2473 - val_accuracy: 0.9083\n",
      "Epoch 39/100\n",
      "54000/54000 [==============================] - 21s 396us/sample - loss: 0.2867 - accuracy: 0.8947 - val_loss: 0.2418 - val_accuracy: 0.9105\n",
      "Epoch 40/100\n",
      "54000/54000 [==============================] - 21s 395us/sample - loss: 0.2838 - accuracy: 0.8951 - val_loss: 0.2506 - val_accuracy: 0.9068\n",
      "Epoch 41/100\n",
      "54000/54000 [==============================] - 23s 418us/sample - loss: 0.2830 - accuracy: 0.8961 - val_loss: 0.2455 - val_accuracy: 0.9092\n",
      "Epoch 42/100\n",
      "54000/54000 [==============================] - 24s 447us/sample - loss: 0.2813 - accuracy: 0.8977 - val_loss: 0.2531 - val_accuracy: 0.9070\n",
      "Epoch 43/100\n",
      "54000/54000 [==============================] - 23s 426us/sample - loss: 0.2831 - accuracy: 0.8964 - val_loss: 0.2421 - val_accuracy: 0.9103\n",
      "Epoch 44/100\n",
      "54000/54000 [==============================] - 23s 421us/sample - loss: 0.2820 - accuracy: 0.8965 - val_loss: 0.2477 - val_accuracy: 0.9057\n",
      "Epoch 45/100\n",
      "54000/54000 [==============================] - 23s 432us/sample - loss: 0.2791 - accuracy: 0.8985 - val_loss: 0.2471 - val_accuracy: 0.9073\n",
      "Epoch 46/100\n",
      "54000/54000 [==============================] - 24s 451us/sample - loss: 0.2791 - accuracy: 0.8985 - val_loss: 0.2509 - val_accuracy: 0.9068\n",
      "Epoch 47/100\n",
      "54000/54000 [==============================] - 25s 463us/sample - loss: 0.2796 - accuracy: 0.8973 - val_loss: 0.2503 - val_accuracy: 0.9045\n",
      "Epoch 48/100\n",
      "54000/54000 [==============================] - 24s 441us/sample - loss: 0.2781 - accuracy: 0.8981 - val_loss: 0.2433 - val_accuracy: 0.9082\n",
      "Epoch 49/100\n",
      "54000/54000 [==============================] - 22s 413us/sample - loss: 0.2786 - accuracy: 0.8979 - val_loss: 0.2379 - val_accuracy: 0.9117\n",
      "Epoch 50/100\n",
      "54000/54000 [==============================] - 22s 400us/sample - loss: 0.2757 - accuracy: 0.8990 - val_loss: 0.2433 - val_accuracy: 0.9102\n",
      "Epoch 51/100\n",
      "54000/54000 [==============================] - 23s 431us/sample - loss: 0.2751 - accuracy: 0.8996 - val_loss: 0.2423 - val_accuracy: 0.9067\n",
      "Epoch 52/100\n",
      "54000/54000 [==============================] - 23s 418us/sample - loss: 0.2755 - accuracy: 0.8975 - val_loss: 0.2428 - val_accuracy: 0.9107\n",
      "Epoch 53/100\n",
      "54000/54000 [==============================] - 21s 395us/sample - loss: 0.2755 - accuracy: 0.8984 - val_loss: 0.2423 - val_accuracy: 0.9098\n",
      "Epoch 54/100\n"
     ]
    },
    {
     "name": "stdout",
     "output_type": "stream",
     "text": [
      "54000/54000 [==============================] - 22s 401us/sample - loss: 0.2747 - accuracy: 0.8981 - val_loss: 0.2427 - val_accuracy: 0.9115\n",
      "Epoch 55/100\n",
      "54000/54000 [==============================] - 22s 409us/sample - loss: 0.2755 - accuracy: 0.8979 - val_loss: 0.2428 - val_accuracy: 0.9083\n",
      "Epoch 56/100\n",
      "54000/54000 [==============================] - 22s 407us/sample - loss: 0.2773 - accuracy: 0.8979 - val_loss: 0.2419 - val_accuracy: 0.9100\n",
      "Epoch 57/100\n",
      "54000/54000 [==============================] - 23s 422us/sample - loss: 0.2711 - accuracy: 0.9004 - val_loss: 0.2340 - val_accuracy: 0.9133\n",
      "Epoch 58/100\n",
      "54000/54000 [==============================] - 22s 411us/sample - loss: 0.2699 - accuracy: 0.9008 - val_loss: 0.2353 - val_accuracy: 0.9127\n",
      "Epoch 59/100\n",
      "54000/54000 [==============================] - 22s 402us/sample - loss: 0.2708 - accuracy: 0.9001 - val_loss: 0.2423 - val_accuracy: 0.9103\n",
      "Epoch 60/100\n",
      "54000/54000 [==============================] - 23s 418us/sample - loss: 0.2706 - accuracy: 0.9011 - val_loss: 0.2371 - val_accuracy: 0.9113\n",
      "Epoch 61/100\n",
      "54000/54000 [==============================] - 22s 409us/sample - loss: 0.2736 - accuracy: 0.8995 - val_loss: 0.2366 - val_accuracy: 0.9095\n",
      "Epoch 62/100\n",
      "54000/54000 [==============================] - 21s 392us/sample - loss: 0.2728 - accuracy: 0.8998 - val_loss: 0.2362 - val_accuracy: 0.9095\n",
      "Epoch 63/100\n",
      "54000/54000 [==============================] - 21s 383us/sample - loss: 0.2710 - accuracy: 0.9004 - val_loss: 0.2350 - val_accuracy: 0.9125\n",
      "Epoch 64/100\n",
      "54000/54000 [==============================] - 20s 376us/sample - loss: 0.2686 - accuracy: 0.9014 - val_loss: 0.2333 - val_accuracy: 0.9120\n",
      "Epoch 65/100\n",
      "54000/54000 [==============================] - 22s 404us/sample - loss: 0.2726 - accuracy: 0.8986 - val_loss: 0.2372 - val_accuracy: 0.9102\n",
      "Epoch 66/100\n",
      "54000/54000 [==============================] - 23s 426us/sample - loss: 0.2705 - accuracy: 0.9008 - val_loss: 0.2453 - val_accuracy: 0.9093\n",
      "Epoch 67/100\n",
      "53888/54000 [============================>.] - ETA: 0s - loss: 0.2708 - accuracy: 0.9009 ETA: 1s - losRestoring model weights from the end of the best epoch.\n",
      "54000/54000 [==============================] - 21s 390us/sample - loss: 0.2708 - accuracy: 0.9008 - val_loss: 0.2341 - val_accuracy: 0.9120\n",
      "Epoch 00067: early stopping\n",
      "Finished training.\n",
      "------------------\n",
      "Model: \"model\"\n",
      "_________________________________________________________________\n",
      "Layer (type)                 Output Shape              Param #   \n",
      "=================================================================\n",
      "Input (InputLayer)           [(None, 28, 28, 1)]       0         \n",
      "_________________________________________________________________\n",
      "Conv2D-1 (Conv2D)            (None, 28, 28, 8)         80        \n",
      "_________________________________________________________________\n",
      "MaxPool2D-1 (MaxPooling2D)   (None, 14, 14, 8)         0         \n",
      "_________________________________________________________________\n",
      "Dropout-1 (Dropout)          (None, 14, 14, 8)         0         \n",
      "_________________________________________________________________\n",
      "Conv2D-2 (Conv2D)            (None, 14, 14, 16)        1168      \n",
      "_________________________________________________________________\n",
      "MaxPool2D-2 (MaxPooling2D)   (None, 7, 7, 16)          0         \n",
      "_________________________________________________________________\n",
      "Dropout-2 (Dropout)          (None, 7, 7, 16)          0         \n",
      "_________________________________________________________________\n",
      "Conv2D-3 (Conv2D)            (None, 7, 7, 32)          4640      \n",
      "_________________________________________________________________\n",
      "MaxPool2D-3 (MaxPooling2D)   (None, 4, 4, 32)          0         \n",
      "_________________________________________________________________\n",
      "Dropout-3 (Dropout)          (None, 4, 4, 32)          0         \n",
      "_________________________________________________________________\n",
      "Flatten (Flatten)            (None, 512)               0         \n",
      "_________________________________________________________________\n",
      "Output (Dense)               (None, 10)                5130      \n",
      "=================================================================\n",
      "Total params: 11,018\n",
      "Trainable params: 11,018\n",
      "Non-trainable params: 0\n",
      "_________________________________________________________________\n"
     ]
    }
   ],
   "source": [
    "from tensorflow.keras.callbacks import EarlyStopping # Callback for early stopping\n",
    "\n",
    "# Using Adam\n",
    "optimizer = Adam()\n",
    "\n",
    "early_stopping = EarlyStopping(\n",
    "    monitor='val_accuracy',\n",
    "    patience=10,\n",
    "    verbose=1,\n",
    "    restore_best_weights=True\n",
    ")\n",
    "\n",
    "# 3 Convolutional Layers and Logistic Regression\n",
    "conv_drop_es_10_eval_model_adam, conv_drop_es_10_hs_adam = train_model(\n",
    "    optimizer=optimizer,\n",
    "    epochs=epochs,\n",
    "    batch_size=batch_size,\n",
    "    conv_layers=3,\n",
    "    conv_activation='relu',\n",
    "    conv_dropout=True,\n",
    "    output_activation='softmax',\n",
    "    callbacks=[early_stopping],\n",
    "    verbose=1\n",
    ")\n",
    "\n",
    "# Evaluate on test data and show all the results.\n",
    "conv_drop_es_10_eval_adam = conv_drop_es_10_eval_model_adam.evaluate(X_test, Y_test, verbose=0)\n",
    "clean_up(model=conv_drop_es_10_eval_model_adam)"
   ]
  },
  {
   "cell_type": "code",
   "execution_count": 15,
   "metadata": {},
   "outputs": [
    {
     "name": "stdout",
     "output_type": "stream",
     "text": [
      "Train Loss     : 0.27084\n",
      "Validation Loss: 0.23408\n",
      "Test Loss      : 0.24525\n",
      "---\n",
      "Train Accuracy     : 0.90081\n",
      "Validation Accuracy: 0.91200\n",
      "Test Accuracy      : 0.91220\n",
      "\n"
     ]
    },
    {
     "data": {
      "image/png": "[encoded data removed]",
      "text/plain": [
       "<Figure size 1008x360 with 2 Axes>"
      ]
     },
     "metadata": {
      "needs_background": "light"
     },
     "output_type": "display_data"
    }
   ],
   "source": [
    "print(\"Train Loss     : {0:.5f}\".format(conv_drop_es_10_hs_adam.history['loss'][-1]))\n",
    "print(\"Validation Loss: {0:.5f}\".format(conv_drop_es_10_hs_adam.history['val_loss'][-1]))\n",
    "print(\"Test Loss      : {0:.5f}\".format(conv_drop_es_10_eval_adam[0]))\n",
    "print(\"---\")\n",
    "print(\"Train Accuracy     : {0:.5f}\".format(conv_drop_es_10_hs_adam.history['accuracy'][-1]))\n",
    "print(\"Validation Accuracy: {0:.5f}\".format(conv_drop_es_10_hs_adam.history['val_accuracy'][-1]))\n",
    "print(\"Test Accuracy      : {0:.5f}\".format(conv_drop_es_10_eval_adam[1]))\n",
    "\n",
    "\n",
    "# Plot train and validation error per epoch.\n",
    "plot_history(history=conv_drop_es_10_hs_adam)"
   ]
  }
 ],
 "metadata": {
  "kernelspec": {
   "display_name": "Python 3",
   "language": "python",
   "name": "python3"
  },
  "language_info": {
   "codemirror_mode": {
    "name": "ipython",
    "version": 3
   },
   "file_extension": ".py",
   "mimetype": "text/x-python",
   "name": "python",
   "nbconvert_exporter": "python",
   "pygments_lexer": "ipython3",
   "version": "3.6.2"
  }
 },
 "nbformat": 4,
 "nbformat_minor": 2
}

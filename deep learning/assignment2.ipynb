{
  "nbformat": 4,
  "nbformat_minor": 0,
  "metadata": {
    "kernelspec": {
      "display_name": "Python 3",
      "language": "python",
      "name": "python3"
    },
    "language_info": {
      "codemirror_mode": {
        "name": "ipython",
        "version": 3
      },
      "file_extension": ".py",
      "mimetype": "text/x-python",
      "name": "python",
      "nbconvert_exporter": "python",
      "pygments_lexer": "ipython3",
      "version": "3.6.2"
    },
    "colab": {
      "name": "saltos_assignment2.ipynb",
      "provenance": [],
      "collapsed_sections": []
    },
    "accelerator": "GPU"
  },
  "cells": [
    {
      "cell_type": "markdown",
      "metadata": {
        "id": "QlBzBFPqvMQv"
      },
      "source": [
        "# Assignment 2: Abnormality Detection in bone X-Rays"
      ]
    },
    {
      "cell_type": "markdown",
      "metadata": {
        "id": "Kj6SSHYAvMQy"
      },
      "source": [
        "## Name: Thomas Saltos"
      ]
    },
    {
      "cell_type": "markdown",
      "metadata": {
        "id": "yvjHhCOvvMQz"
      },
      "source": [
        "## Setup"
      ]
    },
    {
      "cell_type": "code",
      "metadata": {
        "id": "1nlEZQOSvMQz"
      },
      "source": [
        "import tensorflow as tf\n",
        "\n",
        "from tensorflow.keras.models import Sequential, Model\n",
        "from tensorflow.keras.layers import Dense, Conv2D, Flatten, Dropout, MaxPooling2D, \\\n",
        "  Activation, BatchNormalization, GlobalMaxPool2D, Input, TimeDistributed, LSTM, \\\n",
        "  GlobalAveragePooling2D, MaxPool2D\n",
        "from tensorflow.keras.preprocessing.image import ImageDataGenerator\n",
        "from tensorflow.keras.callbacks import ModelCheckpoint, EarlyStopping\n",
        "from tensorflow.keras.optimizers import Adam\n",
        "from tensorflow.keras import regularizers\n",
        "from tensorflow.keras.applications import ResNet50\n",
        "\n",
        "import os\n",
        "import numpy as np\n",
        "import pandas as pd\n",
        "import matplotlib.pyplot as plt\n",
        "import matplotlib.image as mpimg\n",
        "from IPython import display\n",
        "from PIL import Image\n",
        "import keras\n",
        "import cv2\n",
        "\n",
        "%matplotlib inline"
      ],
      "execution_count": null,
      "outputs": []
    },
    {
      "cell_type": "code",
      "metadata": {
        "colab": {
          "base_uri": "https://localhost:8080/"
        },
        "id": "R-R2gnSuvOl8",
        "outputId": "3644f48f-136e-45d1-8d4e-4e4476c62520"
      },
      "source": [
        "from google.colab import drive\n",
        "drive.mount('/content/gdrive')"
      ],
      "execution_count": null,
      "outputs": [
        {
          "output_type": "stream",
          "text": [
            "Mounted at /content/gdrive\n"
          ],
          "name": "stdout"
        }
      ]
    },
    {
      "cell_type": "code",
      "metadata": {
        "colab": {
          "base_uri": "https://localhost:8080/"
        },
        "id": "PH7mNc6avUZC",
        "outputId": "215ddbb8-e2a4-40de-f36c-1cd2585afac6"
      },
      "source": [
        "!wget https://cs.stanford.edu/group/mlgroup/MURA-v1.1.zip&h=8a19c68b1f588cf524e147a7e4507d5a5a31b0cb269f1efc5994904f1a9f8537&v=1&xid=02a1946207&uid=55365305&pool=contact_facing&subject=MURA-v1.1%3A+Link+To+Dataset"
      ],
      "execution_count": null,
      "outputs": [
        {
          "output_type": "stream",
          "text": [
            "--2021-04-04 14:14:39--  https://cs.stanford.edu/group/mlgroup/MURA-v1.1.zip\n",
            "Resolving cs.stanford.edu (cs.stanford.edu)... 171.64.64.64\n",
            "Connecting to cs.stanford.edu (cs.stanford.edu)|171.64.64.64|:443... connected.\n",
            "HTTP request sent, awaiting response... 200 OK\n",
            "Length: 3380245855 (3.1G) [application/zip]\n",
            "Saving to: ‘MURA-v1.1.zip’\n",
            "\n",
            "MURA-v1.1.zip       100%[===================>]   3.15G  14.0MB/s    in 3m 57s  \n",
            "\n",
            "2021-04-04 14:18:37 (13.6 MB/s) - ‘MURA-v1.1.zip’ saved [3380245855/3380245855]\n",
            "\n"
          ],
          "name": "stdout"
        }
      ]
    },
    {
      "cell_type": "code",
      "metadata": {
        "id": "kSWPC9wxPIPr"
      },
      "source": [
        "!cp \"MURA-v1.1.zip\" \"/content/gdrive/MyDrive\""
      ],
      "execution_count": null,
      "outputs": []
    },
    {
      "cell_type": "code",
      "metadata": {
        "id": "puulWx6URJJO"
      },
      "source": [
        "!cp \"/content/gdrive/MyDrive/MURA-v1.1.zip\" \"/content/\""
      ],
      "execution_count": null,
      "outputs": []
    },
    {
      "cell_type": "code",
      "metadata": {
        "id": "KdP6n8eh3HRP"
      },
      "source": [
        "%%capture\n",
        "!unzip MURA-v1.1.zip"
      ],
      "execution_count": null,
      "outputs": []
    },
    {
      "cell_type": "code",
      "metadata": {
        "colab": {
          "base_uri": "https://localhost:8080/"
        },
        "id": "gIRMrv4wNvpe",
        "outputId": "6b3a2edd-5e0e-43bb-f740-d48e88cbf005"
      },
      "source": [
        "!nvidia-smi"
      ],
      "execution_count": null,
      "outputs": [
        {
          "output_type": "stream",
          "text": [
            "Wed Apr 14 09:35:33 2021       \n",
            "+-----------------------------------------------------------------------------+\n",
            "| NVIDIA-SMI 460.67       Driver Version: 460.32.03    CUDA Version: 11.2     |\n",
            "|-------------------------------+----------------------+----------------------+\n",
            "| GPU  Name        Persistence-M| Bus-Id        Disp.A | Volatile Uncorr. ECC |\n",
            "| Fan  Temp  Perf  Pwr:Usage/Cap|         Memory-Usage | GPU-Util  Compute M. |\n",
            "|                               |                      |               MIG M. |\n",
            "|===============================+======================+======================|\n",
            "|   0  Tesla K80           Off  | 00000000:00:04.0 Off |                    0 |\n",
            "| N/A   73C    P8    33W / 149W |      0MiB / 11441MiB |      0%      Default |\n",
            "|                               |                      |                  N/A |\n",
            "+-------------------------------+----------------------+----------------------+\n",
            "                                                                               \n",
            "+-----------------------------------------------------------------------------+\n",
            "| Processes:                                                                  |\n",
            "|  GPU   GI   CI        PID   Type   Process name                  GPU Memory |\n",
            "|        ID   ID                                                   Usage      |\n",
            "|=============================================================================|\n",
            "|  No running processes found                                                 |\n",
            "+-----------------------------------------------------------------------------+\n"
          ],
          "name": "stdout"
        }
      ]
    },
    {
      "cell_type": "markdown",
      "metadata": {
        "id": "tcBFNl4PvMQ0"
      },
      "source": [
        "## Data Exploration"
      ]
    },
    {
      "cell_type": "markdown",
      "metadata": {
        "id": "wuw-tKMq63lh"
      },
      "source": [
        "* Load image paths from `train_image_paths.csv` and `valid_image_paths.csv`\n",
        "* Load labels from `train_labeled_studies.csv` and `valid_labeled_studies.csv`\n",
        "* Add study path to dataframe with image paths.\n",
        "* Groupby path to get a list of images from a study.\n",
        "* Merge image paths and labels to get a final dataframe for the task.\n",
        "* The images for each study are dublicated in order to have the same number of images in all studies.\n",
        "* After a search in the dataset I decide to have 6 images for each study.\n",
        "* Finally, display some images."
      ]
    },
    {
      "cell_type": "code",
      "metadata": {
        "colab": {
          "base_uri": "https://localhost:8080/",
          "height": 402
        },
        "id": "ZseG7oi1vMQ0",
        "outputId": "e4ae71c3-5ebe-4580-aa6f-30e307246608"
      },
      "source": [
        "train_image_paths = pd.read_csv('MURA-v1.1/train_image_paths.csv', header=None, names=['path'])\n",
        "val_image_paths = pd.read_csv('MURA-v1.1/valid_image_paths.csv', header=None, names=['path'])\n",
        "train_image_paths"
      ],
      "execution_count": null,
      "outputs": [
        {
          "output_type": "execute_result",
          "data": {
            "text/html": [
              "<div>\n",
              "<style scoped>\n",
              "    .dataframe tbody tr th:only-of-type {\n",
              "        vertical-align: middle;\n",
              "    }\n",
              "\n",
              "    .dataframe tbody tr th {\n",
              "        vertical-align: top;\n",
              "    }\n",
              "\n",
              "    .dataframe thead th {\n",
              "        text-align: right;\n",
              "    }\n",
              "</style>\n",
              "<table border=\"1\" class=\"dataframe\">\n",
              "  <thead>\n",
              "    <tr style=\"text-align: right;\">\n",
              "      <th></th>\n",
              "      <th>path</th>\n",
              "    </tr>\n",
              "  </thead>\n",
              "  <tbody>\n",
              "    <tr>\n",
              "      <th>0</th>\n",
              "      <td>MURA-v1.1/train/XR_SHOULDER/patient00001/study...</td>\n",
              "    </tr>\n",
              "    <tr>\n",
              "      <th>1</th>\n",
              "      <td>MURA-v1.1/train/XR_SHOULDER/patient00001/study...</td>\n",
              "    </tr>\n",
              "    <tr>\n",
              "      <th>2</th>\n",
              "      <td>MURA-v1.1/train/XR_SHOULDER/patient00001/study...</td>\n",
              "    </tr>\n",
              "    <tr>\n",
              "      <th>3</th>\n",
              "      <td>MURA-v1.1/train/XR_SHOULDER/patient00002/study...</td>\n",
              "    </tr>\n",
              "    <tr>\n",
              "      <th>4</th>\n",
              "      <td>MURA-v1.1/train/XR_SHOULDER/patient00002/study...</td>\n",
              "    </tr>\n",
              "    <tr>\n",
              "      <th>...</th>\n",
              "      <td>...</td>\n",
              "    </tr>\n",
              "    <tr>\n",
              "      <th>36803</th>\n",
              "      <td>MURA-v1.1/train/XR_HAND/patient11183/study1_ne...</td>\n",
              "    </tr>\n",
              "    <tr>\n",
              "      <th>36804</th>\n",
              "      <td>MURA-v1.1/train/XR_HAND/patient11183/study1_ne...</td>\n",
              "    </tr>\n",
              "    <tr>\n",
              "      <th>36805</th>\n",
              "      <td>MURA-v1.1/train/XR_HAND/patient11184/study1_ne...</td>\n",
              "    </tr>\n",
              "    <tr>\n",
              "      <th>36806</th>\n",
              "      <td>MURA-v1.1/train/XR_HAND/patient11184/study1_ne...</td>\n",
              "    </tr>\n",
              "    <tr>\n",
              "      <th>36807</th>\n",
              "      <td>MURA-v1.1/train/XR_HAND/patient11184/study1_ne...</td>\n",
              "    </tr>\n",
              "  </tbody>\n",
              "</table>\n",
              "<p>36808 rows × 1 columns</p>\n",
              "</div>"
            ],
            "text/plain": [
              "                                                    path\n",
              "0      MURA-v1.1/train/XR_SHOULDER/patient00001/study...\n",
              "1      MURA-v1.1/train/XR_SHOULDER/patient00001/study...\n",
              "2      MURA-v1.1/train/XR_SHOULDER/patient00001/study...\n",
              "3      MURA-v1.1/train/XR_SHOULDER/patient00002/study...\n",
              "4      MURA-v1.1/train/XR_SHOULDER/patient00002/study...\n",
              "...                                                  ...\n",
              "36803  MURA-v1.1/train/XR_HAND/patient11183/study1_ne...\n",
              "36804  MURA-v1.1/train/XR_HAND/patient11183/study1_ne...\n",
              "36805  MURA-v1.1/train/XR_HAND/patient11184/study1_ne...\n",
              "36806  MURA-v1.1/train/XR_HAND/patient11184/study1_ne...\n",
              "36807  MURA-v1.1/train/XR_HAND/patient11184/study1_ne...\n",
              "\n",
              "[36808 rows x 1 columns]"
            ]
          },
          "metadata": {
            "tags": []
          },
          "execution_count": 6
        }
      ]
    },
    {
      "cell_type": "code",
      "metadata": {
        "colab": {
          "base_uri": "https://localhost:8080/",
          "height": 402
        },
        "id": "NM4EjNRzvMQ0",
        "outputId": "7f71108d-5e20-4de8-c151-a4c8627d764c"
      },
      "source": [
        "train_labels = pd.read_csv('MURA-v1.1/train_labeled_studies.csv', header=None, names=['path', 'label'])\n",
        "val_labels = pd.read_csv('MURA-v1.1/valid_labeled_studies.csv', header=None, names=['path', 'label'])\n",
        "train_labels"
      ],
      "execution_count": null,
      "outputs": [
        {
          "output_type": "execute_result",
          "data": {
            "text/html": [
              "<div>\n",
              "<style scoped>\n",
              "    .dataframe tbody tr th:only-of-type {\n",
              "        vertical-align: middle;\n",
              "    }\n",
              "\n",
              "    .dataframe tbody tr th {\n",
              "        vertical-align: top;\n",
              "    }\n",
              "\n",
              "    .dataframe thead th {\n",
              "        text-align: right;\n",
              "    }\n",
              "</style>\n",
              "<table border=\"1\" class=\"dataframe\">\n",
              "  <thead>\n",
              "    <tr style=\"text-align: right;\">\n",
              "      <th></th>\n",
              "      <th>path</th>\n",
              "      <th>label</th>\n",
              "    </tr>\n",
              "  </thead>\n",
              "  <tbody>\n",
              "    <tr>\n",
              "      <th>0</th>\n",
              "      <td>MURA-v1.1/train/XR_SHOULDER/patient00001/study...</td>\n",
              "      <td>1</td>\n",
              "    </tr>\n",
              "    <tr>\n",
              "      <th>1</th>\n",
              "      <td>MURA-v1.1/train/XR_SHOULDER/patient00002/study...</td>\n",
              "      <td>1</td>\n",
              "    </tr>\n",
              "    <tr>\n",
              "      <th>2</th>\n",
              "      <td>MURA-v1.1/train/XR_SHOULDER/patient00003/study...</td>\n",
              "      <td>1</td>\n",
              "    </tr>\n",
              "    <tr>\n",
              "      <th>3</th>\n",
              "      <td>MURA-v1.1/train/XR_SHOULDER/patient00004/study...</td>\n",
              "      <td>1</td>\n",
              "    </tr>\n",
              "    <tr>\n",
              "      <th>4</th>\n",
              "      <td>MURA-v1.1/train/XR_SHOULDER/patient00005/study...</td>\n",
              "      <td>1</td>\n",
              "    </tr>\n",
              "    <tr>\n",
              "      <th>...</th>\n",
              "      <td>...</td>\n",
              "      <td>...</td>\n",
              "    </tr>\n",
              "    <tr>\n",
              "      <th>13452</th>\n",
              "      <td>MURA-v1.1/train/XR_HAND/patient11180/study1_ne...</td>\n",
              "      <td>0</td>\n",
              "    </tr>\n",
              "    <tr>\n",
              "      <th>13453</th>\n",
              "      <td>MURA-v1.1/train/XR_HAND/patient11181/study1_ne...</td>\n",
              "      <td>0</td>\n",
              "    </tr>\n",
              "    <tr>\n",
              "      <th>13454</th>\n",
              "      <td>MURA-v1.1/train/XR_HAND/patient11182/study1_ne...</td>\n",
              "      <td>0</td>\n",
              "    </tr>\n",
              "    <tr>\n",
              "      <th>13455</th>\n",
              "      <td>MURA-v1.1/train/XR_HAND/patient11183/study1_ne...</td>\n",
              "      <td>0</td>\n",
              "    </tr>\n",
              "    <tr>\n",
              "      <th>13456</th>\n",
              "      <td>MURA-v1.1/train/XR_HAND/patient11184/study1_ne...</td>\n",
              "      <td>0</td>\n",
              "    </tr>\n",
              "  </tbody>\n",
              "</table>\n",
              "<p>13457 rows × 2 columns</p>\n",
              "</div>"
            ],
            "text/plain": [
              "                                                    path  label\n",
              "0      MURA-v1.1/train/XR_SHOULDER/patient00001/study...      1\n",
              "1      MURA-v1.1/train/XR_SHOULDER/patient00002/study...      1\n",
              "2      MURA-v1.1/train/XR_SHOULDER/patient00003/study...      1\n",
              "3      MURA-v1.1/train/XR_SHOULDER/patient00004/study...      1\n",
              "4      MURA-v1.1/train/XR_SHOULDER/patient00005/study...      1\n",
              "...                                                  ...    ...\n",
              "13452  MURA-v1.1/train/XR_HAND/patient11180/study1_ne...      0\n",
              "13453  MURA-v1.1/train/XR_HAND/patient11181/study1_ne...      0\n",
              "13454  MURA-v1.1/train/XR_HAND/patient11182/study1_ne...      0\n",
              "13455  MURA-v1.1/train/XR_HAND/patient11183/study1_ne...      0\n",
              "13456  MURA-v1.1/train/XR_HAND/patient11184/study1_ne...      0\n",
              "\n",
              "[13457 rows x 2 columns]"
            ]
          },
          "metadata": {
            "tags": []
          },
          "execution_count": 7
        }
      ]
    },
    {
      "cell_type": "code",
      "metadata": {
        "colab": {
          "base_uri": "https://localhost:8080/",
          "height": 195
        },
        "id": "Cjp_FNP6vMQ1",
        "outputId": "2b9fae06-46a9-4753-f597-41190dbe6a32"
      },
      "source": [
        "def add_path(p):\n",
        "    return p.split('image')[0]\n",
        "\n",
        "train_image_paths.rename(columns = {'path':'image_path'}, inplace = True)\n",
        "val_image_paths.rename(columns = {'path':'image_path'}, inplace = True)\n",
        "\n",
        "train_image_paths[\"path\"]=train_image_paths[\"image_path\"].apply(add_path)\n",
        "val_image_paths[\"path\"]=val_image_paths[\"image_path\"].apply(add_path)\n",
        "\n",
        "train_image_paths.head()"
      ],
      "execution_count": null,
      "outputs": [
        {
          "output_type": "execute_result",
          "data": {
            "text/html": [
              "<div>\n",
              "<style scoped>\n",
              "    .dataframe tbody tr th:only-of-type {\n",
              "        vertical-align: middle;\n",
              "    }\n",
              "\n",
              "    .dataframe tbody tr th {\n",
              "        vertical-align: top;\n",
              "    }\n",
              "\n",
              "    .dataframe thead th {\n",
              "        text-align: right;\n",
              "    }\n",
              "</style>\n",
              "<table border=\"1\" class=\"dataframe\">\n",
              "  <thead>\n",
              "    <tr style=\"text-align: right;\">\n",
              "      <th></th>\n",
              "      <th>image_path</th>\n",
              "      <th>path</th>\n",
              "    </tr>\n",
              "  </thead>\n",
              "  <tbody>\n",
              "    <tr>\n",
              "      <th>0</th>\n",
              "      <td>MURA-v1.1/train/XR_SHOULDER/patient00001/study...</td>\n",
              "      <td>MURA-v1.1/train/XR_SHOULDER/patient00001/study...</td>\n",
              "    </tr>\n",
              "    <tr>\n",
              "      <th>1</th>\n",
              "      <td>MURA-v1.1/train/XR_SHOULDER/patient00001/study...</td>\n",
              "      <td>MURA-v1.1/train/XR_SHOULDER/patient00001/study...</td>\n",
              "    </tr>\n",
              "    <tr>\n",
              "      <th>2</th>\n",
              "      <td>MURA-v1.1/train/XR_SHOULDER/patient00001/study...</td>\n",
              "      <td>MURA-v1.1/train/XR_SHOULDER/patient00001/study...</td>\n",
              "    </tr>\n",
              "    <tr>\n",
              "      <th>3</th>\n",
              "      <td>MURA-v1.1/train/XR_SHOULDER/patient00002/study...</td>\n",
              "      <td>MURA-v1.1/train/XR_SHOULDER/patient00002/study...</td>\n",
              "    </tr>\n",
              "    <tr>\n",
              "      <th>4</th>\n",
              "      <td>MURA-v1.1/train/XR_SHOULDER/patient00002/study...</td>\n",
              "      <td>MURA-v1.1/train/XR_SHOULDER/patient00002/study...</td>\n",
              "    </tr>\n",
              "  </tbody>\n",
              "</table>\n",
              "</div>"
            ],
            "text/plain": [
              "                                          image_path                                               path\n",
              "0  MURA-v1.1/train/XR_SHOULDER/patient00001/study...  MURA-v1.1/train/XR_SHOULDER/patient00001/study...\n",
              "1  MURA-v1.1/train/XR_SHOULDER/patient00001/study...  MURA-v1.1/train/XR_SHOULDER/patient00001/study...\n",
              "2  MURA-v1.1/train/XR_SHOULDER/patient00001/study...  MURA-v1.1/train/XR_SHOULDER/patient00001/study...\n",
              "3  MURA-v1.1/train/XR_SHOULDER/patient00002/study...  MURA-v1.1/train/XR_SHOULDER/patient00002/study...\n",
              "4  MURA-v1.1/train/XR_SHOULDER/patient00002/study...  MURA-v1.1/train/XR_SHOULDER/patient00002/study..."
            ]
          },
          "metadata": {
            "tags": []
          },
          "execution_count": 8
        }
      ]
    },
    {
      "cell_type": "code",
      "metadata": {
        "colab": {
          "base_uri": "https://localhost:8080/",
          "height": 402
        },
        "id": "tcgRtzi2Wf58",
        "outputId": "82a1a8ec-31b9-4e7d-acb0-cfea73604c3d"
      },
      "source": [
        "train_image_paths = train_image_paths.groupby('path')['image_path'].apply(list).reset_index()\n",
        "val_image_paths = val_image_paths.groupby('path')['image_path'].apply(list).reset_index()\n",
        "train_image_paths.rename(columns = {'image_path':'images'}, inplace = True)\n",
        "val_image_paths.rename(columns = {'image_path':'images'}, inplace = True)\n",
        "train_image_paths"
      ],
      "execution_count": null,
      "outputs": [
        {
          "output_type": "execute_result",
          "data": {
            "text/html": [
              "<div>\n",
              "<style scoped>\n",
              "    .dataframe tbody tr th:only-of-type {\n",
              "        vertical-align: middle;\n",
              "    }\n",
              "\n",
              "    .dataframe tbody tr th {\n",
              "        vertical-align: top;\n",
              "    }\n",
              "\n",
              "    .dataframe thead th {\n",
              "        text-align: right;\n",
              "    }\n",
              "</style>\n",
              "<table border=\"1\" class=\"dataframe\">\n",
              "  <thead>\n",
              "    <tr style=\"text-align: right;\">\n",
              "      <th></th>\n",
              "      <th>path</th>\n",
              "      <th>images</th>\n",
              "    </tr>\n",
              "  </thead>\n",
              "  <tbody>\n",
              "    <tr>\n",
              "      <th>0</th>\n",
              "      <td>MURA-v1.1/train/XR_ELBOW/patient00011/study1_n...</td>\n",
              "      <td>[MURA-v1.1/train/XR_ELBOW/patient00011/study1_...</td>\n",
              "    </tr>\n",
              "    <tr>\n",
              "      <th>1</th>\n",
              "      <td>MURA-v1.1/train/XR_ELBOW/patient00016/study1_p...</td>\n",
              "      <td>[MURA-v1.1/train/XR_ELBOW/patient00016/study1_...</td>\n",
              "    </tr>\n",
              "    <tr>\n",
              "      <th>2</th>\n",
              "      <td>MURA-v1.1/train/XR_ELBOW/patient00026/study1_n...</td>\n",
              "      <td>[MURA-v1.1/train/XR_ELBOW/patient00026/study1_...</td>\n",
              "    </tr>\n",
              "    <tr>\n",
              "      <th>3</th>\n",
              "      <td>MURA-v1.1/train/XR_ELBOW/patient00031/study1_n...</td>\n",
              "      <td>[MURA-v1.1/train/XR_ELBOW/patient00031/study1_...</td>\n",
              "    </tr>\n",
              "    <tr>\n",
              "      <th>4</th>\n",
              "      <td>MURA-v1.1/train/XR_ELBOW/patient00034/study1_p...</td>\n",
              "      <td>[MURA-v1.1/train/XR_ELBOW/patient00034/study1_...</td>\n",
              "    </tr>\n",
              "    <tr>\n",
              "      <th>...</th>\n",
              "      <td>...</td>\n",
              "      <td>...</td>\n",
              "    </tr>\n",
              "    <tr>\n",
              "      <th>13452</th>\n",
              "      <td>MURA-v1.1/train/XR_WRIST/patient09078/study1_n...</td>\n",
              "      <td>[MURA-v1.1/train/XR_WRIST/patient09078/study1_...</td>\n",
              "    </tr>\n",
              "    <tr>\n",
              "      <th>13453</th>\n",
              "      <td>MURA-v1.1/train/XR_WRIST/patient09079/study1_n...</td>\n",
              "      <td>[MURA-v1.1/train/XR_WRIST/patient09079/study1_...</td>\n",
              "    </tr>\n",
              "    <tr>\n",
              "      <th>13454</th>\n",
              "      <td>MURA-v1.1/train/XR_WRIST/patient09080/study1_n...</td>\n",
              "      <td>[MURA-v1.1/train/XR_WRIST/patient09080/study1_...</td>\n",
              "    </tr>\n",
              "    <tr>\n",
              "      <th>13455</th>\n",
              "      <td>MURA-v1.1/train/XR_WRIST/patient09081/study1_n...</td>\n",
              "      <td>[MURA-v1.1/train/XR_WRIST/patient09081/study1_...</td>\n",
              "    </tr>\n",
              "    <tr>\n",
              "      <th>13456</th>\n",
              "      <td>MURA-v1.1/train/XR_WRIST/patient09082/study1_n...</td>\n",
              "      <td>[MURA-v1.1/train/XR_WRIST/patient09082/study1_...</td>\n",
              "    </tr>\n",
              "  </tbody>\n",
              "</table>\n",
              "<p>13457 rows × 2 columns</p>\n",
              "</div>"
            ],
            "text/plain": [
              "                                                    path                                             images\n",
              "0      MURA-v1.1/train/XR_ELBOW/patient00011/study1_n...  [MURA-v1.1/train/XR_ELBOW/patient00011/study1_...\n",
              "1      MURA-v1.1/train/XR_ELBOW/patient00016/study1_p...  [MURA-v1.1/train/XR_ELBOW/patient00016/study1_...\n",
              "2      MURA-v1.1/train/XR_ELBOW/patient00026/study1_n...  [MURA-v1.1/train/XR_ELBOW/patient00026/study1_...\n",
              "3      MURA-v1.1/train/XR_ELBOW/patient00031/study1_n...  [MURA-v1.1/train/XR_ELBOW/patient00031/study1_...\n",
              "4      MURA-v1.1/train/XR_ELBOW/patient00034/study1_p...  [MURA-v1.1/train/XR_ELBOW/patient00034/study1_...\n",
              "...                                                  ...                                                ...\n",
              "13452  MURA-v1.1/train/XR_WRIST/patient09078/study1_n...  [MURA-v1.1/train/XR_WRIST/patient09078/study1_...\n",
              "13453  MURA-v1.1/train/XR_WRIST/patient09079/study1_n...  [MURA-v1.1/train/XR_WRIST/patient09079/study1_...\n",
              "13454  MURA-v1.1/train/XR_WRIST/patient09080/study1_n...  [MURA-v1.1/train/XR_WRIST/patient09080/study1_...\n",
              "13455  MURA-v1.1/train/XR_WRIST/patient09081/study1_n...  [MURA-v1.1/train/XR_WRIST/patient09081/study1_...\n",
              "13456  MURA-v1.1/train/XR_WRIST/patient09082/study1_n...  [MURA-v1.1/train/XR_WRIST/patient09082/study1_...\n",
              "\n",
              "[13457 rows x 2 columns]"
            ]
          },
          "metadata": {
            "tags": []
          },
          "execution_count": 9
        }
      ]
    },
    {
      "cell_type": "code",
      "metadata": {
        "colab": {
          "base_uri": "https://localhost:8080/",
          "height": 402
        },
        "id": "9iWbqMtlvMQ1",
        "outputId": "ad05f5b4-7a49-4e3f-c618-ae5865abb7d6"
      },
      "source": [
        "train_df = pd.merge(train_image_paths, train_labels, on='path', how='left', suffixes=('_im_p', '_lbl_p'))\n",
        "valid_df = pd.merge(val_image_paths, val_labels, on='path', how='left', suffixes=('_im_p', '_lbl_p'))\n",
        "train_df.drop('path', axis=1, inplace=True)\n",
        "valid_df.drop('path', axis=1, inplace=True)\n",
        "train_df"
      ],
      "execution_count": null,
      "outputs": [
        {
          "output_type": "execute_result",
          "data": {
            "text/html": [
              "<div>\n",
              "<style scoped>\n",
              "    .dataframe tbody tr th:only-of-type {\n",
              "        vertical-align: middle;\n",
              "    }\n",
              "\n",
              "    .dataframe tbody tr th {\n",
              "        vertical-align: top;\n",
              "    }\n",
              "\n",
              "    .dataframe thead th {\n",
              "        text-align: right;\n",
              "    }\n",
              "</style>\n",
              "<table border=\"1\" class=\"dataframe\">\n",
              "  <thead>\n",
              "    <tr style=\"text-align: right;\">\n",
              "      <th></th>\n",
              "      <th>images</th>\n",
              "      <th>label</th>\n",
              "    </tr>\n",
              "  </thead>\n",
              "  <tbody>\n",
              "    <tr>\n",
              "      <th>0</th>\n",
              "      <td>[MURA-v1.1/train/XR_ELBOW/patient00011/study1_...</td>\n",
              "      <td>0</td>\n",
              "    </tr>\n",
              "    <tr>\n",
              "      <th>1</th>\n",
              "      <td>[MURA-v1.1/train/XR_ELBOW/patient00016/study1_...</td>\n",
              "      <td>1</td>\n",
              "    </tr>\n",
              "    <tr>\n",
              "      <th>2</th>\n",
              "      <td>[MURA-v1.1/train/XR_ELBOW/patient00026/study1_...</td>\n",
              "      <td>0</td>\n",
              "    </tr>\n",
              "    <tr>\n",
              "      <th>3</th>\n",
              "      <td>[MURA-v1.1/train/XR_ELBOW/patient00031/study1_...</td>\n",
              "      <td>0</td>\n",
              "    </tr>\n",
              "    <tr>\n",
              "      <th>4</th>\n",
              "      <td>[MURA-v1.1/train/XR_ELBOW/patient00034/study1_...</td>\n",
              "      <td>1</td>\n",
              "    </tr>\n",
              "    <tr>\n",
              "      <th>...</th>\n",
              "      <td>...</td>\n",
              "      <td>...</td>\n",
              "    </tr>\n",
              "    <tr>\n",
              "      <th>13452</th>\n",
              "      <td>[MURA-v1.1/train/XR_WRIST/patient09078/study1_...</td>\n",
              "      <td>0</td>\n",
              "    </tr>\n",
              "    <tr>\n",
              "      <th>13453</th>\n",
              "      <td>[MURA-v1.1/train/XR_WRIST/patient09079/study1_...</td>\n",
              "      <td>0</td>\n",
              "    </tr>\n",
              "    <tr>\n",
              "      <th>13454</th>\n",
              "      <td>[MURA-v1.1/train/XR_WRIST/patient09080/study1_...</td>\n",
              "      <td>0</td>\n",
              "    </tr>\n",
              "    <tr>\n",
              "      <th>13455</th>\n",
              "      <td>[MURA-v1.1/train/XR_WRIST/patient09081/study1_...</td>\n",
              "      <td>0</td>\n",
              "    </tr>\n",
              "    <tr>\n",
              "      <th>13456</th>\n",
              "      <td>[MURA-v1.1/train/XR_WRIST/patient09082/study1_...</td>\n",
              "      <td>0</td>\n",
              "    </tr>\n",
              "  </tbody>\n",
              "</table>\n",
              "<p>13457 rows × 2 columns</p>\n",
              "</div>"
            ],
            "text/plain": [
              "                                                  images  label\n",
              "0      [MURA-v1.1/train/XR_ELBOW/patient00011/study1_...      0\n",
              "1      [MURA-v1.1/train/XR_ELBOW/patient00016/study1_...      1\n",
              "2      [MURA-v1.1/train/XR_ELBOW/patient00026/study1_...      0\n",
              "3      [MURA-v1.1/train/XR_ELBOW/patient00031/study1_...      0\n",
              "4      [MURA-v1.1/train/XR_ELBOW/patient00034/study1_...      1\n",
              "...                                                  ...    ...\n",
              "13452  [MURA-v1.1/train/XR_WRIST/patient09078/study1_...      0\n",
              "13453  [MURA-v1.1/train/XR_WRIST/patient09079/study1_...      0\n",
              "13454  [MURA-v1.1/train/XR_WRIST/patient09080/study1_...      0\n",
              "13455  [MURA-v1.1/train/XR_WRIST/patient09081/study1_...      0\n",
              "13456  [MURA-v1.1/train/XR_WRIST/patient09082/study1_...      0\n",
              "\n",
              "[13457 rows x 2 columns]"
            ]
          },
          "metadata": {
            "tags": []
          },
          "execution_count": 10
        }
      ]
    },
    {
      "cell_type": "code",
      "metadata": {
        "id": "2hPwYy-c-jmH"
      },
      "source": [
        "from itertools import cycle\n",
        "\n",
        "def dublicate_images(imlist):\n",
        "  if len(imlist)<6:\n",
        "    myiter = cycle(imlist)\n",
        "    imlist = [next(myiter) for _ in range(6)]\n",
        "  return imlist\n",
        "\n",
        "train_df[\"images\"]=train_df[\"images\"].apply(dublicate_images)\n",
        "valid_df[\"images\"]=valid_df[\"images\"].apply(dublicate_images)"
      ],
      "execution_count": null,
      "outputs": []
    },
    {
      "cell_type": "code",
      "metadata": {
        "colab": {
          "base_uri": "https://localhost:8080/"
        },
        "id": "rHKNY8rIvMQ2",
        "outputId": "ec9bfc4f-4517-4424-90ee-b33714882ea0"
      },
      "source": [
        "train_df.isnull().any()"
      ],
      "execution_count": null,
      "outputs": [
        {
          "output_type": "execute_result",
          "data": {
            "text/plain": [
              "images    False\n",
              "label     False\n",
              "dtype: bool"
            ]
          },
          "metadata": {
            "tags": []
          },
          "execution_count": 58
        }
      ]
    },
    {
      "cell_type": "code",
      "metadata": {
        "colab": {
          "base_uri": "https://localhost:8080/"
        },
        "id": "pxznqCaPvMQ3",
        "outputId": "a8422177-12f9-4dad-e44f-9201d4d04921"
      },
      "source": [
        "valid_df.isnull().any()"
      ],
      "execution_count": null,
      "outputs": [
        {
          "output_type": "execute_result",
          "data": {
            "text/plain": [
              "images    False\n",
              "label     False\n",
              "dtype: bool"
            ]
          },
          "metadata": {
            "tags": []
          },
          "execution_count": 59
        }
      ]
    },
    {
      "cell_type": "code",
      "metadata": {
        "id": "S9IwgcemvMQ3"
      },
      "source": [
        "def display_images(rows, cols, df):\n",
        "    \"\"\"\n",
        "    Plot first image foreach study\n",
        "    \n",
        "    params:\n",
        "    rows: number of rows to plot\n",
        "    cols: number of columns to plot\n",
        "    df: input dataframe\n",
        "    \"\"\"\n",
        "    plt.figure(figsize=(10,10))\n",
        "    for i in range(len(df)):\n",
        "        try:\n",
        "            p = df['images'][i][0]\n",
        "            image = mpimg.imread(p)\n",
        "            plt.subplot(rows, cols, i+1)\n",
        "            plt.xticks([])\n",
        "            plt.yticks([])\n",
        "            plt.grid(False)\n",
        "            plt.imshow(image, cmap=plt.cm.binary)\n",
        "            filename = p.split(\"/\")[3]\n",
        "            label = df['label'][i]\n",
        "            \n",
        "            plt.xlabel(filename + \"\\n\" + \"label: \" + str(label))\n",
        "        except FileNotFoundError:\n",
        "            pass"
      ],
      "execution_count": null,
      "outputs": []
    },
    {
      "cell_type": "code",
      "metadata": {
        "colab": {
          "base_uri": "https://localhost:8080/",
          "height": 600
        },
        "id": "wQ6K3zQDvMQ4",
        "outputId": "0910631b-e1c9-4e52-fb85-4656128ca7d5"
      },
      "source": [
        "display_images(rows=2, cols=2, df=train_df[:4])"
      ],
      "execution_count": null,
      "outputs": [
        {
          "output_type": "display_data",
          "data": {
            "image/png": "[encoded data removed]",
            "text/plain": [
              "<Figure size 720x720 with 4 Axes>"
            ]
          },
          "metadata": {
            "tags": []
          }
        }
      ]
    },
    {
      "cell_type": "markdown",
      "metadata": {
        "id": "4B4srwfZvMQ4"
      },
      "source": [
        "## Data Preprocessing"
      ]
    },
    {
      "cell_type": "markdown",
      "metadata": {
        "id": "Ep_yx7cO9a-c"
      },
      "source": [
        "* Split train dataset in training (80%) and validation (20%) and use validation dataset for testing perpuses.\n",
        "* Create custom generator to load dataset in batches and resize images to 96x96.\n",
        "* Each input image of the sequence must pass to a convolutional network. The goal is to train that model for each frame and then decide the class to infer. "
      ]
    },
    {
      "cell_type": "code",
      "metadata": {
        "id": "QiB92jSlWarj",
        "colab": {
          "base_uri": "https://localhost:8080/"
        },
        "outputId": "d9c9180f-4565-4e1f-b746-c33765d0bdbd"
      },
      "source": [
        "def train_test_split(df, test_size=0.2, random_state=1):\n",
        "  train=df.sample(frac=1-test_size, random_state=200) \n",
        "  test=df.drop(train.index)\n",
        "  return train, test\n",
        "\n",
        "train_set, validation_set = train_test_split(train_df, test_size=0.2)\n",
        "print(\"Length of train set: {}\".format(len(train_set)))\n",
        "print(\"Length of validation set: {}\".format(len(validation_set)))"
      ],
      "execution_count": null,
      "outputs": [
        {
          "output_type": "stream",
          "text": [
            "Length of train set: 10766\n",
            "Length of validation set: 2691\n"
          ],
          "name": "stdout"
        }
      ]
    },
    {
      "cell_type": "code",
      "metadata": {
        "id": "ufAD8lkfLZBm"
      },
      "source": [
        "from sklearn.utils import shuffle\n",
        "def data_generator(data, batch_size=10, shuffle_data=True, resize=(224,224)):              \n",
        "    \"\"\"\n",
        "    Yields the next training batch.\n",
        "    data is an array  [[[file1,file2,…,file6],label1], [file1,file2,…,file6],label2],……….].\n",
        "    \"\"\"\n",
        "    num_samples = len(data)\n",
        "    if shuffle_data:\n",
        "        data = shuffle(data)\n",
        "    while True:   \n",
        "        for offset in range(0, num_samples, batch_size): \n",
        "            # Get the samples you'll use in this batch\n",
        "            batch_samples = np.asarray(data[offset:offset+batch_size])\n",
        "            # Initialise X_train and y_train arrays for this batch\n",
        "            X_train = []\n",
        "            y_train = []\n",
        "            \n",
        "            # For each example\n",
        "            for batch_sample in batch_samples:\n",
        "                # Load list of images (X)\n",
        "                x = batch_sample[0]\n",
        "                # Read label (y)\n",
        "                y = batch_sample[1]\n",
        "                temp_data_list = []\n",
        "                c=0\n",
        "                for img in x:\n",
        "                    try:\n",
        "                        #load until 6 image in sequence\n",
        "                        c += 1\n",
        "                        if c > 6:\n",
        "                          break\n",
        "                        img = cv2.imread(img)\n",
        "                        #resize image\n",
        "                        img = cv2.resize(img,resize)\n",
        "                        temp_data_list.append(img)\n",
        "                    except Exception as e:\n",
        "                        print (e)\n",
        "                        print ('error reading file: ',img)                      \n",
        "                # Add example to arrays\n",
        "                X_train.append(temp_data_list)\n",
        "                y_train.append(y)\n",
        "    \n",
        "            # Make list numpy array\n",
        "            X_train = np.array(X_train)\n",
        "            #X_train = np.rollaxis(X_train,1,4)\n",
        "            y_train = np.array(y_train)\n",
        "            # create one hot encoding for training in keras\n",
        "            #y_train = keras.utils.to_categorical(y_train, 2)\n",
        "    \n",
        "            # yield the next training batch            \n",
        "            yield X_train, y_train"
      ],
      "execution_count": null,
      "outputs": []
    },
    {
      "cell_type": "code",
      "metadata": {
        "id": "M9SyRYxhMe3D"
      },
      "source": [
        "train_generator = data_generator(train_set, batch_size=64, shuffle_data=True, resize=(96,96))\n",
        "valid_generator = data_generator(validation_set, batch_size=64, shuffle_data=True, resize=(96,96))\n",
        "# test data\n",
        "test_generator = data_generator(valid_df, batch_size=64, shuffle_data=False, resize=(96,96))"
      ],
      "execution_count": null,
      "outputs": []
    },
    {
      "cell_type": "code",
      "metadata": {
        "id": "p7dgN3dbvMQ4"
      },
      "source": [
        "batch_size = 64\n",
        "epochs = 30\n",
        "IMG_HEIGHT = 96\n",
        "IMG_WIDTH = 96"
      ],
      "execution_count": null,
      "outputs": []
    },
    {
      "cell_type": "markdown",
      "metadata": {
        "id": "Y_oZ0HszvMQ7"
      },
      "source": [
        "## Build a CNN from scratch"
      ]
    },
    {
      "cell_type": "markdown",
      "metadata": {
        "id": "WfdDlTaLvMQ7"
      },
      "source": [
        "* create a cnn with input (96, 96, 3) and GlobalMaxPool2D as final layer\n",
        "* create model for the study classification with TimeDistributed layer.\n",
        "* add a GRU(64) cell\n",
        "* a dense layer with 512 units and a dense layer with 1 output."
      ]
    },
    {
      "cell_type": "code",
      "metadata": {
        "id": "1sGmlZJRPqWq"
      },
      "source": [
        "def build_cnn(shape=(IMG_HEIGHT, IMG_WIDTH, 3)):\n",
        "    momentum = .9\n",
        "    model = keras.Sequential()\n",
        "    model.add(Conv2D(64, (3,3), input_shape=shape,\n",
        "        padding='same', activation='relu'))\n",
        "    model.add(Conv2D(64, (3,3), padding='same', activation='relu'))\n",
        "    model.add(BatchNormalization(momentum=momentum))\n",
        "    \n",
        "    model.add(MaxPool2D())\n",
        "    \n",
        "    model.add(Conv2D(128, (3,3), padding='same', activation='relu'))\n",
        "    model.add(Conv2D(128, (3,3), padding='same', activation='relu'))\n",
        "    model.add(BatchNormalization(momentum=momentum))\n",
        "    \n",
        "    model.add(MaxPool2D())\n",
        "    \n",
        "    model.add(Conv2D(256, (3,3), padding='same', activation='relu'))\n",
        "    model.add(Conv2D(256, (3,3), padding='same', activation='relu'))\n",
        "    model.add(BatchNormalization(momentum=momentum))\n",
        "    \n",
        "    model.add(MaxPool2D())\n",
        "    \n",
        "    model.add(Conv2D(512, (3,3), padding='same', activation='relu'))\n",
        "    model.add(Conv2D(512, (3,3), padding='same', activation='relu'))\n",
        "    model.add(BatchNormalization(momentum=momentum))\n",
        "    \n",
        "    model.add(GlobalMaxPool2D())\n",
        "    return model"
      ],
      "execution_count": null,
      "outputs": []
    },
    {
      "cell_type": "code",
      "metadata": {
        "id": "-Dj-A8FPP3Y6"
      },
      "source": [
        "from keras.layers import TimeDistributed, GRU, Dense, Dropout\n",
        "def study_model(shape=(6, IMG_HEIGHT, IMG_WIDTH, 3), nbout=1):\n",
        "    # Create cnn with (96, 96, 3) input shape\n",
        "    convnet = build_cnn(shape[1:])\n",
        "    \n",
        "    # then create our final model\n",
        "    model = keras.Sequential()\n",
        "    # add the cnn with (6, 96, 96, 3) shape\n",
        "    model.add(TimeDistributed(convnet, input_shape=shape))\n",
        "    # here, you can also use GRU or LSTM\n",
        "    model.add(GRU(64))\n",
        "    # and finally, we make a decision for the study\n",
        "    model.add(Dense(512, activation='relu'))\n",
        "    model.add(Dropout(.5))\n",
        "    model.add(Dense(nbout, activation='sigmoid'))\n",
        "    return model"
      ],
      "execution_count": null,
      "outputs": []
    },
    {
      "cell_type": "code",
      "metadata": {
        "colab": {
          "base_uri": "https://localhost:8080/"
        },
        "id": "Pzmw-HmcvMQ8",
        "outputId": "1a6bd61b-036a-429b-a2ff-e5007d113e81"
      },
      "source": [
        "model = study_model()\n",
        "model.compile(optimizer=Adam(lr=0.001),\n",
        "              loss='binary_crossentropy',\n",
        "              metrics=['accuracy'])\n",
        "model.summary()\n",
        "\n",
        "if not os.path.exists('/content/gdrive/My Drive/checkpoints'):\n",
        "    os.makedirs('/content/gdrive/My Drive/checkpoints')\n",
        "\n",
        "checkpoint = ModelCheckpoint('/content/gdrive/My Drive/checkpoints/model_cnn_1.hdf5',\n",
        "                             monitor='val_loss', \n",
        "                             mode='min', verbose=2,\n",
        "                             save_best_only=True,\n",
        "                             save_weights_only=True)"
      ],
      "execution_count": null,
      "outputs": [
        {
          "output_type": "stream",
          "text": [
            "Model: \"sequential_10\"\n",
            "_________________________________________________________________\n",
            "Layer (type)                 Output Shape              Param #   \n",
            "=================================================================\n",
            "time_distributed_4 (TimeDist (None, 6, 512)            4689216   \n",
            "_________________________________________________________________\n",
            "gru_3 (GRU)                  (None, 64)                110976    \n",
            "_________________________________________________________________\n",
            "dense_17 (Dense)             (None, 512)               33280     \n",
            "_________________________________________________________________\n",
            "dropout_10 (Dropout)         (None, 512)               0         \n",
            "_________________________________________________________________\n",
            "dense_18 (Dense)             (None, 1)                 513       \n",
            "=================================================================\n",
            "Total params: 4,833,985\n",
            "Trainable params: 4,832,065\n",
            "Non-trainable params: 1,920\n",
            "_________________________________________________________________\n"
          ],
          "name": "stdout"
        }
      ]
    },
    {
      "cell_type": "code",
      "metadata": {
        "colab": {
          "base_uri": "https://localhost:8080/"
        },
        "id": "Qnb7EU3VvMQ8",
        "outputId": "72ad3379-1343-4876-dcd4-6bcaad4179d4"
      },
      "source": [
        "with tf.device('/device:GPU:0'):\n",
        "  history = model.fit(\n",
        "    train_generator,\n",
        "    steps_per_epoch=len(train_set) // batch_size,\n",
        "    epochs=epochs,\n",
        "    validation_data=valid_generator,\n",
        "    validation_steps=len(validation_set) // batch_size,\n",
        "    callbacks=[EarlyStopping(monitor='val_loss', patience=5, min_delta=0.0001),\n",
        "               keras.callbacks.ReduceLROnPlateau(verbose=1),\n",
        "               checkpoint]\n",
        "  )"
      ],
      "execution_count": null,
      "outputs": [
        {
          "output_type": "stream",
          "text": [
            "Epoch 1/30\n",
            "168/168 [==============================] - 368s 2s/step - loss: 0.6796 - accuracy: 0.5926 - val_loss: 0.6612 - val_accuracy: 0.6071\n",
            "\n",
            "Epoch 00001: val_loss improved from inf to 0.66123, saving model to /content/gdrive/My Drive/checkpoints/model_cnn_1.hdf5\n",
            "Epoch 2/30\n",
            "168/168 [==============================] - 364s 2s/step - loss: 0.6506 - accuracy: 0.6154 - val_loss: 0.6519 - val_accuracy: 0.6131\n",
            "\n",
            "Epoch 00002: val_loss improved from 0.66123 to 0.65186, saving model to /content/gdrive/My Drive/checkpoints/model_cnn_1.hdf5\n",
            "Epoch 3/30\n",
            "168/168 [==============================] - 365s 2s/step - loss: 0.6399 - accuracy: 0.6231 - val_loss: 0.6421 - val_accuracy: 0.6187\n",
            "\n",
            "Epoch 00003: val_loss improved from 0.65186 to 0.64213, saving model to /content/gdrive/My Drive/checkpoints/model_cnn_1.hdf5\n",
            "Epoch 4/30\n",
            "168/168 [==============================] - 365s 2s/step - loss: 0.6340 - accuracy: 0.6357 - val_loss: 0.6615 - val_accuracy: 0.6038\n",
            "\n",
            "Epoch 00004: val_loss did not improve from 0.64213\n",
            "Epoch 5/30\n",
            "168/168 [==============================] - 365s 2s/step - loss: 0.6346 - accuracy: 0.6255 - val_loss: 0.6458 - val_accuracy: 0.6224\n",
            "\n",
            "Epoch 00005: val_loss did not improve from 0.64213\n",
            "Epoch 6/30\n",
            "168/168 [==============================] - 364s 2s/step - loss: 0.6342 - accuracy: 0.6291 - val_loss: 0.6360 - val_accuracy: 0.6150\n",
            "\n",
            "Epoch 00006: val_loss improved from 0.64213 to 0.63603, saving model to /content/gdrive/My Drive/checkpoints/model_cnn_1.hdf5\n",
            "Epoch 7/30\n",
            "168/168 [==============================] - 364s 2s/step - loss: 0.6261 - accuracy: 0.6366 - val_loss: 0.6398 - val_accuracy: 0.6164\n",
            "\n",
            "Epoch 00007: val_loss did not improve from 0.63603\n",
            "Epoch 8/30\n",
            "168/168 [==============================] - 363s 2s/step - loss: 0.6229 - accuracy: 0.6451 - val_loss: 0.6345 - val_accuracy: 0.6205\n",
            "\n",
            "Epoch 00008: val_loss improved from 0.63603 to 0.63454, saving model to /content/gdrive/My Drive/checkpoints/model_cnn_1.hdf5\n",
            "Epoch 9/30\n",
            "168/168 [==============================] - 363s 2s/step - loss: 0.6171 - accuracy: 0.6413 - val_loss: 0.6300 - val_accuracy: 0.6272\n",
            "\n",
            "Epoch 00009: val_loss improved from 0.63454 to 0.62999, saving model to /content/gdrive/My Drive/checkpoints/model_cnn_1.hdf5\n",
            "Epoch 10/30\n",
            "168/168 [==============================] - 363s 2s/step - loss: 0.6172 - accuracy: 0.6396 - val_loss: 0.6267 - val_accuracy: 0.6194\n",
            "\n",
            "Epoch 00010: val_loss improved from 0.62999 to 0.62672, saving model to /content/gdrive/My Drive/checkpoints/model_cnn_1.hdf5\n",
            "Epoch 11/30\n",
            "168/168 [==============================] - 365s 2s/step - loss: 0.6125 - accuracy: 0.6475 - val_loss: 0.6251 - val_accuracy: 0.6376\n",
            "\n",
            "Epoch 00011: val_loss improved from 0.62672 to 0.62512, saving model to /content/gdrive/My Drive/checkpoints/model_cnn_1.hdf5\n",
            "Epoch 12/30\n",
            "168/168 [==============================] - 364s 2s/step - loss: 0.6118 - accuracy: 0.6471 - val_loss: 0.6352 - val_accuracy: 0.6105\n",
            "\n",
            "Epoch 00012: val_loss did not improve from 0.62512\n",
            "Epoch 13/30\n",
            "168/168 [==============================] - 365s 2s/step - loss: 0.6143 - accuracy: 0.6453 - val_loss: 0.6256 - val_accuracy: 0.6324\n",
            "\n",
            "Epoch 00013: val_loss did not improve from 0.62512\n",
            "Epoch 14/30\n",
            "168/168 [==============================] - 366s 2s/step - loss: 0.6096 - accuracy: 0.6476 - val_loss: 0.6235 - val_accuracy: 0.6280\n",
            "\n",
            "Epoch 00014: val_loss improved from 0.62512 to 0.62353, saving model to /content/gdrive/My Drive/checkpoints/model_cnn_1.hdf5\n",
            "Epoch 15/30\n",
            "168/168 [==============================] - 365s 2s/step - loss: 0.6037 - accuracy: 0.6595 - val_loss: 0.6208 - val_accuracy: 0.6443\n",
            "\n",
            "Epoch 00015: val_loss improved from 0.62353 to 0.62085, saving model to /content/gdrive/My Drive/checkpoints/model_cnn_1.hdf5\n",
            "Epoch 16/30\n",
            "168/168 [==============================] - 365s 2s/step - loss: 0.5984 - accuracy: 0.6602 - val_loss: 0.6161 - val_accuracy: 0.6469\n",
            "\n",
            "Epoch 00016: val_loss improved from 0.62085 to 0.61609, saving model to /content/gdrive/My Drive/checkpoints/model_cnn_1.hdf5\n",
            "Epoch 17/30\n",
            "168/168 [==============================] - 364s 2s/step - loss: 0.5986 - accuracy: 0.6576 - val_loss: 0.6150 - val_accuracy: 0.6525\n",
            "\n",
            "Epoch 00017: val_loss improved from 0.61609 to 0.61499, saving model to /content/gdrive/My Drive/checkpoints/model_cnn_1.hdf5\n",
            "Epoch 18/30\n",
            "168/168 [==============================] - 364s 2s/step - loss: 0.5922 - accuracy: 0.6697 - val_loss: 0.6134 - val_accuracy: 0.6473\n",
            "\n",
            "Epoch 00018: val_loss improved from 0.61499 to 0.61337, saving model to /content/gdrive/My Drive/checkpoints/model_cnn_1.hdf5\n",
            "Epoch 19/30\n",
            "168/168 [==============================] - 363s 2s/step - loss: 0.5916 - accuracy: 0.6664 - val_loss: 0.6076 - val_accuracy: 0.6518\n",
            "\n",
            "Epoch 00019: val_loss improved from 0.61337 to 0.60760, saving model to /content/gdrive/My Drive/checkpoints/model_cnn_1.hdf5\n",
            "Epoch 20/30\n",
            "168/168 [==============================] - 363s 2s/step - loss: 0.5831 - accuracy: 0.6763 - val_loss: 0.6163 - val_accuracy: 0.6395\n",
            "\n",
            "Epoch 00020: val_loss did not improve from 0.60760\n",
            "Epoch 21/30\n",
            "168/168 [==============================] - 361s 2s/step - loss: 0.5887 - accuracy: 0.6646 - val_loss: 0.6385 - val_accuracy: 0.6269\n",
            "\n",
            "Epoch 00021: val_loss did not improve from 0.60760\n",
            "Epoch 22/30\n",
            "168/168 [==============================] - 362s 2s/step - loss: 0.5769 - accuracy: 0.6874 - val_loss: 0.6197 - val_accuracy: 0.6544\n",
            "\n",
            "Epoch 00022: val_loss did not improve from 0.60760\n",
            "Epoch 23/30\n",
            "168/168 [==============================] - 363s 2s/step - loss: 0.5787 - accuracy: 0.6831 - val_loss: 0.6181 - val_accuracy: 0.6548\n",
            "\n",
            "Epoch 00023: val_loss did not improve from 0.60760\n",
            "Epoch 24/30\n",
            "168/168 [==============================] - 363s 2s/step - loss: 0.5769 - accuracy: 0.6867 - val_loss: 0.6283 - val_accuracy: 0.6600\n",
            "\n",
            "Epoch 00024: val_loss did not improve from 0.60760\n"
          ],
          "name": "stdout"
        }
      ]
    },
    {
      "cell_type": "code",
      "metadata": {
        "colab": {
          "base_uri": "https://localhost:8080/",
          "height": 758
        },
        "id": "eq-ZCkujvMQ-",
        "outputId": "cd1d6fe1-ebdf-42fb-d293-be99a8d2102d"
      },
      "source": [
        "hist = pd.DataFrame(history.history)\n",
        "hist['epoch'] = history.epoch\n",
        "hist"
      ],
      "execution_count": null,
      "outputs": [
        {
          "output_type": "execute_result",
          "data": {
            "text/html": [
              "<div>\n",
              "<style scoped>\n",
              "    .dataframe tbody tr th:only-of-type {\n",
              "        vertical-align: middle;\n",
              "    }\n",
              "\n",
              "    .dataframe tbody tr th {\n",
              "        vertical-align: top;\n",
              "    }\n",
              "\n",
              "    .dataframe thead th {\n",
              "        text-align: right;\n",
              "    }\n",
              "</style>\n",
              "<table border=\"1\" class=\"dataframe\">\n",
              "  <thead>\n",
              "    <tr style=\"text-align: right;\">\n",
              "      <th></th>\n",
              "      <th>loss</th>\n",
              "      <th>accuracy</th>\n",
              "      <th>val_loss</th>\n",
              "      <th>val_accuracy</th>\n",
              "      <th>lr</th>\n",
              "      <th>epoch</th>\n",
              "    </tr>\n",
              "  </thead>\n",
              "  <tbody>\n",
              "    <tr>\n",
              "      <th>0</th>\n",
              "      <td>0.666485</td>\n",
              "      <td>0.605868</td>\n",
              "      <td>0.661228</td>\n",
              "      <td>0.607143</td>\n",
              "      <td>0.001</td>\n",
              "      <td>0</td>\n",
              "    </tr>\n",
              "    <tr>\n",
              "      <th>1</th>\n",
              "      <td>0.651608</td>\n",
              "      <td>0.612222</td>\n",
              "      <td>0.651855</td>\n",
              "      <td>0.613095</td>\n",
              "      <td>0.001</td>\n",
              "      <td>1</td>\n",
              "    </tr>\n",
              "    <tr>\n",
              "      <th>2</th>\n",
              "      <td>0.643620</td>\n",
              "      <td>0.622220</td>\n",
              "      <td>0.642128</td>\n",
              "      <td>0.618676</td>\n",
              "      <td>0.001</td>\n",
              "      <td>2</td>\n",
              "    </tr>\n",
              "    <tr>\n",
              "      <th>3</th>\n",
              "      <td>0.636786</td>\n",
              "      <td>0.629602</td>\n",
              "      <td>0.661450</td>\n",
              "      <td>0.603795</td>\n",
              "      <td>0.001</td>\n",
              "      <td>3</td>\n",
              "    </tr>\n",
              "    <tr>\n",
              "      <th>4</th>\n",
              "      <td>0.636053</td>\n",
              "      <td>0.623435</td>\n",
              "      <td>0.645793</td>\n",
              "      <td>0.622396</td>\n",
              "      <td>0.001</td>\n",
              "      <td>4</td>\n",
              "    </tr>\n",
              "    <tr>\n",
              "      <th>5</th>\n",
              "      <td>0.633020</td>\n",
              "      <td>0.626332</td>\n",
              "      <td>0.636034</td>\n",
              "      <td>0.614955</td>\n",
              "      <td>0.001</td>\n",
              "      <td>5</td>\n",
              "    </tr>\n",
              "    <tr>\n",
              "      <th>6</th>\n",
              "      <td>0.630450</td>\n",
              "      <td>0.632218</td>\n",
              "      <td>0.639758</td>\n",
              "      <td>0.616443</td>\n",
              "      <td>0.001</td>\n",
              "      <td>6</td>\n",
              "    </tr>\n",
              "    <tr>\n",
              "      <th>7</th>\n",
              "      <td>0.621519</td>\n",
              "      <td>0.642123</td>\n",
              "      <td>0.634542</td>\n",
              "      <td>0.620536</td>\n",
              "      <td>0.001</td>\n",
              "      <td>7</td>\n",
              "    </tr>\n",
              "    <tr>\n",
              "      <th>8</th>\n",
              "      <td>0.618661</td>\n",
              "      <td>0.642030</td>\n",
              "      <td>0.629988</td>\n",
              "      <td>0.627232</td>\n",
              "      <td>0.001</td>\n",
              "      <td>8</td>\n",
              "    </tr>\n",
              "    <tr>\n",
              "      <th>9</th>\n",
              "      <td>0.619038</td>\n",
              "      <td>0.635489</td>\n",
              "      <td>0.626719</td>\n",
              "      <td>0.619420</td>\n",
              "      <td>0.001</td>\n",
              "      <td>9</td>\n",
              "    </tr>\n",
              "    <tr>\n",
              "      <th>10</th>\n",
              "      <td>0.616255</td>\n",
              "      <td>0.641749</td>\n",
              "      <td>0.625118</td>\n",
              "      <td>0.637649</td>\n",
              "      <td>0.001</td>\n",
              "      <td>10</td>\n",
              "    </tr>\n",
              "    <tr>\n",
              "      <th>11</th>\n",
              "      <td>0.611893</td>\n",
              "      <td>0.641002</td>\n",
              "      <td>0.635150</td>\n",
              "      <td>0.610491</td>\n",
              "      <td>0.001</td>\n",
              "      <td>11</td>\n",
              "    </tr>\n",
              "    <tr>\n",
              "      <th>12</th>\n",
              "      <td>0.617356</td>\n",
              "      <td>0.642964</td>\n",
              "      <td>0.625597</td>\n",
              "      <td>0.632440</td>\n",
              "      <td>0.001</td>\n",
              "      <td>12</td>\n",
              "    </tr>\n",
              "    <tr>\n",
              "      <th>13</th>\n",
              "      <td>0.611383</td>\n",
              "      <td>0.642123</td>\n",
              "      <td>0.623527</td>\n",
              "      <td>0.627976</td>\n",
              "      <td>0.001</td>\n",
              "      <td>13</td>\n",
              "    </tr>\n",
              "    <tr>\n",
              "      <th>14</th>\n",
              "      <td>0.607771</td>\n",
              "      <td>0.651747</td>\n",
              "      <td>0.620849</td>\n",
              "      <td>0.644345</td>\n",
              "      <td>0.001</td>\n",
              "      <td>14</td>\n",
              "    </tr>\n",
              "    <tr>\n",
              "      <th>15</th>\n",
              "      <td>0.603650</td>\n",
              "      <td>0.651841</td>\n",
              "      <td>0.616092</td>\n",
              "      <td>0.646949</td>\n",
              "      <td>0.001</td>\n",
              "      <td>15</td>\n",
              "    </tr>\n",
              "    <tr>\n",
              "      <th>16</th>\n",
              "      <td>0.597681</td>\n",
              "      <td>0.656980</td>\n",
              "      <td>0.614992</td>\n",
              "      <td>0.652530</td>\n",
              "      <td>0.001</td>\n",
              "      <td>16</td>\n",
              "    </tr>\n",
              "    <tr>\n",
              "      <th>17</th>\n",
              "      <td>0.595558</td>\n",
              "      <td>0.666511</td>\n",
              "      <td>0.613373</td>\n",
              "      <td>0.647321</td>\n",
              "      <td>0.001</td>\n",
              "      <td>17</td>\n",
              "    </tr>\n",
              "    <tr>\n",
              "      <th>18</th>\n",
              "      <td>0.592000</td>\n",
              "      <td>0.668940</td>\n",
              "      <td>0.607604</td>\n",
              "      <td>0.651786</td>\n",
              "      <td>0.001</td>\n",
              "      <td>18</td>\n",
              "    </tr>\n",
              "    <tr>\n",
              "      <th>19</th>\n",
              "      <td>0.586636</td>\n",
              "      <td>0.669221</td>\n",
              "      <td>0.616325</td>\n",
              "      <td>0.639509</td>\n",
              "      <td>0.001</td>\n",
              "      <td>19</td>\n",
              "    </tr>\n",
              "    <tr>\n",
              "      <th>20</th>\n",
              "      <td>0.586143</td>\n",
              "      <td>0.669594</td>\n",
              "      <td>0.638497</td>\n",
              "      <td>0.626860</td>\n",
              "      <td>0.001</td>\n",
              "      <td>20</td>\n",
              "    </tr>\n",
              "    <tr>\n",
              "      <th>21</th>\n",
              "      <td>0.581054</td>\n",
              "      <td>0.685573</td>\n",
              "      <td>0.619653</td>\n",
              "      <td>0.654390</td>\n",
              "      <td>0.001</td>\n",
              "      <td>21</td>\n",
              "    </tr>\n",
              "    <tr>\n",
              "      <th>22</th>\n",
              "      <td>0.579525</td>\n",
              "      <td>0.680247</td>\n",
              "      <td>0.618117</td>\n",
              "      <td>0.654762</td>\n",
              "      <td>0.001</td>\n",
              "      <td>22</td>\n",
              "    </tr>\n",
              "    <tr>\n",
              "      <th>23</th>\n",
              "      <td>0.572262</td>\n",
              "      <td>0.687255</td>\n",
              "      <td>0.628262</td>\n",
              "      <td>0.659970</td>\n",
              "      <td>0.001</td>\n",
              "      <td>23</td>\n",
              "    </tr>\n",
              "  </tbody>\n",
              "</table>\n",
              "</div>"
            ],
            "text/plain": [
              "        loss  accuracy  val_loss  val_accuracy     lr  epoch\n",
              "0   0.666485  0.605868  0.661228      0.607143  0.001      0\n",
              "1   0.651608  0.612222  0.651855      0.613095  0.001      1\n",
              "2   0.643620  0.622220  0.642128      0.618676  0.001      2\n",
              "3   0.636786  0.629602  0.661450      0.603795  0.001      3\n",
              "4   0.636053  0.623435  0.645793      0.622396  0.001      4\n",
              "5   0.633020  0.626332  0.636034      0.614955  0.001      5\n",
              "6   0.630450  0.632218  0.639758      0.616443  0.001      6\n",
              "7   0.621519  0.642123  0.634542      0.620536  0.001      7\n",
              "8   0.618661  0.642030  0.629988      0.627232  0.001      8\n",
              "9   0.619038  0.635489  0.626719      0.619420  0.001      9\n",
              "10  0.616255  0.641749  0.625118      0.637649  0.001     10\n",
              "11  0.611893  0.641002  0.635150      0.610491  0.001     11\n",
              "12  0.617356  0.642964  0.625597      0.632440  0.001     12\n",
              "13  0.611383  0.642123  0.623527      0.627976  0.001     13\n",
              "14  0.607771  0.651747  0.620849      0.644345  0.001     14\n",
              "15  0.603650  0.651841  0.616092      0.646949  0.001     15\n",
              "16  0.597681  0.656980  0.614992      0.652530  0.001     16\n",
              "17  0.595558  0.666511  0.613373      0.647321  0.001     17\n",
              "18  0.592000  0.668940  0.607604      0.651786  0.001     18\n",
              "19  0.586636  0.669221  0.616325      0.639509  0.001     19\n",
              "20  0.586143  0.669594  0.638497      0.626860  0.001     20\n",
              "21  0.581054  0.685573  0.619653      0.654390  0.001     21\n",
              "22  0.579525  0.680247  0.618117      0.654762  0.001     22\n",
              "23  0.572262  0.687255  0.628262      0.659970  0.001     23"
            ]
          },
          "metadata": {
            "tags": []
          },
          "execution_count": 65
        }
      ]
    },
    {
      "cell_type": "code",
      "metadata": {
        "colab": {
          "base_uri": "https://localhost:8080/",
          "height": 533
        },
        "id": "ure3poaPvMQ-",
        "outputId": "1cfff863-7a25-4ffe-969f-6ed102f40f84"
      },
      "source": [
        "acc = history.history['accuracy']\n",
        "val_acc = history.history['val_accuracy']\n",
        "\n",
        "loss = history.history['loss']\n",
        "val_loss = history.history['val_loss']\n",
        "\n",
        "epochs_range = range(len(hist))\n",
        "print(epochs_range)\n",
        "\n",
        "plt.figure(figsize=(14, 8))\n",
        "plt.subplot(1, 2, 1)\n",
        "plt.plot(epochs_range, acc, label='Training Accuracy')\n",
        "plt.plot(epochs_range, val_acc, label='Validation Accuracy')\n",
        "plt.legend(loc='upper left')\n",
        "plt.title('Training and Validation Accuracy')\n",
        "\n",
        "plt.subplot(1, 2, 2)\n",
        "plt.plot(epochs_range, loss, label='Training Loss')\n",
        "plt.plot(epochs_range, val_loss, label='Validation Loss')\n",
        "plt.legend(loc='upper left')\n",
        "plt.title('Training and Validation Loss')"
      ],
      "execution_count": null,
      "outputs": [
        {
          "output_type": "stream",
          "text": [
            "range(0, 24)\n"
          ],
          "name": "stdout"
        },
        {
          "output_type": "execute_result",
          "data": {
            "text/plain": [
              "Text(0.5, 1.0, 'Training and Validation Loss')"
            ]
          },
          "metadata": {
            "tags": []
          },
          "execution_count": 66
        },
        {
          "output_type": "display_data",
          "data": {
            "image/png": "[encoded data removed]",
            "text/plain": [
              "<Figure size 1008x576 with 2 Axes>"
            ]
          },
          "metadata": {
            "tags": [],
            "needs_background": "light"
          }
        }
      ]
    },
    {
      "cell_type": "code",
      "metadata": {
        "colab": {
          "base_uri": "https://localhost:8080/"
        },
        "id": "jlbZ8OnwvMRA",
        "outputId": "41a14722-1fbc-4b27-d198-603d5ac8351f"
      },
      "source": [
        "with tf.device('/device:GPU:0'):\n",
        "  model.evaluate_generator(test_generator, steps=len(valid_df) // batch_size, verbose=1)"
      ],
      "execution_count": null,
      "outputs": [
        {
          "output_type": "stream",
          "text": [
            "/usr/local/lib/python3.7/dist-packages/tensorflow/python/keras/engine/training.py:1877: UserWarning: `Model.evaluate_generator` is deprecated and will be removed in a future version. Please use `Model.evaluate`, which supports generators.\n",
            "  warnings.warn('`Model.evaluate_generator` is deprecated and '\n"
          ],
          "name": "stderr"
        },
        {
          "output_type": "stream",
          "text": [
            "18/18 [==============================] - 21s 1s/step - loss: 0.7155 - accuracy: 0.5912\n"
          ],
          "name": "stdout"
        }
      ]
    },
    {
      "cell_type": "markdown",
      "metadata": {
        "id": "0hAYcaBQvMRB"
      },
      "source": [
        "## ResNet"
      ]
    },
    {
      "cell_type": "markdown",
      "metadata": {
        "id": "wFysnAVXAapE"
      },
      "source": [
        "* Use Resnet50 pretrained model as our base cnn model.\n",
        "* Add cnn model to TimeDistribured layer to classify 6 images in sequence.\n",
        "* Add an LSTM layer in oder to memorize the image features.\n",
        "* Finally a Dense layer with sigmoid activation function to classify the study."
      ]
    },
    {
      "cell_type": "code",
      "metadata": {
        "id": "-pT0g292vMRC"
      },
      "source": [
        "batch_size = 64\n",
        "epochs = 30\n",
        "IMG_HEIGHT = 96\n",
        "IMG_WIDTH = 96"
      ],
      "execution_count": null,
      "outputs": []
    },
    {
      "cell_type": "code",
      "metadata": {
        "id": "rM8VJViKMII8"
      },
      "source": [
        "def study_model_resnet(shape=(6, IMG_HEIGHT, IMG_WIDTH, 3), nbout=1):\n",
        "    # Create our resnet with (6, 96, 96, 3) input shape\n",
        "    study = Input(shape=shape)\n",
        "    cnn_base = ResNet50(weights='imagenet', include_top=False, input_shape=shape[1:])\n",
        "    cnn_out = GlobalAveragePooling2D()(cnn_base.output)\n",
        "    cnn = Model(inputs=cnn_base.input, outputs=cnn_out)\n",
        "    cnn.trainable = False\n",
        "    frames = TimeDistributed(cnn)(study)\n",
        "    encoded_sequence = LSTM(256)(frames)\n",
        "    hidden_layer = Dense(1024, activation=\"relu\")(encoded_sequence)\n",
        "    hidden_layer = Dropout(.5)(hidden_layer)\n",
        "    outputs = Dense(nbout, activation=\"sigmoid\")(hidden_layer)\n",
        "    final_model = Model([study], outputs)\n",
        "    return final_model"
      ],
      "execution_count": null,
      "outputs": []
    },
    {
      "cell_type": "code",
      "metadata": {
        "colab": {
          "base_uri": "https://localhost:8080/"
        },
        "id": "qw8Pn7GovMRD",
        "outputId": "0028182f-26c9-4db9-ab91-002dae1db037"
      },
      "source": [
        "model = study_model_resnet()\n",
        "model.compile(optimizer=Adam(lr=0.0001),\n",
        "              loss='binary_crossentropy',\n",
        "              metrics=['accuracy'])\n",
        "model.summary()"
      ],
      "execution_count": null,
      "outputs": [
        {
          "output_type": "stream",
          "text": [
            "Model: \"model_3\"\n",
            "_________________________________________________________________\n",
            "Layer (type)                 Output Shape              Param #   \n",
            "=================================================================\n",
            "input_3 (InputLayer)         [(None, 6, 96, 96, 3)]    0         \n",
            "_________________________________________________________________\n",
            "time_distributed_6 (TimeDist (None, 6, 2048)           23587712  \n",
            "_________________________________________________________________\n",
            "lstm_2 (LSTM)                (None, 256)               2360320   \n",
            "_________________________________________________________________\n",
            "dense_21 (Dense)             (None, 1024)              263168    \n",
            "_________________________________________________________________\n",
            "dropout_12 (Dropout)         (None, 1024)              0         \n",
            "_________________________________________________________________\n",
            "dense_22 (Dense)             (None, 1)                 1025      \n",
            "=================================================================\n",
            "Total params: 26,212,225\n",
            "Trainable params: 2,624,513\n",
            "Non-trainable params: 23,587,712\n",
            "_________________________________________________________________\n"
          ],
          "name": "stdout"
        }
      ]
    },
    {
      "cell_type": "code",
      "metadata": {
        "colab": {
          "base_uri": "https://localhost:8080/"
        },
        "id": "VNIyP9TevMRD",
        "outputId": "9f3e0d4b-f406-497c-b22c-d82e7488e321"
      },
      "source": [
        "if not os.path.exists('/content/gdrive/My Drive/checkpoints'):\n",
        "    os.makedirs('/content/gdrive/My Drive/checkpoints')\n",
        "\n",
        "checkpoint = ModelCheckpoint('/content/gdrive/My Drive/checkpoints/resnet_model.hdf5',\n",
        "                             monitor='val_loss', \n",
        "                             mode='min', verbose=2,\n",
        "                             save_best_only=True,\n",
        "                             save_weights_only=True)\n",
        "\n",
        "with tf.device('/device:GPU:0'):\n",
        "  history = model.fit(\n",
        "    train_generator,\n",
        "    steps_per_epoch=len(train_set) // batch_size,\n",
        "    epochs=epochs,\n",
        "    validation_data=valid_generator,\n",
        "    validation_steps=len(validation_set) // batch_size,\n",
        "    callbacks=[EarlyStopping(monitor='val_loss', patience=5, min_delta=0.0001), checkpoint]\n",
        "  )"
      ],
      "execution_count": null,
      "outputs": [
        {
          "output_type": "stream",
          "text": [
            "Epoch 1/30\n",
            "168/168 [==============================] - 269s 2s/step - loss: 0.6155 - accuracy: 0.6539 - val_loss: 0.5686 - val_accuracy: 0.7042\n",
            "\n",
            "Epoch 00001: val_loss improved from inf to 0.56861, saving model to /content/gdrive/My Drive/checkpoints/resnet_model.hdf5\n",
            "Epoch 2/30\n",
            "168/168 [==============================] - 261s 2s/step - loss: 0.5176 - accuracy: 0.7459 - val_loss: 0.5600 - val_accuracy: 0.7258\n",
            "\n",
            "Epoch 00002: val_loss improved from 0.56861 to 0.56004, saving model to /content/gdrive/My Drive/checkpoints/resnet_model.hdf5\n",
            "Epoch 3/30\n",
            "168/168 [==============================] - 265s 2s/step - loss: 0.4659 - accuracy: 0.7827 - val_loss: 0.5678 - val_accuracy: 0.7258\n",
            "\n",
            "Epoch 00003: val_loss did not improve from 0.56004\n",
            "Epoch 4/30\n",
            "168/168 [==============================] - 265s 2s/step - loss: 0.4041 - accuracy: 0.8217 - val_loss: 0.5853 - val_accuracy: 0.7266\n",
            "\n",
            "Epoch 00004: val_loss did not improve from 0.56004\n",
            "Epoch 5/30\n",
            "168/168 [==============================] - 263s 2s/step - loss: 0.3340 - accuracy: 0.8644 - val_loss: 0.6329 - val_accuracy: 0.7310\n",
            "\n",
            "Epoch 00005: val_loss did not improve from 0.56004\n",
            "Epoch 6/30\n",
            "168/168 [==============================] - 262s 2s/step - loss: 0.2522 - accuracy: 0.9061 - val_loss: 0.6965 - val_accuracy: 0.7303\n",
            "\n",
            "Epoch 00006: val_loss did not improve from 0.56004\n",
            "Epoch 7/30\n",
            "168/168 [==============================] - 265s 2s/step - loss: 0.1801 - accuracy: 0.9334 - val_loss: 0.7776 - val_accuracy: 0.7258\n",
            "\n",
            "Epoch 00007: val_loss did not improve from 0.56004\n"
          ],
          "name": "stdout"
        }
      ]
    },
    {
      "cell_type": "code",
      "metadata": {
        "colab": {
          "base_uri": "https://localhost:8080/",
          "height": 254
        },
        "id": "Gta20ORnvMRD",
        "outputId": "77960e88-66f0-4ac5-8173-c24caf675673"
      },
      "source": [
        "hist = pd.DataFrame(history.history)\n",
        "hist['epoch'] = history.epoch\n",
        "hist"
      ],
      "execution_count": null,
      "outputs": [
        {
          "output_type": "execute_result",
          "data": {
            "text/html": [
              "<div>\n",
              "<style scoped>\n",
              "    .dataframe tbody tr th:only-of-type {\n",
              "        vertical-align: middle;\n",
              "    }\n",
              "\n",
              "    .dataframe tbody tr th {\n",
              "        vertical-align: top;\n",
              "    }\n",
              "\n",
              "    .dataframe thead th {\n",
              "        text-align: right;\n",
              "    }\n",
              "</style>\n",
              "<table border=\"1\" class=\"dataframe\">\n",
              "  <thead>\n",
              "    <tr style=\"text-align: right;\">\n",
              "      <th></th>\n",
              "      <th>loss</th>\n",
              "      <th>accuracy</th>\n",
              "      <th>val_loss</th>\n",
              "      <th>val_accuracy</th>\n",
              "      <th>epoch</th>\n",
              "    </tr>\n",
              "  </thead>\n",
              "  <tbody>\n",
              "    <tr>\n",
              "      <th>0</th>\n",
              "      <td>0.590450</td>\n",
              "      <td>0.683611</td>\n",
              "      <td>0.568606</td>\n",
              "      <td>0.704241</td>\n",
              "      <td>0</td>\n",
              "    </tr>\n",
              "    <tr>\n",
              "      <th>1</th>\n",
              "      <td>0.510531</td>\n",
              "      <td>0.754065</td>\n",
              "      <td>0.560044</td>\n",
              "      <td>0.725818</td>\n",
              "      <td>1</td>\n",
              "    </tr>\n",
              "    <tr>\n",
              "      <th>2</th>\n",
              "      <td>0.450836</td>\n",
              "      <td>0.790506</td>\n",
              "      <td>0.567819</td>\n",
              "      <td>0.725818</td>\n",
              "      <td>2</td>\n",
              "    </tr>\n",
              "    <tr>\n",
              "      <th>3</th>\n",
              "      <td>0.388532</td>\n",
              "      <td>0.829845</td>\n",
              "      <td>0.585291</td>\n",
              "      <td>0.726562</td>\n",
              "      <td>3</td>\n",
              "    </tr>\n",
              "    <tr>\n",
              "      <th>4</th>\n",
              "      <td>0.316692</td>\n",
              "      <td>0.870959</td>\n",
              "      <td>0.632883</td>\n",
              "      <td>0.731027</td>\n",
              "      <td>4</td>\n",
              "    </tr>\n",
              "    <tr>\n",
              "      <th>5</th>\n",
              "      <td>0.238914</td>\n",
              "      <td>0.910297</td>\n",
              "      <td>0.696494</td>\n",
              "      <td>0.730283</td>\n",
              "      <td>5</td>\n",
              "    </tr>\n",
              "    <tr>\n",
              "      <th>6</th>\n",
              "      <td>0.168963</td>\n",
              "      <td>0.939357</td>\n",
              "      <td>0.777579</td>\n",
              "      <td>0.725818</td>\n",
              "      <td>6</td>\n",
              "    </tr>\n",
              "  </tbody>\n",
              "</table>\n",
              "</div>"
            ],
            "text/plain": [
              "       loss  accuracy  val_loss  val_accuracy  epoch\n",
              "0  0.590450  0.683611  0.568606      0.704241      0\n",
              "1  0.510531  0.754065  0.560044      0.725818      1\n",
              "2  0.450836  0.790506  0.567819      0.725818      2\n",
              "3  0.388532  0.829845  0.585291      0.726562      3\n",
              "4  0.316692  0.870959  0.632883      0.731027      4\n",
              "5  0.238914  0.910297  0.696494      0.730283      5\n",
              "6  0.168963  0.939357  0.777579      0.725818      6"
            ]
          },
          "metadata": {
            "tags": []
          },
          "execution_count": 77
        }
      ]
    },
    {
      "cell_type": "code",
      "metadata": {
        "colab": {
          "base_uri": "https://localhost:8080/",
          "height": 516
        },
        "id": "Jik2iWJUvMRD",
        "outputId": "d99c030d-145c-4aa9-bf73-767dd96acb8c"
      },
      "source": [
        "acc = history.history['accuracy']\n",
        "val_acc = history.history['val_accuracy']\n",
        "\n",
        "loss = history.history['loss']\n",
        "val_loss = history.history['val_loss']\n",
        "\n",
        "epochs_range = range(len(hist))\n",
        "\n",
        "plt.figure(figsize=(14, 8))\n",
        "plt.subplot(1, 2, 1)\n",
        "plt.plot(epochs_range, acc, label='Training Accuracy')\n",
        "plt.plot(epochs_range, val_acc, label='Validation Accuracy')\n",
        "plt.legend(loc='upper left')\n",
        "plt.title('Training and Validation Accuracy')\n",
        "\n",
        "plt.subplot(1, 2, 2)\n",
        "plt.plot(epochs_range, loss, label='Training Loss')\n",
        "plt.plot(epochs_range, val_loss, label='Validation Loss')\n",
        "plt.legend(loc='upper left')\n",
        "plt.title('Training and Validation Loss')"
      ],
      "execution_count": null,
      "outputs": [
        {
          "output_type": "execute_result",
          "data": {
            "text/plain": [
              "Text(0.5, 1.0, 'Training and Validation Loss')"
            ]
          },
          "metadata": {
            "tags": []
          },
          "execution_count": 78
        },
        {
          "output_type": "display_data",
          "data": {
            "image/png": "[encoded data removed]",
            "text/plain": [
              "<Figure size 1008x576 with 2 Axes>"
            ]
          },
          "metadata": {
            "tags": [],
            "needs_background": "light"
          }
        }
      ]
    },
    {
      "cell_type": "code",
      "metadata": {
        "id": "xANTkP29vMRE",
        "colab": {
          "base_uri": "https://localhost:8080/"
        },
        "outputId": "292a5556-acd4-4a2b-9a72-7e48b80c4ac8"
      },
      "source": [
        "with tf.device('/device:GPU:0'):\n",
        "  model.evaluate_generator(test_generator, steps=len(valid_df) // batch_size, verbose=1)"
      ],
      "execution_count": null,
      "outputs": [
        {
          "output_type": "stream",
          "text": [
            "/usr/local/lib/python3.7/dist-packages/tensorflow/python/keras/engine/training.py:1877: UserWarning: `Model.evaluate_generator` is deprecated and will be removed in a future version. Please use `Model.evaluate`, which supports generators.\n",
            "  warnings.warn('`Model.evaluate_generator` is deprecated and '\n"
          ],
          "name": "stderr"
        },
        {
          "output_type": "stream",
          "text": [
            "18/18 [==============================] - 23s 1s/step - loss: 0.7300 - accuracy: 0.7374\n"
          ],
          "name": "stdout"
        }
      ]
    },
    {
      "cell_type": "markdown",
      "metadata": {
        "id": "nKcMdZK4y0HI"
      },
      "source": [
        "## VGG16"
      ]
    },
    {
      "cell_type": "markdown",
      "metadata": {
        "id": "5u76z7gvVmJA"
      },
      "source": [
        "* Use VGG16 pretrained model as our base cnn model.\n",
        "* Add cnn model to TimeDistribured layer to classify 6 images in sequence.\n",
        "* Add an LSTM layer in oder to memorize the image features.\n",
        "* Finally a Dense layer with sigmoid activation function to classify the study."
      ]
    },
    {
      "cell_type": "code",
      "metadata": {
        "colab": {
          "base_uri": "https://localhost:8080/"
        },
        "id": "sVTXc7dUwN7E",
        "outputId": "23292f2d-e398-4f43-bce2-8dcc591f229a"
      },
      "source": [
        "def study_model_vgg16(shape=(6, IMG_HEIGHT, IMG_WIDTH, 3), nbout=1):\n",
        "    # Create our resnet with (6, 96, 96, 3) input shape\n",
        "    study = Input(shape=shape)\n",
        "    cnn_base = keras.applications.VGG16(input_shape=shape[1:], weights=\"imagenet\", include_top=False)\n",
        "    cnn_out = GlobalAveragePooling2D()(cnn_base.output)\n",
        "    cnn = Model(inputs=cnn_base.input, outputs=cnn_out)\n",
        "    cnn.trainable = False\n",
        "    frames = TimeDistributed(cnn)(study)\n",
        "    encoded_sequence = LSTM(256)(frames)\n",
        "    hidden_layer = Dense(1024, activation=\"relu\")(encoded_sequence)\n",
        "    hidden_layer = Dropout(.5)(hidden_layer)\n",
        "    hidden_layer = Dense(512, activation=\"relu\")(hidden_layer)\n",
        "    hidden_layer = Dropout(.5)(hidden_layer)\n",
        "    hidden_layer = Dense(64, activation=\"relu\")(hidden_layer)\n",
        "    outputs = Dense(nbout, activation=\"sigmoid\")(hidden_layer)\n",
        "    final_model = Model([study], outputs)\n",
        "    return final_model\n",
        "\n",
        "model_vgg16 = study_model_vgg16()\n",
        "model_vgg16.compile(optimizer=Adam(lr=0.0001),\n",
        "              loss='binary_crossentropy',\n",
        "              metrics=['accuracy'])\n",
        "model_vgg16.summary()"
      ],
      "execution_count": null,
      "outputs": [
        {
          "output_type": "stream",
          "text": [
            "Downloading data from https://storage.googleapis.com/tensorflow/keras-applications/vgg16/vgg16_weights_tf_dim_ordering_tf_kernels_notop.h5\n",
            "58892288/58889256 [==============================] - 1s 0us/step\n",
            "Model: \"model_1\"\n",
            "_________________________________________________________________\n",
            "Layer (type)                 Output Shape              Param #   \n",
            "=================================================================\n",
            "input_1 (InputLayer)         [(None, 6, 96, 96, 3)]    0         \n",
            "_________________________________________________________________\n",
            "time_distributed (TimeDistri (None, 6, 512)            14714688  \n",
            "_________________________________________________________________\n",
            "lstm (LSTM)                  (None, 256)               787456    \n",
            "_________________________________________________________________\n",
            "dense (Dense)                (None, 1024)              263168    \n",
            "_________________________________________________________________\n",
            "dropout (Dropout)            (None, 1024)              0         \n",
            "_________________________________________________________________\n",
            "dense_1 (Dense)              (None, 512)               524800    \n",
            "_________________________________________________________________\n",
            "dropout_1 (Dropout)          (None, 512)               0         \n",
            "_________________________________________________________________\n",
            "dense_2 (Dense)              (None, 64)                32832     \n",
            "_________________________________________________________________\n",
            "dense_3 (Dense)              (None, 1)                 65        \n",
            "=================================================================\n",
            "Total params: 16,323,009\n",
            "Trainable params: 1,608,321\n",
            "Non-trainable params: 14,714,688\n",
            "_________________________________________________________________\n"
          ],
          "name": "stdout"
        }
      ]
    },
    {
      "cell_type": "code",
      "metadata": {
        "colab": {
          "base_uri": "https://localhost:8080/"
        },
        "id": "Sd0GIbhJyI1X",
        "outputId": "92109c75-bff2-4916-9aa8-1808452a1466"
      },
      "source": [
        "if not os.path.exists('/content/gdrive/My Drive/checkpoints'):\n",
        "    os.makedirs('/content/gdrive/My Drive/checkpoints')\n",
        "\n",
        "checkpoint = ModelCheckpoint('/content/gdrive/My Drive/checkpoints/vgg16_model.hdf5',\n",
        "                             monitor='val_loss', \n",
        "                             mode='min', verbose=2,\n",
        "                             save_best_only=True,\n",
        "                             save_weights_only=True)\n",
        "\n",
        "with tf.device('/device:GPU:0'):\n",
        "  history = model_vgg16.fit(\n",
        "    train_generator,\n",
        "    steps_per_epoch=len(train_set) // batch_size,\n",
        "    epochs=epochs,\n",
        "    validation_data=valid_generator,\n",
        "    validation_steps=len(validation_set) // batch_size,\n",
        "    callbacks=[EarlyStopping(monitor='val_loss', patience=3, min_delta=0.0001), checkpoint]\n",
        "  )"
      ],
      "execution_count": null,
      "outputs": [
        {
          "output_type": "stream",
          "text": [
            "Epoch 1/30\n",
            "168/168 [==============================] - 292s 1s/step - loss: 0.6525 - accuracy: 0.6170 - val_loss: 0.6073 - val_accuracy: 0.6589\n",
            "\n",
            "Epoch 00001: val_loss improved from inf to 0.60726, saving model to /content/gdrive/My Drive/checkpoints/vgg16_model.hdf5\n",
            "Epoch 2/30\n",
            "168/168 [==============================] - 231s 1s/step - loss: 0.5899 - accuracy: 0.6866 - val_loss: 0.5821 - val_accuracy: 0.7083\n",
            "\n",
            "Epoch 00002: val_loss improved from 0.60726 to 0.58206, saving model to /content/gdrive/My Drive/checkpoints/vgg16_model.hdf5\n",
            "Epoch 3/30\n",
            "168/168 [==============================] - 224s 1s/step - loss: 0.5406 - accuracy: 0.7334 - val_loss: 0.5748 - val_accuracy: 0.7139\n",
            "\n",
            "Epoch 00003: val_loss improved from 0.58206 to 0.57485, saving model to /content/gdrive/My Drive/checkpoints/vgg16_model.hdf5\n",
            "Epoch 4/30\n",
            "168/168 [==============================] - 225s 1s/step - loss: 0.4956 - accuracy: 0.7664 - val_loss: 0.5867 - val_accuracy: 0.7202\n",
            "\n",
            "Epoch 00004: val_loss did not improve from 0.57485\n",
            "Epoch 5/30\n",
            "168/168 [==============================] - 224s 1s/step - loss: 0.4348 - accuracy: 0.8020 - val_loss: 0.6233 - val_accuracy: 0.7132\n",
            "\n",
            "Epoch 00005: val_loss did not improve from 0.57485\n",
            "Epoch 6/30\n",
            "168/168 [==============================] - 226s 1s/step - loss: 0.3687 - accuracy: 0.8473 - val_loss: 0.7079 - val_accuracy: 0.7091\n",
            "\n",
            "Epoch 00006: val_loss did not improve from 0.57485\n"
          ],
          "name": "stdout"
        }
      ]
    },
    {
      "cell_type": "code",
      "metadata": {
        "colab": {
          "base_uri": "https://localhost:8080/",
          "height": 225
        },
        "id": "7mCi3zGzyWUM",
        "outputId": "b9c0b427-4a62-4a68-ad9f-71d7db192807"
      },
      "source": [
        "hist = pd.DataFrame(history.history)\n",
        "hist['epoch'] = history.epoch\n",
        "hist"
      ],
      "execution_count": null,
      "outputs": [
        {
          "output_type": "execute_result",
          "data": {
            "text/html": [
              "<div>\n",
              "<style scoped>\n",
              "    .dataframe tbody tr th:only-of-type {\n",
              "        vertical-align: middle;\n",
              "    }\n",
              "\n",
              "    .dataframe tbody tr th {\n",
              "        vertical-align: top;\n",
              "    }\n",
              "\n",
              "    .dataframe thead th {\n",
              "        text-align: right;\n",
              "    }\n",
              "</style>\n",
              "<table border=\"1\" class=\"dataframe\">\n",
              "  <thead>\n",
              "    <tr style=\"text-align: right;\">\n",
              "      <th></th>\n",
              "      <th>loss</th>\n",
              "      <th>accuracy</th>\n",
              "      <th>val_loss</th>\n",
              "      <th>val_accuracy</th>\n",
              "      <th>epoch</th>\n",
              "    </tr>\n",
              "  </thead>\n",
              "  <tbody>\n",
              "    <tr>\n",
              "      <th>0</th>\n",
              "      <td>0.631884</td>\n",
              "      <td>0.646763</td>\n",
              "      <td>0.607260</td>\n",
              "      <td>0.658854</td>\n",
              "      <td>0</td>\n",
              "    </tr>\n",
              "    <tr>\n",
              "      <th>1</th>\n",
              "      <td>0.578819</td>\n",
              "      <td>0.695384</td>\n",
              "      <td>0.582064</td>\n",
              "      <td>0.708333</td>\n",
              "      <td>1</td>\n",
              "    </tr>\n",
              "    <tr>\n",
              "      <th>2</th>\n",
              "      <td>0.527252</td>\n",
              "      <td>0.738180</td>\n",
              "      <td>0.574850</td>\n",
              "      <td>0.713914</td>\n",
              "      <td>2</td>\n",
              "    </tr>\n",
              "    <tr>\n",
              "      <th>3</th>\n",
              "      <td>0.478911</td>\n",
              "      <td>0.775836</td>\n",
              "      <td>0.586652</td>\n",
              "      <td>0.720238</td>\n",
              "      <td>3</td>\n",
              "    </tr>\n",
              "    <tr>\n",
              "      <th>4</th>\n",
              "      <td>0.422519</td>\n",
              "      <td>0.810690</td>\n",
              "      <td>0.623323</td>\n",
              "      <td>0.713170</td>\n",
              "      <td>4</td>\n",
              "    </tr>\n",
              "    <tr>\n",
              "      <th>5</th>\n",
              "      <td>0.353727</td>\n",
              "      <td>0.850869</td>\n",
              "      <td>0.707940</td>\n",
              "      <td>0.709077</td>\n",
              "      <td>5</td>\n",
              "    </tr>\n",
              "  </tbody>\n",
              "</table>\n",
              "</div>"
            ],
            "text/plain": [
              "       loss  accuracy  val_loss  val_accuracy  epoch\n",
              "0  0.631884  0.646763  0.607260      0.658854      0\n",
              "1  0.578819  0.695384  0.582064      0.708333      1\n",
              "2  0.527252  0.738180  0.574850      0.713914      2\n",
              "3  0.478911  0.775836  0.586652      0.720238      3\n",
              "4  0.422519  0.810690  0.623323      0.713170      4\n",
              "5  0.353727  0.850869  0.707940      0.709077      5"
            ]
          },
          "metadata": {
            "tags": []
          },
          "execution_count": 19
        }
      ]
    },
    {
      "cell_type": "code",
      "metadata": {
        "colab": {
          "base_uri": "https://localhost:8080/",
          "height": 516
        },
        "id": "GeW93jizylfh",
        "outputId": "3f8f7d01-eae7-45b2-d0bc-3674b41550e7"
      },
      "source": [
        "acc = history.history['accuracy']\n",
        "val_acc = history.history['val_accuracy']\n",
        "\n",
        "loss = history.history['loss']\n",
        "val_loss = history.history['val_loss']\n",
        "\n",
        "epochs_range = range(len(hist))\n",
        "\n",
        "plt.figure(figsize=(14, 8))\n",
        "plt.subplot(1, 2, 1)\n",
        "plt.plot(epochs_range, acc, label='Training Accuracy')\n",
        "plt.plot(epochs_range, val_acc, label='Validation Accuracy')\n",
        "plt.legend(loc='upper left')\n",
        "plt.title('Training and Validation Accuracy')\n",
        "\n",
        "plt.subplot(1, 2, 2)\n",
        "plt.plot(epochs_range, loss, label='Training Loss')\n",
        "plt.plot(epochs_range, val_loss, label='Validation Loss')\n",
        "plt.legend(loc='upper left')\n",
        "plt.title('Training and Validation Loss')"
      ],
      "execution_count": null,
      "outputs": [
        {
          "output_type": "execute_result",
          "data": {
            "text/plain": [
              "Text(0.5, 1.0, 'Training and Validation Loss')"
            ]
          },
          "metadata": {
            "tags": []
          },
          "execution_count": 20
        },
        {
          "output_type": "display_data",
          "data": {
            "image/png": "[encoded data removed]",
            "text/plain": [
              "<Figure size 1008x576 with 2 Axes>"
            ]
          },
          "metadata": {
            "tags": [],
            "needs_background": "light"
          }
        }
      ]
    },
    {
      "cell_type": "code",
      "metadata": {
        "colab": {
          "base_uri": "https://localhost:8080/"
        },
        "id": "7D2FKyimy9DO",
        "outputId": "4c7112c7-5caa-4853-f0e3-50ab0d3ad977"
      },
      "source": [
        "with tf.device('/device:GPU:0'):\n",
        "  model_vgg16.evaluate_generator(test_generator, steps=len(valid_df) // batch_size, verbose=1)"
      ],
      "execution_count": null,
      "outputs": [
        {
          "output_type": "stream",
          "text": [
            "/usr/local/lib/python3.7/dist-packages/tensorflow/python/keras/engine/training.py:1877: UserWarning: `Model.evaluate_generator` is deprecated and will be removed in a future version. Please use `Model.evaluate`, which supports generators.\n",
            "  warnings.warn('`Model.evaluate_generator` is deprecated and '\n"
          ],
          "name": "stderr"
        },
        {
          "output_type": "stream",
          "text": [
            "18/18 [==============================] - 21s 1s/step - loss: 0.7150 - accuracy: 0.7083\n"
          ],
          "name": "stdout"
        }
      ]
    },
    {
      "cell_type": "markdown",
      "metadata": {
        "id": "YEkYP_E2WL2Y"
      },
      "source": [
        "## Results"
      ]
    },
    {
      "cell_type": "markdown",
      "metadata": {
        "id": "mwGVabgvWQfW"
      },
      "source": [
        "The Resnet50 model achieve the best score in terms of accuracy among the 3 models. The accuracy is `0.7374` in test set. The VGG16 is the second model with accuracy `0.7083` in test set. Finally the CNN from scratch achieve accuracy `0.5912` in test set which is the lowest from the 3 experiments. "
      ]
    }
  ]
}
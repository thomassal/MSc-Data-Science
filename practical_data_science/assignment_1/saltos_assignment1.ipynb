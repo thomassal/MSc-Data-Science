{
 "cells": [
  {
   "cell_type": "markdown",
   "metadata": {},
   "source": [
    "# Assignment I: Scraping, Twitter API & Pandas\n",
    "\n",
    "### Name: Thomas Saltos"
   ]
  },
  {
   "cell_type": "markdown",
   "metadata": {},
   "source": [
    "## Part 1: Scraping Twitter Accounts\n",
    "\n",
    "- A `config.py` file is used to hold twitter api keys.\n",
    "- Top 10 trends are printed."
   ]
  },
  {
   "cell_type": "code",
   "execution_count": 125,
   "metadata": {
    "scrolled": true
   },
   "outputs": [
    {
     "name": "stdout",
     "output_type": "stream",
     "text": [
      "#kalytera\n",
      "Γιαννιτσα\n",
      "Φολεγανδρο\n",
      "#stinigiamas\n",
      "#XANOLY\n",
      "#adinamoskrikosgr\n",
      "Κυριακης\n",
      "#annitakoita\n",
      "ξανθη\n",
      "20 Νοεμβριου\n"
     ]
    }
   ],
   "source": [
    "import tweepy\n",
    "import json\n",
    "\n",
    "from twitter_config import config\n",
    "\n",
    "auth = tweepy.OAuthHandler(config['consumer_key'], config['consumer_secret'])\n",
    "auth.set_access_token(config['access_token'], config['access_token_secret'])\n",
    "\n",
    "api = tweepy.API(auth)\n",
    "\n",
    "ATHENS_WOE_ID = 946738\n",
    " \n",
    "athens_trends = api.trends_place(ATHENS_WOE_ID)\n",
    " \n",
    "trends = json.loads(json.dumps(athens_trends, indent=1))\n",
    "for trend in trends[0][\"trends\"][:10]:\n",
    "\tprint (trend[\"name\"])"
   ]
  },
  {
   "cell_type": "markdown",
   "metadata": {},
   "source": [
    "### 1.2 Username Scraping\n",
    "\n",
    "All usernames are inside the divs with class `slide-layout clearfix`. Then each paragraph with link has a username.\n",
    "Some paragraphs are null (an if statement is required)."
   ]
  },
  {
   "cell_type": "code",
   "execution_count": 126,
   "metadata": {
    "scrolled": true
   },
   "outputs": [
    {
     "data": {
      "text/plain": [
       "['@Tom_Slater_',\n",
       " '@MattSingh_',\n",
       " '@asabenn',\n",
       " '@robfordmancs',\n",
       " '@LadPolitics',\n",
       " '@samgadjones',\n",
       " '@PaulbernalUK',\n",
       " '@youngvulgarian',\n",
       " '@JolyonMaugham',\n",
       " '@IanDunt',\n",
       " '@BethRigby',\n",
       " '@PatrickStrud',\n",
       " '@NadineDorriesMP',\n",
       " '@jreedmp',\n",
       " '@stephenkb',\n",
       " '@AbiWilks',\n",
       " '@jessphillips\\xa0',\n",
       " '@SamCoatesTimes',\n",
       " '@toadmeister',\n",
       " '@georgeeaton',\n",
       " '@jimwaterson',\n",
       " '@RuthDavidsonMSP',\n",
       " '@DavidAllenGreen',\n",
       " '@JuliaHB1',\n",
       " '@DavidLammy',\n",
       " '@DPJHodges',\n",
       " '@LouiseMensch',\n",
       " '@montie',\n",
       " '@britainelects',\n",
       " '@ShippersUnbound',\n",
       " '@JamieRoss7',\n",
       " '@DouglasCarswell',\n",
       " '@SophyRidgeSky',\n",
       " '@sunny_hundal',\n",
       " '@MrHarryCole',\n",
       " '@MichaelLCrick',\n",
       " '@Kevin_Maguire',\n",
       " '@JohnRentoul',\n",
       " '@stellacreasy',\n",
       " '@GuidoFawkes',\n",
       " '@tom_watson\\xa0',\n",
       " '@faisalislam\\xa0',\n",
       " '@paulmasonnews\\xa0',\n",
       " '@MhairiBlack',\n",
       " '@OwenJones84',\n",
       " '@suttonnick',\n",
       " '@afneil',\n",
       " '@paulwaugh',\n",
       " '@bbclaurak']"
      ]
     },
     "execution_count": 126,
     "metadata": {},
     "output_type": "execute_result"
    }
   ],
   "source": [
    "import requests\n",
    "from bs4 import BeautifulSoup\n",
    "\n",
    "usernames = []\n",
    "\n",
    "r = requests.get(\"https://www.businessinsider.com/uk-politics-twitter-accounts-2016-8?r=US&IR=T\")\n",
    "\n",
    "html = r.content\n",
    "soup = BeautifulSoup(html, 'html.parser')\n",
    "divs = soup.find_all('div',{\"class\": \"slide-layout clearfix\"})\n",
    "name_list = soup.find(\"p\")\n",
    "for review_title in divs:\n",
    "    name_list = review_title.p.a\n",
    "    if name_list is None:\n",
    "        usernames.append(review_title.p.get_text().replace(\"Handle: \", \"\"))\n",
    "    else:\n",
    "        usernames.append(name_list.get_text())\n",
    "usernames"
   ]
  },
  {
   "cell_type": "markdown",
   "metadata": {},
   "source": [
    "### 1.3 Fetch Tweets\n",
    "\n",
    "* Last 24 hours: `datetime.now() - timedelta(days=1)`\n",
    "* For each username fetch tweets\n",
    "* Compare the two timestamps (status.created_at and end_date)"
   ]
  },
  {
   "cell_type": "code",
   "execution_count": 127,
   "metadata": {
    "scrolled": true
   },
   "outputs": [
    {
     "name": "stdout",
     "output_type": "stream",
     "text": [
      "@Tom_Slater_ 1\n",
      "@MattSingh_ 19\n",
      "@asabenn 1\n",
      "@robfordmancs 45\n",
      "@LadPolitics 4\n",
      "@samgadjones 1\n",
      "@PaulbernalUK 57\n",
      "@youngvulgarian 14\n",
      "@JolyonMaugham 37\n",
      "@IanDunt 15\n",
      "@BethRigby 3\n",
      "@PatrickStrud 2\n",
      "Cound not fetch @NadineDorriesMP\n",
      "Cound not fetch @jreedmp\n",
      "@stephenkb 9\n",
      "@AbiWilks 28\n",
      "Cound not fetch @jessphillips \n",
      "@SamCoatesTimes 1\n",
      "@toadmeister 5\n",
      "@georgeeaton 3\n",
      "@jimwaterson 15\n",
      "@RuthDavidsonMSP 2\n",
      "@DavidAllenGreen 1\n",
      "@JuliaHB1 5\n",
      "@DavidLammy 5\n",
      "@DPJHodges 40\n",
      "@LouiseMensch 72\n",
      "@montie 1\n",
      "@britainelects 5\n",
      "@ShippersUnbound 15\n",
      "@JamieRoss7 1\n",
      "@DouglasCarswell 12\n",
      "@SophyRidgeSky 4\n",
      "@sunny_hundal 15\n",
      "@MrHarryCole 10\n",
      "@MichaelLCrick 15\n",
      "@Kevin_Maguire 2\n",
      "@JohnRentoul 62\n",
      "@stellacreasy 11\n",
      "@GuidoFawkes 40\n",
      "Cound not fetch @tom_watson \n",
      "Cound not fetch @faisalislam \n",
      "Cound not fetch @paulmasonnews \n",
      "@MhairiBlack 2\n",
      "@OwenJones84 5\n",
      "@suttonnick 1\n",
      "@afneil 1\n",
      "@paulwaugh 2\n",
      "@bbclaurak 1\n"
     ]
    }
   ],
   "source": [
    "from datetime import datetime, date, time, timedelta\n",
    "from tweepy import Cursor\n",
    "\n",
    "end_date = datetime.now() - timedelta(days=1)\n",
    "tweet_count = 0\n",
    "for username in usernames:\n",
    "    try:\n",
    "        for status in Cursor(api.user_timeline, id=username, include_rts=False).items():\n",
    "            tweet_count += 1\n",
    "            if status.created_at < end_date:\n",
    "                break\n",
    "        print(username, tweet_count)\n",
    "        tweet_count = 0\n",
    "    except Exception as e :\n",
    "        print(\"Cound not fetch {}\".format(username))"
   ]
  },
  {
   "cell_type": "markdown",
   "metadata": {},
   "source": [
    "## Part 2: Proccessing Twitter Accounts"
   ]
  },
  {
   "cell_type": "markdown",
   "metadata": {},
   "source": [
    "### 2.1 Scrape and Put in a DataFrame\n",
    "- A list is used for each row of the html table.\n",
    "- The list is converted to a list of lists.\n",
    "- A dataframe with name `df` is created."
   ]
  },
  {
   "cell_type": "code",
   "execution_count": 6,
   "metadata": {},
   "outputs": [
    {
     "data": {
      "text/html": [
       "<div>\n",
       "<style scoped>\n",
       "    .dataframe tbody tr th:only-of-type {\n",
       "        vertical-align: middle;\n",
       "    }\n",
       "\n",
       "    .dataframe tbody tr th {\n",
       "        vertical-align: top;\n",
       "    }\n",
       "\n",
       "    .dataframe thead th {\n",
       "        text-align: right;\n",
       "    }\n",
       "</style>\n",
       "<table border=\"1\" class=\"dataframe\">\n",
       "  <thead>\n",
       "    <tr style=\"text-align: right;\">\n",
       "      <th></th>\n",
       "      <th>name</th>\n",
       "      <th>username</th>\n",
       "      <th>constituency</th>\n",
       "      <th>party</th>\n",
       "      <th>num_followers</th>\n",
       "    </tr>\n",
       "  </thead>\n",
       "  <tbody>\n",
       "    <tr>\n",
       "      <th>0</th>\n",
       "      <td>Adam Afriyie</td>\n",
       "      <td>@AdamAfriyie</td>\n",
       "      <td>Windsor</td>\n",
       "      <td>Conservative</td>\n",
       "      <td>14961</td>\n",
       "    </tr>\n",
       "    <tr>\n",
       "      <th>1</th>\n",
       "      <td>Alan Duncan</td>\n",
       "      <td>@AlanDuncanMP</td>\n",
       "      <td>Rutland and Melton</td>\n",
       "      <td>Conservative</td>\n",
       "      <td>26121</td>\n",
       "    </tr>\n",
       "    <tr>\n",
       "      <th>2</th>\n",
       "      <td>Alan Mak</td>\n",
       "      <td>@AlanMakMP</td>\n",
       "      <td>Havant</td>\n",
       "      <td>Conservative</td>\n",
       "      <td>8346</td>\n",
       "    </tr>\n",
       "    <tr>\n",
       "      <th>3</th>\n",
       "      <td>Alberto Costa</td>\n",
       "      <td>@AlbertoCostaMP</td>\n",
       "      <td>South Leicestershire</td>\n",
       "      <td>Conservative</td>\n",
       "      <td>8998</td>\n",
       "    </tr>\n",
       "    <tr>\n",
       "      <th>4</th>\n",
       "      <td>Alec Shelbrooke</td>\n",
       "      <td>@AlecShelbrooke</td>\n",
       "      <td>Elmet and Rothwell</td>\n",
       "      <td>Conservative</td>\n",
       "      <td>15096</td>\n",
       "    </tr>\n",
       "  </tbody>\n",
       "</table>\n",
       "</div>"
      ],
      "text/plain": [
       "               name         username          constituency         party  \\\n",
       "0     Adam Afriyie      @AdamAfriyie               Windsor  Conservative   \n",
       "1      Alan Duncan     @AlanDuncanMP    Rutland and Melton  Conservative   \n",
       "2         Alan Mak        @AlanMakMP                Havant  Conservative   \n",
       "3    Alberto Costa   @AlbertoCostaMP  South Leicestershire  Conservative   \n",
       "4  Alec Shelbrooke   @AlecShelbrooke    Elmet and Rothwell  Conservative   \n",
       "\n",
       "   num_followers  \n",
       "0          14961  \n",
       "1          26121  \n",
       "2           8346  \n",
       "3           8998  \n",
       "4          15096  "
      ]
     },
     "execution_count": 6,
     "metadata": {},
     "output_type": "execute_result"
    }
   ],
   "source": [
    "import pandas as pd\n",
    "\n",
    "html = requests.get(\"https://www.mpsontwitter.co.uk/list\").content\n",
    "\n",
    "soup = BeautifulSoup(html, 'html.parser')\n",
    "rows = soup.find_all('td')\n",
    "l = []\n",
    "for row in rows:\n",
    "    l.append(row.get_text())\n",
    "#remove empty characters\n",
    "l = list(filter(None, l))\n",
    "#convert flat list to list of lists\n",
    "l = zip(*[iter(l)]*7)\n",
    "l = list(l)\n",
    "df = pd.DataFrame(l, columns=[\"id\", \"name\", \"username\", \"constituency\", \"party\", \"num_followers\", \"new_followers\"])\n",
    "df.drop([\"id\", \"new_followers\"], axis=1, inplace=True)\n",
    "#replace , with empty character and convert num_followers to int\n",
    "df['num_followers'] = pd.Series(df['num_followers']).str.replace(',', '').astype(int)\n",
    "df.head()"
   ]
  },
  {
   "cell_type": "markdown",
   "metadata": {},
   "source": [
    "### 2.2 Create a Hierarchical Index"
   ]
  },
  {
   "cell_type": "code",
   "execution_count": 7,
   "metadata": {},
   "outputs": [
    {
     "data": {
      "text/html": [
       "<div>\n",
       "<style scoped>\n",
       "    .dataframe tbody tr th:only-of-type {\n",
       "        vertical-align: middle;\n",
       "    }\n",
       "\n",
       "    .dataframe tbody tr th {\n",
       "        vertical-align: top;\n",
       "    }\n",
       "\n",
       "    .dataframe thead th {\n",
       "        text-align: right;\n",
       "    }\n",
       "</style>\n",
       "<table border=\"1\" class=\"dataframe\">\n",
       "  <thead>\n",
       "    <tr style=\"text-align: right;\">\n",
       "      <th></th>\n",
       "      <th></th>\n",
       "      <th>username</th>\n",
       "    </tr>\n",
       "    <tr>\n",
       "      <th>party</th>\n",
       "      <th>num_followers</th>\n",
       "      <th></th>\n",
       "    </tr>\n",
       "  </thead>\n",
       "  <tbody>\n",
       "    <tr>\n",
       "      <th rowspan=\"5\" valign=\"top\">Conservative</th>\n",
       "      <th>14961</th>\n",
       "      <td>@AdamAfriyie</td>\n",
       "    </tr>\n",
       "    <tr>\n",
       "      <th>26121</th>\n",
       "      <td>@AlanDuncanMP</td>\n",
       "    </tr>\n",
       "    <tr>\n",
       "      <th>8346</th>\n",
       "      <td>@AlanMakMP</td>\n",
       "    </tr>\n",
       "    <tr>\n",
       "      <th>8998</th>\n",
       "      <td>@AlbertoCostaMP</td>\n",
       "    </tr>\n",
       "    <tr>\n",
       "      <th>15096</th>\n",
       "      <td>@AlecShelbrooke</td>\n",
       "    </tr>\n",
       "    <tr>\n",
       "      <th>...</th>\n",
       "      <th>...</th>\n",
       "      <td>...</td>\n",
       "    </tr>\n",
       "    <tr>\n",
       "      <th rowspan=\"5\" valign=\"top\">The Independent Group</th>\n",
       "      <th>20665</th>\n",
       "      <td>@anncoffey_mp</td>\n",
       "    </tr>\n",
       "    <tr>\n",
       "      <th>198001</th>\n",
       "      <td>@Anna_Soubry</td>\n",
       "    </tr>\n",
       "    <tr>\n",
       "      <th>51744</th>\n",
       "      <td>@ChrisLeslieMP</td>\n",
       "    </tr>\n",
       "    <tr>\n",
       "      <th>19509</th>\n",
       "      <td>@joanryanEnfield</td>\n",
       "    </tr>\n",
       "    <tr>\n",
       "      <th>42869</th>\n",
       "      <td>@MikeGapes</td>\n",
       "    </tr>\n",
       "  </tbody>\n",
       "</table>\n",
       "<p>587 rows × 1 columns</p>\n",
       "</div>"
      ],
      "text/plain": [
       "                                             username\n",
       "party                 num_followers                  \n",
       "Conservative          14961              @AdamAfriyie\n",
       "                      26121             @AlanDuncanMP\n",
       "                      8346                 @AlanMakMP\n",
       "                      8998            @AlbertoCostaMP\n",
       "                      15096           @AlecShelbrooke\n",
       "...                                               ...\n",
       "The Independent Group 20665             @anncoffey_mp\n",
       "                      198001             @Anna_Soubry\n",
       "                      51744            @ChrisLeslieMP\n",
       "                      19509          @joanryanEnfield\n",
       "                      42869                @MikeGapes\n",
       "\n",
       "[587 rows x 1 columns]"
      ]
     },
     "execution_count": 7,
     "metadata": {},
     "output_type": "execute_result"
    }
   ],
   "source": [
    "df.set_index(['party', 'num_followers']).drop(['name', 'constituency'], axis=1)"
   ]
  },
  {
   "cell_type": "markdown",
   "metadata": {},
   "source": [
    "### 2.3 Assess the Party Twitter Power\n",
    "\n",
    "Number of followers foreach party."
   ]
  },
  {
   "cell_type": "code",
   "execution_count": 8,
   "metadata": {},
   "outputs": [
    {
     "data": {
      "text/html": [
       "<div>\n",
       "<style scoped>\n",
       "    .dataframe tbody tr th:only-of-type {\n",
       "        vertical-align: middle;\n",
       "    }\n",
       "\n",
       "    .dataframe tbody tr th {\n",
       "        vertical-align: top;\n",
       "    }\n",
       "\n",
       "    .dataframe thead th {\n",
       "        text-align: right;\n",
       "    }\n",
       "</style>\n",
       "<table border=\"1\" class=\"dataframe\">\n",
       "  <thead>\n",
       "    <tr style=\"text-align: right;\">\n",
       "      <th></th>\n",
       "      <th>party</th>\n",
       "      <th>num_followers</th>\n",
       "    </tr>\n",
       "  </thead>\n",
       "  <tbody>\n",
       "    <tr>\n",
       "      <th>0</th>\n",
       "      <td>Conservative</td>\n",
       "      <td>7615013</td>\n",
       "    </tr>\n",
       "    <tr>\n",
       "      <th>1</th>\n",
       "      <td>Democratic Unionist Party</td>\n",
       "      <td>98010</td>\n",
       "    </tr>\n",
       "    <tr>\n",
       "      <th>2</th>\n",
       "      <td>Green Party</td>\n",
       "      <td>431556</td>\n",
       "    </tr>\n",
       "    <tr>\n",
       "      <th>3</th>\n",
       "      <td>Independent</td>\n",
       "      <td>1254400</td>\n",
       "    </tr>\n",
       "    <tr>\n",
       "      <th>4</th>\n",
       "      <td>Labour</td>\n",
       "      <td>10865391</td>\n",
       "    </tr>\n",
       "    <tr>\n",
       "      <th>5</th>\n",
       "      <td>Liberal Democrat</td>\n",
       "      <td>1447445</td>\n",
       "    </tr>\n",
       "    <tr>\n",
       "      <th>6</th>\n",
       "      <td>Plaid Cymru</td>\n",
       "      <td>38810</td>\n",
       "    </tr>\n",
       "    <tr>\n",
       "      <th>7</th>\n",
       "      <td>Scottish National Party</td>\n",
       "      <td>787237</td>\n",
       "    </tr>\n",
       "    <tr>\n",
       "      <th>8</th>\n",
       "      <td>Sinn Fein</td>\n",
       "      <td>69629</td>\n",
       "    </tr>\n",
       "    <tr>\n",
       "      <th>9</th>\n",
       "      <td>The Independent Group</td>\n",
       "      <td>332788</td>\n",
       "    </tr>\n",
       "    <tr>\n",
       "      <th>10</th>\n",
       "      <td>liberal democrat</td>\n",
       "      <td>92226</td>\n",
       "    </tr>\n",
       "  </tbody>\n",
       "</table>\n",
       "</div>"
      ],
      "text/plain": [
       "                        party  num_followers\n",
       "0                Conservative        7615013\n",
       "1   Democratic Unionist Party          98010\n",
       "2                 Green Party         431556\n",
       "3                 Independent        1254400\n",
       "4                      Labour       10865391\n",
       "5            Liberal Democrat        1447445\n",
       "6                 Plaid Cymru          38810\n",
       "7     Scottish National Party         787237\n",
       "8                   Sinn Fein          69629\n",
       "9       The Independent Group         332788\n",
       "10           liberal democrat          92226"
      ]
     },
     "execution_count": 8,
     "metadata": {},
     "output_type": "execute_result"
    }
   ],
   "source": [
    "df_twitter_power = df.groupby(['party'], as_index=False).agg({'num_followers':'sum'})\n",
    "df_twitter_power"
   ]
  },
  {
   "cell_type": "code",
   "execution_count": 9,
   "metadata": {},
   "outputs": [
    {
     "data": {
      "text/plain": [
       "<matplotlib.axes._subplots.AxesSubplot at 0x14a28950>"
      ]
     },
     "execution_count": 9,
     "metadata": {},
     "output_type": "execute_result"
    },
    {
     "data": {
      "image/png": "[encoded data removed]",
      "text/plain": [
       "<Figure size 432x288 with 1 Axes>"
      ]
     },
     "metadata": {
      "needs_background": "light"
     },
     "output_type": "display_data"
    }
   ],
   "source": [
    "import matplotlib.pyplot as plt\n",
    "import seaborn as sns\n",
    "\n",
    "%matplotlib inline\n",
    "\n",
    "df_twitter_power.plot(x='party', y='num_followers', kind='bar')"
   ]
  },
  {
   "cell_type": "code",
   "execution_count": 26,
   "metadata": {},
   "outputs": [
    {
     "data": {
      "image/png": "[encoded data removed]",
      "text/plain": [
       "<Figure size 1152x576 with 1 Axes>"
      ]
     },
     "metadata": {
      "needs_background": "light"
     },
     "output_type": "display_data"
    }
   ],
   "source": [
    "plt.figure(figsize=(16, 8))\n",
    "plt.xticks(rotation='vertical')\n",
    "ax = sns.barplot(x='party', y='num_followers',\n",
    "                 edgecolor='black',\n",
    "                 data=df_twitter_power)"
   ]
  },
  {
   "cell_type": "markdown",
   "metadata": {},
   "source": [
    "## Part 3: Processing Text Content"
   ]
  },
  {
   "cell_type": "markdown",
   "metadata": {},
   "source": [
    "### 3.1 Prepare a Profanity Set\n",
    "\n",
    "- `urllib` is used to fetch the data.\n",
    "- Split each line in the `\\n` and `\\t` characters.\n",
    "- The list `words` contains the first word of each line.\n",
    "- Only the top (404 terms) and the bottom (388 terms) list is saved.\n",
    "- 792 abuse terms"
   ]
  },
  {
   "cell_type": "code",
   "execution_count": 124,
   "metadata": {},
   "outputs": [
    {
     "data": {
      "text/plain": [
       "792"
      ]
     },
     "execution_count": 124,
     "metadata": {},
     "output_type": "execute_result"
    }
   ],
   "source": [
    "import urllib.request\n",
    "\n",
    "url = 'http://staffwww.dcs.shef.ac.uk/people/G.Gorrell/publications-materials/abuse-terms.txt'\n",
    "data = urllib.request.urlopen(url)\n",
    "words = []\n",
    "abuse_words = []\n",
    "for line in data:\n",
    "    #clear noise\n",
    "    words.append(line.decode('utf-8').split('\\n', 1)[0].split('\\t', 1)[0])\n",
    "#save only abuse terms\n",
    "abuse_words = words[24:428] + words[433:821]\n",
    "len(abuse_words)"
   ]
  },
  {
   "cell_type": "markdown",
   "metadata": {},
   "source": [
    "### 3.2 Parse Tweets"
   ]
  },
  {
   "cell_type": "code",
   "execution_count": 8,
   "metadata": {},
   "outputs": [
    {
     "data": {
      "text/html": [
       "<div>\n",
       "<style scoped>\n",
       "    .dataframe tbody tr th:only-of-type {\n",
       "        vertical-align: middle;\n",
       "    }\n",
       "\n",
       "    .dataframe tbody tr th {\n",
       "        vertical-align: top;\n",
       "    }\n",
       "\n",
       "    .dataframe thead th {\n",
       "        text-align: right;\n",
       "    }\n",
       "</style>\n",
       "<table border=\"1\" class=\"dataframe\">\n",
       "  <thead>\n",
       "    <tr style=\"text-align: right;\">\n",
       "      <th></th>\n",
       "      <th>count</th>\n",
       "      <th>hate_speech</th>\n",
       "      <th>offensive_language</th>\n",
       "      <th>neither</th>\n",
       "      <th>class</th>\n",
       "      <th>text</th>\n",
       "    </tr>\n",
       "  </thead>\n",
       "  <tbody>\n",
       "    <tr>\n",
       "      <th>0</th>\n",
       "      <td>3</td>\n",
       "      <td>0</td>\n",
       "      <td>0</td>\n",
       "      <td>3</td>\n",
       "      <td>2</td>\n",
       "      <td>!!! RT @mayasolovely: As a woman you shouldn't...</td>\n",
       "    </tr>\n",
       "    <tr>\n",
       "      <th>1</th>\n",
       "      <td>3</td>\n",
       "      <td>0</td>\n",
       "      <td>3</td>\n",
       "      <td>0</td>\n",
       "      <td>1</td>\n",
       "      <td>!!!!! RT @mleew17: boy dats cold...tyga dwn ba...</td>\n",
       "    </tr>\n",
       "    <tr>\n",
       "      <th>2</th>\n",
       "      <td>3</td>\n",
       "      <td>0</td>\n",
       "      <td>3</td>\n",
       "      <td>0</td>\n",
       "      <td>1</td>\n",
       "      <td>!!!!!!! RT @UrKindOfBrand Dawg!!!! RT @80sbaby...</td>\n",
       "    </tr>\n",
       "    <tr>\n",
       "      <th>3</th>\n",
       "      <td>3</td>\n",
       "      <td>0</td>\n",
       "      <td>2</td>\n",
       "      <td>1</td>\n",
       "      <td>1</td>\n",
       "      <td>!!!!!!!!! RT @C_G_Anderson: @viva_based she lo...</td>\n",
       "    </tr>\n",
       "    <tr>\n",
       "      <th>4</th>\n",
       "      <td>6</td>\n",
       "      <td>0</td>\n",
       "      <td>6</td>\n",
       "      <td>0</td>\n",
       "      <td>1</td>\n",
       "      <td>!!!!!!!!!!!!! RT @ShenikaRoberts: The shit you...</td>\n",
       "    </tr>\n",
       "  </tbody>\n",
       "</table>\n",
       "</div>"
      ],
      "text/plain": [
       "   count  hate_speech  offensive_language  neither  class  \\\n",
       "0      3            0                   0        3      2   \n",
       "1      3            0                   3        0      1   \n",
       "2      3            0                   3        0      1   \n",
       "3      3            0                   2        1      1   \n",
       "4      6            0                   6        0      1   \n",
       "\n",
       "                                                text  \n",
       "0  !!! RT @mayasolovely: As a woman you shouldn't...  \n",
       "1  !!!!! RT @mleew17: boy dats cold...tyga dwn ba...  \n",
       "2  !!!!!!! RT @UrKindOfBrand Dawg!!!! RT @80sbaby...  \n",
       "3  !!!!!!!!! RT @C_G_Anderson: @viva_based she lo...  \n",
       "4  !!!!!!!!!!!!! RT @ShenikaRoberts: The shit you...  "
      ]
     },
     "execution_count": 8,
     "metadata": {},
     "output_type": "execute_result"
    }
   ],
   "source": [
    "#load dataframe from csv\n",
    "file = \"https://raw.githubusercontent.com/t-davidson/hate-speech-and-offensive-language/master/data/labeled_data.csv\"\n",
    "df = pd.read_csv(file, index_col=0)\n",
    "\n",
    "df.rename(columns={'tweet': 'text'}, inplace=True)\n",
    "df.head()"
   ]
  },
  {
   "cell_type": "code",
   "execution_count": 9,
   "metadata": {},
   "outputs": [
    {
     "data": {
      "text/html": [
       "<div>\n",
       "<style scoped>\n",
       "    .dataframe tbody tr th:only-of-type {\n",
       "        vertical-align: middle;\n",
       "    }\n",
       "\n",
       "    .dataframe tbody tr th {\n",
       "        vertical-align: top;\n",
       "    }\n",
       "\n",
       "    .dataframe thead th {\n",
       "        text-align: right;\n",
       "    }\n",
       "</style>\n",
       "<table border=\"1\" class=\"dataframe\">\n",
       "  <thead>\n",
       "    <tr style=\"text-align: right;\">\n",
       "      <th></th>\n",
       "      <th>count</th>\n",
       "      <th>hate_speech</th>\n",
       "      <th>offensive_language</th>\n",
       "      <th>neither</th>\n",
       "      <th>class</th>\n",
       "      <th>text</th>\n",
       "      <th>word</th>\n",
       "    </tr>\n",
       "  </thead>\n",
       "  <tbody>\n",
       "    <tr>\n",
       "      <th>0</th>\n",
       "      <td>3</td>\n",
       "      <td>0</td>\n",
       "      <td>0</td>\n",
       "      <td>3</td>\n",
       "      <td>2</td>\n",
       "      <td>!!! RT @mayasolovely: As a woman you shouldn't...</td>\n",
       "      <td>[!!!, RT, @mayasolovely:, As, a, woman, you, s...</td>\n",
       "    </tr>\n",
       "    <tr>\n",
       "      <th>1</th>\n",
       "      <td>3</td>\n",
       "      <td>0</td>\n",
       "      <td>3</td>\n",
       "      <td>0</td>\n",
       "      <td>1</td>\n",
       "      <td>!!!!! RT @mleew17: boy dats cold...tyga dwn ba...</td>\n",
       "      <td>[!!!!!, RT, @mleew17:, boy, dats, cold...tyga,...</td>\n",
       "    </tr>\n",
       "    <tr>\n",
       "      <th>2</th>\n",
       "      <td>3</td>\n",
       "      <td>0</td>\n",
       "      <td>3</td>\n",
       "      <td>0</td>\n",
       "      <td>1</td>\n",
       "      <td>!!!!!!! RT @UrKindOfBrand Dawg!!!! RT @80sbaby...</td>\n",
       "      <td>[!!!!!!!, RT, @UrKindOfBrand, Dawg!!!!, RT, @8...</td>\n",
       "    </tr>\n",
       "    <tr>\n",
       "      <th>3</th>\n",
       "      <td>3</td>\n",
       "      <td>0</td>\n",
       "      <td>2</td>\n",
       "      <td>1</td>\n",
       "      <td>1</td>\n",
       "      <td>!!!!!!!!! RT @C_G_Anderson: @viva_based she lo...</td>\n",
       "      <td>[!!!!!!!!!, RT, @C_G_Anderson:, @viva_based, s...</td>\n",
       "    </tr>\n",
       "    <tr>\n",
       "      <th>4</th>\n",
       "      <td>6</td>\n",
       "      <td>0</td>\n",
       "      <td>6</td>\n",
       "      <td>0</td>\n",
       "      <td>1</td>\n",
       "      <td>!!!!!!!!!!!!! RT @ShenikaRoberts: The shit you...</td>\n",
       "      <td>[!!!!!!!!!!!!!, RT, @ShenikaRoberts:, The, shi...</td>\n",
       "    </tr>\n",
       "  </tbody>\n",
       "</table>\n",
       "</div>"
      ],
      "text/plain": [
       "   count  hate_speech  offensive_language  neither  class  \\\n",
       "0      3            0                   0        3      2   \n",
       "1      3            0                   3        0      1   \n",
       "2      3            0                   3        0      1   \n",
       "3      3            0                   2        1      1   \n",
       "4      6            0                   6        0      1   \n",
       "\n",
       "                                                text  \\\n",
       "0  !!! RT @mayasolovely: As a woman you shouldn't...   \n",
       "1  !!!!! RT @mleew17: boy dats cold...tyga dwn ba...   \n",
       "2  !!!!!!! RT @UrKindOfBrand Dawg!!!! RT @80sbaby...   \n",
       "3  !!!!!!!!! RT @C_G_Anderson: @viva_based she lo...   \n",
       "4  !!!!!!!!!!!!! RT @ShenikaRoberts: The shit you...   \n",
       "\n",
       "                                                word  \n",
       "0  [!!!, RT, @mayasolovely:, As, a, woman, you, s...  \n",
       "1  [!!!!!, RT, @mleew17:, boy, dats, cold...tyga,...  \n",
       "2  [!!!!!!!, RT, @UrKindOfBrand, Dawg!!!!, RT, @8...  \n",
       "3  [!!!!!!!!!, RT, @C_G_Anderson:, @viva_based, s...  \n",
       "4  [!!!!!!!!!!!!!, RT, @ShenikaRoberts:, The, shi...  "
      ]
     },
     "execution_count": 9,
     "metadata": {},
     "output_type": "execute_result"
    }
   ],
   "source": [
    "df['word'] = df['text'].str.split(' ')\n",
    "df.head()"
   ]
  },
  {
   "cell_type": "markdown",
   "metadata": {},
   "source": [
    "### 3.3 Count Abuse\n",
    "\n",
    " - The `common_member` function is used to find the number of common terms between two lists.\n",
    " - The new column `bad word` contains the number of abuse terms."
   ]
  },
  {
   "cell_type": "code",
   "execution_count": 123,
   "metadata": {},
   "outputs": [
    {
     "data": {
      "text/html": [
       "<div>\n",
       "<style scoped>\n",
       "    .dataframe tbody tr th:only-of-type {\n",
       "        vertical-align: middle;\n",
       "    }\n",
       "\n",
       "    .dataframe tbody tr th {\n",
       "        vertical-align: top;\n",
       "    }\n",
       "\n",
       "    .dataframe thead th {\n",
       "        text-align: right;\n",
       "    }\n",
       "</style>\n",
       "<table border=\"1\" class=\"dataframe\">\n",
       "  <thead>\n",
       "    <tr style=\"text-align: right;\">\n",
       "      <th></th>\n",
       "      <th>count</th>\n",
       "      <th>hate_speech</th>\n",
       "      <th>offensive_language</th>\n",
       "      <th>neither</th>\n",
       "      <th>class</th>\n",
       "      <th>text</th>\n",
       "      <th>word</th>\n",
       "      <th>bad words</th>\n",
       "    </tr>\n",
       "  </thead>\n",
       "  <tbody>\n",
       "    <tr>\n",
       "      <th>0</th>\n",
       "      <td>3</td>\n",
       "      <td>0</td>\n",
       "      <td>0</td>\n",
       "      <td>3</td>\n",
       "      <td>2</td>\n",
       "      <td>!!! RT @mayasolovely: As a woman you shouldn't...</td>\n",
       "      <td>[!!!, RT, @mayasolovely:, As, a, woman, you, s...</td>\n",
       "      <td>0</td>\n",
       "    </tr>\n",
       "    <tr>\n",
       "      <th>1</th>\n",
       "      <td>3</td>\n",
       "      <td>0</td>\n",
       "      <td>3</td>\n",
       "      <td>0</td>\n",
       "      <td>1</td>\n",
       "      <td>!!!!! RT @mleew17: boy dats cold...tyga dwn ba...</td>\n",
       "      <td>[!!!!!, RT, @mleew17:, boy, dats, cold...tyga,...</td>\n",
       "      <td>0</td>\n",
       "    </tr>\n",
       "    <tr>\n",
       "      <th>2</th>\n",
       "      <td>3</td>\n",
       "      <td>0</td>\n",
       "      <td>3</td>\n",
       "      <td>0</td>\n",
       "      <td>1</td>\n",
       "      <td>!!!!!!! RT @UrKindOfBrand Dawg!!!! RT @80sbaby...</td>\n",
       "      <td>[!!!!!!!, RT, @UrKindOfBrand, Dawg!!!!, RT, @8...</td>\n",
       "      <td>1</td>\n",
       "    </tr>\n",
       "    <tr>\n",
       "      <th>3</th>\n",
       "      <td>3</td>\n",
       "      <td>0</td>\n",
       "      <td>2</td>\n",
       "      <td>1</td>\n",
       "      <td>1</td>\n",
       "      <td>!!!!!!!!! RT @C_G_Anderson: @viva_based she lo...</td>\n",
       "      <td>[!!!!!!!!!, RT, @C_G_Anderson:, @viva_based, s...</td>\n",
       "      <td>1</td>\n",
       "    </tr>\n",
       "    <tr>\n",
       "      <th>4</th>\n",
       "      <td>6</td>\n",
       "      <td>0</td>\n",
       "      <td>6</td>\n",
       "      <td>0</td>\n",
       "      <td>1</td>\n",
       "      <td>!!!!!!!!!!!!! RT @ShenikaRoberts: The shit you...</td>\n",
       "      <td>[!!!!!!!!!!!!!, RT, @ShenikaRoberts:, The, shi...</td>\n",
       "      <td>1</td>\n",
       "    </tr>\n",
       "  </tbody>\n",
       "</table>\n",
       "</div>"
      ],
      "text/plain": [
       "   count  hate_speech  offensive_language  neither  class  \\\n",
       "0      3            0                   0        3      2   \n",
       "1      3            0                   3        0      1   \n",
       "2      3            0                   3        0      1   \n",
       "3      3            0                   2        1      1   \n",
       "4      6            0                   6        0      1   \n",
       "\n",
       "                                                text  \\\n",
       "0  !!! RT @mayasolovely: As a woman you shouldn't...   \n",
       "1  !!!!! RT @mleew17: boy dats cold...tyga dwn ba...   \n",
       "2  !!!!!!! RT @UrKindOfBrand Dawg!!!! RT @80sbaby...   \n",
       "3  !!!!!!!!! RT @C_G_Anderson: @viva_based she lo...   \n",
       "4  !!!!!!!!!!!!! RT @ShenikaRoberts: The shit you...   \n",
       "\n",
       "                                                word  bad words  \n",
       "0  [!!!, RT, @mayasolovely:, As, a, woman, you, s...          0  \n",
       "1  [!!!!!, RT, @mleew17:, boy, dats, cold...tyga,...          0  \n",
       "2  [!!!!!!!, RT, @UrKindOfBrand, Dawg!!!!, RT, @8...          1  \n",
       "3  [!!!!!!!!!, RT, @C_G_Anderson:, @viva_based, s...          1  \n",
       "4  [!!!!!!!!!!!!!, RT, @ShenikaRoberts:, The, shi...          1  "
      ]
     },
     "execution_count": 123,
     "metadata": {},
     "output_type": "execute_result"
    }
   ],
   "source": [
    "def common_member(a, b):\n",
    "    \"\"\"\n",
    "    This function returns the number of\n",
    "    common elements of two lists\n",
    "    \"\"\"\n",
    "    a_set = set(a) \n",
    "    b_set = set(b) \n",
    "    # check length  \n",
    "    return len(a_set.intersection(b_set))\n",
    "\n",
    "df['bad words'] = (df.apply(lambda x: common_member(x['word'], abuse_words), axis=1))\n",
    "df.head()"
   ]
  },
  {
   "cell_type": "markdown",
   "metadata": {},
   "source": [
    "#### Statistics per class"
   ]
  },
  {
   "cell_type": "code",
   "execution_count": 11,
   "metadata": {},
   "outputs": [
    {
     "data": {
      "text/html": [
       "<div>\n",
       "<style scoped>\n",
       "    .dataframe tbody tr th:only-of-type {\n",
       "        vertical-align: middle;\n",
       "    }\n",
       "\n",
       "    .dataframe tbody tr th {\n",
       "        vertical-align: top;\n",
       "    }\n",
       "\n",
       "    .dataframe thead th {\n",
       "        text-align: right;\n",
       "    }\n",
       "</style>\n",
       "<table border=\"1\" class=\"dataframe\">\n",
       "  <thead>\n",
       "    <tr style=\"text-align: right;\">\n",
       "      <th></th>\n",
       "      <th>mean</th>\n",
       "      <th>median</th>\n",
       "      <th>min</th>\n",
       "      <th>max</th>\n",
       "      <th>sum</th>\n",
       "    </tr>\n",
       "    <tr>\n",
       "      <th>class</th>\n",
       "      <th></th>\n",
       "      <th></th>\n",
       "      <th></th>\n",
       "      <th></th>\n",
       "      <th></th>\n",
       "    </tr>\n",
       "  </thead>\n",
       "  <tbody>\n",
       "    <tr>\n",
       "      <th>0</th>\n",
       "      <td>0.643357</td>\n",
       "      <td>1</td>\n",
       "      <td>0</td>\n",
       "      <td>10</td>\n",
       "      <td>920</td>\n",
       "    </tr>\n",
       "    <tr>\n",
       "      <th>1</th>\n",
       "      <td>0.653465</td>\n",
       "      <td>1</td>\n",
       "      <td>0</td>\n",
       "      <td>5</td>\n",
       "      <td>12540</td>\n",
       "    </tr>\n",
       "    <tr>\n",
       "      <th>2</th>\n",
       "      <td>0.037473</td>\n",
       "      <td>0</td>\n",
       "      <td>0</td>\n",
       "      <td>2</td>\n",
       "      <td>156</td>\n",
       "    </tr>\n",
       "  </tbody>\n",
       "</table>\n",
       "</div>"
      ],
      "text/plain": [
       "           mean  median  min  max    sum\n",
       "class                                   \n",
       "0      0.643357       1    0   10    920\n",
       "1      0.653465       1    0    5  12540\n",
       "2      0.037473       0    0    2    156"
      ]
     },
     "execution_count": 11,
     "metadata": {},
     "output_type": "execute_result"
    }
   ],
   "source": [
    "df.groupby('class')['bad words'].agg(['mean', 'median', 'min', 'max', 'sum'])"
   ]
  },
  {
   "cell_type": "markdown",
   "metadata": {},
   "source": [
    "### 3.4 Visualize Profanity"
   ]
  },
  {
   "cell_type": "code",
   "execution_count": 108,
   "metadata": {},
   "outputs": [
    {
     "data": {
      "image/png": "[encoded data removed]",
      "text/plain": [
       "<Figure size 432x288 with 1 Axes>"
      ]
     },
     "metadata": {},
     "output_type": "display_data"
    }
   ],
   "source": [
    "df_bad_words_per_class = df.groupby(['class'], as_index=False).agg({'bad words':'sum'})\n",
    "sns.set()\n",
    "ax = sns.distplot(df_bad_words_per_class['bad words'])"
   ]
  },
  {
   "cell_type": "code",
   "execution_count": 117,
   "metadata": {},
   "outputs": [
    {
     "data": {
      "image/png": "[encoded data removed]",
      "text/plain": [
       "<Figure size 720x360 with 1 Axes>"
      ]
     },
     "metadata": {},
     "output_type": "display_data"
    }
   ],
   "source": [
    "plt.figure(figsize=(10, 5))\n",
    "ax = sns.boxplot(x='class', y='bad words', hue=\"class\", data=df_bad_words_per_class)"
   ]
  },
  {
   "cell_type": "code",
   "execution_count": 122,
   "metadata": {},
   "outputs": [
    {
     "data": {
      "image/png": "[encoded data removed]",
      "text/plain": [
       "<Figure size 720x360 with 1 Axes>"
      ]
     },
     "metadata": {},
     "output_type": "display_data"
    }
   ],
   "source": [
    "plt.figure(figsize=(10, 5))\n",
    "ax = sns.violinplot(x='class', y='bad words', data=df_bad_words_per_class)"
   ]
  },
  {
   "cell_type": "code",
   "execution_count": 19,
   "metadata": {},
   "outputs": [
    {
     "data": {
      "image/png": "[encoded data removed]",
      "text/plain": [
       "<Figure size 720x360 with 1 Axes>"
      ]
     },
     "metadata": {},
     "output_type": "display_data"
    }
   ],
   "source": [
    "plt.figure(figsize=(10, 5))\n",
    "ax = sns.stripplot(x='class', y='bad words', data=df_bad_words_per_class)"
   ]
  },
  {
   "cell_type": "markdown",
   "metadata": {},
   "source": [
    "### 3.5 Explore Profanity per Class\n",
    "\n",
    " - First, `common_terms` function is used to find the common terms between two lists.\n",
    " - Second, `loc` is used to locate the rows with at least one abuse term.\n",
    " - Third, a new collumn is added for the abuse terms at each row.\n",
    " - Finally, the dataframe `df_terms_per_class` contains the abuse terms per class."
   ]
  },
  {
   "cell_type": "code",
   "execution_count": 110,
   "metadata": {},
   "outputs": [
    {
     "data": {
      "text/html": [
       "<div>\n",
       "<style scoped>\n",
       "    .dataframe tbody tr th:only-of-type {\n",
       "        vertical-align: middle;\n",
       "    }\n",
       "\n",
       "    .dataframe tbody tr th {\n",
       "        vertical-align: top;\n",
       "    }\n",
       "\n",
       "    .dataframe thead th {\n",
       "        text-align: right;\n",
       "    }\n",
       "</style>\n",
       "<table border=\"1\" class=\"dataframe\">\n",
       "  <thead>\n",
       "    <tr style=\"text-align: right;\">\n",
       "      <th></th>\n",
       "      <th>abuse terms</th>\n",
       "    </tr>\n",
       "    <tr>\n",
       "      <th>class</th>\n",
       "      <th></th>\n",
       "    </tr>\n",
       "  </thead>\n",
       "  <tbody>\n",
       "    <tr>\n",
       "      <th>0</th>\n",
       "      <td>die dick pussy spic nigga dicks queer nigga bi...</td>\n",
       "    </tr>\n",
       "    <tr>\n",
       "      <th>1</th>\n",
       "      <td>nigga bitch dick bitch bitch pussy nigga pussy...</td>\n",
       "    </tr>\n",
       "    <tr>\n",
       "      <th>2</th>\n",
       "      <td>hang beaner</td>\n",
       "    </tr>\n",
       "  </tbody>\n",
       "</table>\n",
       "</div>"
      ],
      "text/plain": [
       "                                             abuse terms\n",
       "class                                                   \n",
       "0      die dick pussy spic nigga dicks queer nigga bi...\n",
       "1      nigga bitch dick bitch bitch pussy nigga pussy...\n",
       "2                                            hang beaner"
      ]
     },
     "execution_count": 110,
     "metadata": {},
     "output_type": "execute_result"
    }
   ],
   "source": [
    "from collections import Counter\n",
    "\n",
    "def common_terms(a, b):\n",
    "    \"\"\"\n",
    "    This function returns the\n",
    "    common terms of two lists\n",
    "    \"\"\"\n",
    "    a_set = set(a) \n",
    "    b_set = set(b)   \n",
    "    return str(\" \".join(a_set.intersection(b_set)))\n",
    "\n",
    "# get rows with abuse terms\n",
    "df_terms = df.loc[df['bad words']>1]\n",
    "df_terms['abuse terms'] = (df_terms.apply(lambda x: common_terms(x['word'], abuse_words), axis=1))\n",
    "df_terms_per_class = df_terms.groupby('class').agg({'abuse terms': lambda x: ' '.join(x)})\n",
    "df_terms_per_class"
   ]
  },
  {
   "cell_type": "markdown",
   "metadata": {},
   "source": [
    "### Top 30 abuse terms per class\n",
    "\n",
    "`Counter` from Python's `collections` library is used for the 30 most common abuse terms for each class."
   ]
  },
  {
   "cell_type": "code",
   "execution_count": 101,
   "metadata": {},
   "outputs": [
    {
     "data": {
      "text/plain": [
       "[('bitch', 63),\n",
       " ('nigga', 60),\n",
       " ('faggot', 18),\n",
       " ('pussy', 15),\n",
       " ('nigger', 15),\n",
       " ('dick', 12),\n",
       " ('kill', 11),\n",
       " ('die', 8),\n",
       " ('bitches', 7),\n",
       " ('queer', 6),\n",
       " ('coon', 6),\n",
       " ('whore', 6),\n",
       " ('spic', 5),\n",
       " ('cunt', 5),\n",
       " ('niggers', 5),\n",
       " ('fag', 3),\n",
       " ('rape', 3),\n",
       " ('slut', 3),\n",
       " ('dyke', 3),\n",
       " ('dicks', 2),\n",
       " ('beaner', 2),\n",
       " ('hang', 2),\n",
       " ('coward', 2),\n",
       " ('chink', 2),\n",
       " ('gook', 2),\n",
       " ('tranny', 2),\n",
       " ('dumbass', 2),\n",
       " ('murder', 2),\n",
       " ('raped', 2),\n",
       " ('fuckboy', 1)]"
      ]
     },
     "execution_count": 101,
     "metadata": {},
     "output_type": "execute_result"
    }
   ],
   "source": [
    "#top 30 abuse terms in class 0\n",
    "Counter(df_terms_per_class.iloc[0]['abuse terms'].split()).most_common(30)"
   ]
  },
  {
   "cell_type": "code",
   "execution_count": 102,
   "metadata": {},
   "outputs": [
    {
     "data": {
      "text/plain": [
       "[('bitch', 695),\n",
       " ('nigga', 536),\n",
       " ('bitches', 246),\n",
       " ('pussy', 229),\n",
       " ('dick', 151),\n",
       " ('kill', 58),\n",
       " ('die', 30),\n",
       " ('faggot', 28),\n",
       " ('cunt', 17),\n",
       " ('whore', 16),\n",
       " ('hang', 16),\n",
       " ('fag', 15),\n",
       " ('balls', 13),\n",
       " ('nigger', 13),\n",
       " ('slut', 11),\n",
       " ('dumbass', 10),\n",
       " ('fucker', 9),\n",
       " ('penis', 8),\n",
       " ('asshole', 7),\n",
       " ('dicks', 7),\n",
       " ('retard', 7),\n",
       " ('dyke', 7),\n",
       " ('dike', 5),\n",
       " ('murder', 5),\n",
       " ('asses', 5),\n",
       " ('rape', 5),\n",
       " ('motherfucker', 4),\n",
       " ('raped', 4),\n",
       " ('pussies', 4),\n",
       " ('tranny', 3)]"
      ]
     },
     "execution_count": 102,
     "metadata": {},
     "output_type": "execute_result"
    }
   ],
   "source": [
    "#top 30 abuse terms in class 1\n",
    "Counter(df_terms_per_class.iloc[1]['abuse terms'].split()).most_common(30)"
   ]
  },
  {
   "cell_type": "code",
   "execution_count": 103,
   "metadata": {},
   "outputs": [
    {
     "data": {
      "text/plain": [
       "[('hang', 1), ('beaner', 1)]"
      ]
     },
     "execution_count": 103,
     "metadata": {},
     "output_type": "execute_result"
    }
   ],
   "source": [
    "#top 30 abuse terms in class 2\n",
    "Counter(df_terms_per_class.iloc[2]['abuse terms'].split()).most_common(30)"
   ]
  }
 ],
 "metadata": {
  "kernelspec": {
   "display_name": "Python 3",
   "language": "python",
   "name": "python3"
  },
  "language_info": {
   "codemirror_mode": {
    "name": "ipython",
    "version": 3
   },
   "file_extension": ".py",
   "mimetype": "text/x-python",
   "name": "python",
   "nbconvert_exporter": "python",
   "pygments_lexer": "ipython3",
   "version": "3.6.2"
  }
 },
 "nbformat": 4,
 "nbformat_minor": 2
}

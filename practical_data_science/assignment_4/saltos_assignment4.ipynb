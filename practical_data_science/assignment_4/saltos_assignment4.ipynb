{
 "cells": [
  {
   "cell_type": "markdown",
   "metadata": {},
   "source": [
    "# Assignment 4: ImageCLEF Medical Caption Task 2019"
   ]
  },
  {
   "cell_type": "markdown",
   "metadata": {},
   "source": [
    "## Name: Thomas Saltos"
   ]
  },
  {
   "cell_type": "markdown",
   "metadata": {},
   "source": [
    "## Setup"
   ]
  },
  {
   "cell_type": "code",
   "execution_count": 1,
   "metadata": {},
   "outputs": [],
   "source": [
    "import tensorflow as tf\n",
    "\n",
    "from tensorflow.keras.models import Sequential\n",
    "from tensorflow.keras.layers import Dense, Conv2D, Flatten, Dropout, MaxPooling2D, Activation\n",
    "from tensorflow.keras.preprocessing.image import ImageDataGenerator\n",
    "\n",
    "import os\n",
    "import numpy as np\n",
    "import pandas as pd\n",
    "import matplotlib.pyplot as plt\n",
    "import matplotlib.image as mpimg\n",
    "from IPython import display\n",
    "\n",
    "%matplotlib inline"
   ]
  },
  {
   "cell_type": "markdown",
   "metadata": {},
   "source": [
    "## Data Exploration"
   ]
  },
  {
   "cell_type": "markdown",
   "metadata": {},
   "source": [
    "* read `train_concepts`, `val_concepts` and `string_concepts`.\n",
    "* list some files from training dataset with their tags ids and names.\n",
    "* most frequent ids.\n",
    "* images with the most tags."
   ]
  },
  {
   "cell_type": "code",
   "execution_count": 2,
   "metadata": {},
   "outputs": [
    {
     "data": {
      "text/html": [
       "<div>\n",
       "<style scoped>\n",
       "    .dataframe tbody tr th:only-of-type {\n",
       "        vertical-align: middle;\n",
       "    }\n",
       "\n",
       "    .dataframe tbody tr th {\n",
       "        vertical-align: top;\n",
       "    }\n",
       "\n",
       "    .dataframe thead th {\n",
       "        text-align: right;\n",
       "    }\n",
       "</style>\n",
       "<table border=\"1\" class=\"dataframe\">\n",
       "  <thead>\n",
       "    <tr style=\"text-align: right;\">\n",
       "      <th></th>\n",
       "      <th>image</th>\n",
       "      <th>tags</th>\n",
       "    </tr>\n",
       "  </thead>\n",
       "  <tbody>\n",
       "    <tr>\n",
       "      <th>0</th>\n",
       "      <td>ROCO_CLEF_07350</td>\n",
       "      <td>C0203126;C0203051</td>\n",
       "    </tr>\n",
       "    <tr>\n",
       "      <th>1</th>\n",
       "      <td>ROCO_CLEF_19073</td>\n",
       "      <td>C0772294;C0023884;C0221198;C0412555;C0041618</td>\n",
       "    </tr>\n",
       "    <tr>\n",
       "      <th>2</th>\n",
       "      <td>ROCO_CLEF_60501</td>\n",
       "      <td>C0233492;C2985494;C0262950;C1306232</td>\n",
       "    </tr>\n",
       "    <tr>\n",
       "      <th>3</th>\n",
       "      <td>ROCO_CLEF_05564</td>\n",
       "      <td>C0521530;C0817096</td>\n",
       "    </tr>\n",
       "    <tr>\n",
       "      <th>4</th>\n",
       "      <td>ROCO_CLEF_55020</td>\n",
       "      <td>C0935598;C1184743</td>\n",
       "    </tr>\n",
       "    <tr>\n",
       "      <th>...</th>\n",
       "      <td>...</td>\n",
       "      <td>...</td>\n",
       "    </tr>\n",
       "    <tr>\n",
       "      <th>56624</th>\n",
       "      <td>ROCO_CLEF_40405</td>\n",
       "      <td>C0040395;C0034579;C0015450;C0040405</td>\n",
       "    </tr>\n",
       "    <tr>\n",
       "      <th>56625</th>\n",
       "      <td>ROCO_CLEF_17150</td>\n",
       "      <td>C0286840;C3244287</td>\n",
       "    </tr>\n",
       "    <tr>\n",
       "      <th>56626</th>\n",
       "      <td>ROCO_CLEF_04341</td>\n",
       "      <td>C0699900;C1553386;C0728863;C0182400;C0042779;C...</td>\n",
       "    </tr>\n",
       "    <tr>\n",
       "      <th>56627</th>\n",
       "      <td>ROCO_CLEF_36569</td>\n",
       "      <td>C0023890;C0441633;C3263723</td>\n",
       "    </tr>\n",
       "    <tr>\n",
       "      <th>56628</th>\n",
       "      <td>ROCO_CLEF_51081</td>\n",
       "      <td>C3263723;C1962945;C1548003;C0015252;C0043250;C...</td>\n",
       "    </tr>\n",
       "  </tbody>\n",
       "</table>\n",
       "<p>56629 rows × 2 columns</p>\n",
       "</div>"
      ],
      "text/plain": [
       "                 image                                               tags\n",
       "0      ROCO_CLEF_07350                                  C0203126;C0203051\n",
       "1      ROCO_CLEF_19073       C0772294;C0023884;C0221198;C0412555;C0041618\n",
       "2      ROCO_CLEF_60501                C0233492;C2985494;C0262950;C1306232\n",
       "3      ROCO_CLEF_05564                                  C0521530;C0817096\n",
       "4      ROCO_CLEF_55020                                  C0935598;C1184743\n",
       "...                ...                                                ...\n",
       "56624  ROCO_CLEF_40405                C0040395;C0034579;C0015450;C0040405\n",
       "56625  ROCO_CLEF_17150                                  C0286840;C3244287\n",
       "56626  ROCO_CLEF_04341  C0699900;C1553386;C0728863;C0182400;C0042779;C...\n",
       "56627  ROCO_CLEF_36569                         C0023890;C0441633;C3263723\n",
       "56628  ROCO_CLEF_51081  C3263723;C1962945;C1548003;C0015252;C0043250;C...\n",
       "\n",
       "[56629 rows x 2 columns]"
      ]
     },
     "execution_count": 2,
     "metadata": {},
     "output_type": "execute_result"
    }
   ],
   "source": [
    "train_concepts = pd.read_csv('train_concepts.csv')\n",
    "train_concepts"
   ]
  },
  {
   "cell_type": "code",
   "execution_count": 3,
   "metadata": {},
   "outputs": [
    {
     "data": {
      "text/html": [
       "<div>\n",
       "<style scoped>\n",
       "    .dataframe tbody tr th:only-of-type {\n",
       "        vertical-align: middle;\n",
       "    }\n",
       "\n",
       "    .dataframe tbody tr th {\n",
       "        vertical-align: top;\n",
       "    }\n",
       "\n",
       "    .dataframe thead th {\n",
       "        text-align: right;\n",
       "    }\n",
       "</style>\n",
       "<table border=\"1\" class=\"dataframe\">\n",
       "  <thead>\n",
       "    <tr style=\"text-align: right;\">\n",
       "      <th></th>\n",
       "      <th>image</th>\n",
       "      <th>tags</th>\n",
       "    </tr>\n",
       "  </thead>\n",
       "  <tbody>\n",
       "    <tr>\n",
       "      <th>0</th>\n",
       "      <td>ROCO_CLEF_64017</td>\n",
       "      <td>C0001074;C3203359;C0041618</td>\n",
       "    </tr>\n",
       "    <tr>\n",
       "      <th>1</th>\n",
       "      <td>ROCO_CLEF_39073</td>\n",
       "      <td>C0027530;C1610719;C0065967;C1704258;C0883242;C...</td>\n",
       "    </tr>\n",
       "    <tr>\n",
       "      <th>2</th>\n",
       "      <td>ROCO_CLEF_18028</td>\n",
       "      <td>C1265876;C1293134;C0029053;C0034579;C0025066;C...</td>\n",
       "    </tr>\n",
       "    <tr>\n",
       "      <th>3</th>\n",
       "      <td>ROCO_CLEF_02052</td>\n",
       "      <td>C0040426;C1962945;C0043299;C0036849;C0150312</td>\n",
       "    </tr>\n",
       "    <tr>\n",
       "      <th>4</th>\n",
       "      <td>ROCO_CLEF_67927</td>\n",
       "      <td>C0184666;C4085643;C4049705;C4049706;C4321335;C...</td>\n",
       "    </tr>\n",
       "    <tr>\n",
       "      <th>...</th>\n",
       "      <td>...</td>\n",
       "      <td>...</td>\n",
       "    </tr>\n",
       "    <tr>\n",
       "      <th>14152</th>\n",
       "      <td>ROCO_CLEF_08685</td>\n",
       "      <td>C0043299;C1548003;C1962945</td>\n",
       "    </tr>\n",
       "    <tr>\n",
       "      <th>14153</th>\n",
       "      <td>ROCO_CLEF_63867</td>\n",
       "      <td>C1963113;C0040395;C0921176;C0034579;C0525187;C...</td>\n",
       "    </tr>\n",
       "    <tr>\n",
       "      <th>14154</th>\n",
       "      <td>ROCO_CLEF_42562</td>\n",
       "      <td>C0456605;C0023884;C0441633</td>\n",
       "    </tr>\n",
       "    <tr>\n",
       "      <th>14155</th>\n",
       "      <td>ROCO_CLEF_18130</td>\n",
       "      <td>C0009368;C0227391</td>\n",
       "    </tr>\n",
       "    <tr>\n",
       "      <th>14156</th>\n",
       "      <td>ROCO_CLEF_29197</td>\n",
       "      <td>C0042449;C0030274;C0025474;C0018670</td>\n",
       "    </tr>\n",
       "  </tbody>\n",
       "</table>\n",
       "<p>14157 rows × 2 columns</p>\n",
       "</div>"
      ],
      "text/plain": [
       "                 image                                               tags\n",
       "0      ROCO_CLEF_64017                         C0001074;C3203359;C0041618\n",
       "1      ROCO_CLEF_39073  C0027530;C1610719;C0065967;C1704258;C0883242;C...\n",
       "2      ROCO_CLEF_18028  C1265876;C1293134;C0029053;C0034579;C0025066;C...\n",
       "3      ROCO_CLEF_02052       C0040426;C1962945;C0043299;C0036849;C0150312\n",
       "4      ROCO_CLEF_67927  C0184666;C4085643;C4049705;C4049706;C4321335;C...\n",
       "...                ...                                                ...\n",
       "14152  ROCO_CLEF_08685                         C0043299;C1548003;C1962945\n",
       "14153  ROCO_CLEF_63867  C1963113;C0040395;C0921176;C0034579;C0525187;C...\n",
       "14154  ROCO_CLEF_42562                         C0456605;C0023884;C0441633\n",
       "14155  ROCO_CLEF_18130                                  C0009368;C0227391\n",
       "14156  ROCO_CLEF_29197                C0042449;C0030274;C0025474;C0018670\n",
       "\n",
       "[14157 rows x 2 columns]"
      ]
     },
     "execution_count": 3,
     "metadata": {},
     "output_type": "execute_result"
    }
   ],
   "source": [
    "val_concepts = pd.read_csv('val_concepts.csv')\n",
    "val_concepts"
   ]
  },
  {
   "cell_type": "code",
   "execution_count": 4,
   "metadata": {},
   "outputs": [
    {
     "data": {
      "text/html": [
       "<div>\n",
       "<style scoped>\n",
       "    .dataframe tbody tr th:only-of-type {\n",
       "        vertical-align: middle;\n",
       "    }\n",
       "\n",
       "    .dataframe tbody tr th {\n",
       "        vertical-align: top;\n",
       "    }\n",
       "\n",
       "    .dataframe thead th {\n",
       "        text-align: right;\n",
       "    }\n",
       "</style>\n",
       "<table border=\"1\" class=\"dataframe\">\n",
       "  <thead>\n",
       "    <tr style=\"text-align: right;\">\n",
       "      <th></th>\n",
       "      <th>image</th>\n",
       "      <th>tags</th>\n",
       "    </tr>\n",
       "  </thead>\n",
       "  <tbody>\n",
       "    <tr>\n",
       "      <th>0</th>\n",
       "      <td>ROCO_CLEF_07350</td>\n",
       "      <td>C0203126;C0203051</td>\n",
       "    </tr>\n",
       "    <tr>\n",
       "      <th>1</th>\n",
       "      <td>ROCO_CLEF_19073</td>\n",
       "      <td>C0772294;C0023884;C0221198;C0412555;C0041618</td>\n",
       "    </tr>\n",
       "    <tr>\n",
       "      <th>2</th>\n",
       "      <td>ROCO_CLEF_60501</td>\n",
       "      <td>C0233492;C2985494;C0262950;C1306232</td>\n",
       "    </tr>\n",
       "    <tr>\n",
       "      <th>3</th>\n",
       "      <td>ROCO_CLEF_05564</td>\n",
       "      <td>C0521530;C0817096</td>\n",
       "    </tr>\n",
       "    <tr>\n",
       "      <th>4</th>\n",
       "      <td>ROCO_CLEF_55020</td>\n",
       "      <td>C0935598;C1184743</td>\n",
       "    </tr>\n",
       "    <tr>\n",
       "      <th>...</th>\n",
       "      <td>...</td>\n",
       "      <td>...</td>\n",
       "    </tr>\n",
       "    <tr>\n",
       "      <th>14152</th>\n",
       "      <td>ROCO_CLEF_08685</td>\n",
       "      <td>C0043299;C1548003;C1962945</td>\n",
       "    </tr>\n",
       "    <tr>\n",
       "      <th>14153</th>\n",
       "      <td>ROCO_CLEF_63867</td>\n",
       "      <td>C1963113;C0040395;C0921176;C0034579;C0525187;C...</td>\n",
       "    </tr>\n",
       "    <tr>\n",
       "      <th>14154</th>\n",
       "      <td>ROCO_CLEF_42562</td>\n",
       "      <td>C0456605;C0023884;C0441633</td>\n",
       "    </tr>\n",
       "    <tr>\n",
       "      <th>14155</th>\n",
       "      <td>ROCO_CLEF_18130</td>\n",
       "      <td>C0009368;C0227391</td>\n",
       "    </tr>\n",
       "    <tr>\n",
       "      <th>14156</th>\n",
       "      <td>ROCO_CLEF_29197</td>\n",
       "      <td>C0042449;C0030274;C0025474;C0018670</td>\n",
       "    </tr>\n",
       "  </tbody>\n",
       "</table>\n",
       "<p>70786 rows × 2 columns</p>\n",
       "</div>"
      ],
      "text/plain": [
       "                 image                                               tags\n",
       "0      ROCO_CLEF_07350                                  C0203126;C0203051\n",
       "1      ROCO_CLEF_19073       C0772294;C0023884;C0221198;C0412555;C0041618\n",
       "2      ROCO_CLEF_60501                C0233492;C2985494;C0262950;C1306232\n",
       "3      ROCO_CLEF_05564                                  C0521530;C0817096\n",
       "4      ROCO_CLEF_55020                                  C0935598;C1184743\n",
       "...                ...                                                ...\n",
       "14152  ROCO_CLEF_08685                         C0043299;C1548003;C1962945\n",
       "14153  ROCO_CLEF_63867  C1963113;C0040395;C0921176;C0034579;C0525187;C...\n",
       "14154  ROCO_CLEF_42562                         C0456605;C0023884;C0441633\n",
       "14155  ROCO_CLEF_18130                                  C0009368;C0227391\n",
       "14156  ROCO_CLEF_29197                C0042449;C0030274;C0025474;C0018670\n",
       "\n",
       "[70786 rows x 2 columns]"
      ]
     },
     "execution_count": 4,
     "metadata": {},
     "output_type": "execute_result"
    }
   ],
   "source": [
    "full_concepts = pd.concat([train_concepts, val_concepts])\n",
    "full_concepts"
   ]
  },
  {
   "cell_type": "code",
   "execution_count": 5,
   "metadata": {},
   "outputs": [
    {
     "data": {
      "text/html": [
       "<div>\n",
       "<style scoped>\n",
       "    .dataframe tbody tr th:only-of-type {\n",
       "        vertical-align: middle;\n",
       "    }\n",
       "\n",
       "    .dataframe tbody tr th {\n",
       "        vertical-align: top;\n",
       "    }\n",
       "\n",
       "    .dataframe thead th {\n",
       "        text-align: right;\n",
       "    }\n",
       "</style>\n",
       "<table border=\"1\" class=\"dataframe\">\n",
       "  <thead>\n",
       "    <tr style=\"text-align: right;\">\n",
       "      <th></th>\n",
       "      <th>tag</th>\n",
       "      <th>name</th>\n",
       "    </tr>\n",
       "  </thead>\n",
       "  <tbody>\n",
       "    <tr>\n",
       "      <th>0</th>\n",
       "      <td>C0032143</td>\n",
       "      <td>r-tpa</td>\n",
       "    </tr>\n",
       "    <tr>\n",
       "      <th>1</th>\n",
       "      <td>C0225516</td>\n",
       "      <td>lower hypopharyngeal region</td>\n",
       "    </tr>\n",
       "    <tr>\n",
       "      <th>2</th>\n",
       "      <td>C0825429</td>\n",
       "      <td>bone surface</td>\n",
       "    </tr>\n",
       "    <tr>\n",
       "      <th>3</th>\n",
       "      <td>C0020461</td>\n",
       "      <td>excessive potassium in the blood</td>\n",
       "    </tr>\n",
       "    <tr>\n",
       "      <th>4</th>\n",
       "      <td>C0947912</td>\n",
       "      <td>proximal muscle weakness due to defect at the ...</td>\n",
       "    </tr>\n",
       "    <tr>\n",
       "      <th>...</th>\n",
       "      <td>...</td>\n",
       "      <td>...</td>\n",
       "    </tr>\n",
       "    <tr>\n",
       "      <th>5523</th>\n",
       "      <td>C0044955</td>\n",
       "      <td>prednylidene (pred)</td>\n",
       "    </tr>\n",
       "    <tr>\n",
       "      <th>5524</th>\n",
       "      <td>C3812869</td>\n",
       "      <td>medicated</td>\n",
       "    </tr>\n",
       "    <tr>\n",
       "      <th>5525</th>\n",
       "      <td>C2751430</td>\n",
       "      <td>camptodactyly and knuckle pads</td>\n",
       "    </tr>\n",
       "    <tr>\n",
       "      <th>5526</th>\n",
       "      <td>C0441621</td>\n",
       "      <td>sampled</td>\n",
       "    </tr>\n",
       "    <tr>\n",
       "      <th>5527</th>\n",
       "      <td>C0237886</td>\n",
       "      <td>sorting</td>\n",
       "    </tr>\n",
       "  </tbody>\n",
       "</table>\n",
       "<p>5528 rows × 2 columns</p>\n",
       "</div>"
      ],
      "text/plain": [
       "           tag                                               name\n",
       "0     C0032143                                              r-tpa\n",
       "1     C0225516                        lower hypopharyngeal region\n",
       "2     C0825429                                       bone surface\n",
       "3     C0020461                   excessive potassium in the blood\n",
       "4     C0947912  proximal muscle weakness due to defect at the ...\n",
       "...        ...                                                ...\n",
       "5523  C0044955                                prednylidene (pred)\n",
       "5524  C3812869                                          medicated\n",
       "5525  C2751430                     camptodactyly and knuckle pads\n",
       "5526  C0441621                                            sampled\n",
       "5527  C0237886                                            sorting\n",
       "\n",
       "[5528 rows x 2 columns]"
      ]
     },
     "execution_count": 5,
     "metadata": {},
     "output_type": "execute_result"
    }
   ],
   "source": [
    "string_concepts = pd.read_csv('string_concepts.csv',sep='\\t', header=None, names=['tag', 'name'])\n",
    "string_concepts"
   ]
  },
  {
   "cell_type": "code",
   "execution_count": 6,
   "metadata": {},
   "outputs": [],
   "source": [
    "# adapted from https://stackoverflow.com/a/9728478\n",
    "def list_files(start_path, num_files):\n",
    "    for root, dirs, files in os.walk(start_path):\n",
    "        level = root.replace(start_path, '').count(os.sep)\n",
    "        indent = ' ' * 4 * (level)\n",
    "        print(indent + os.path.basename(root) + '/', end='')\n",
    "        if len(files) != 0:\n",
    "            print()\n",
    "        sub_indent = ' ' * 4 * (level + 1)\n",
    "        print(sub_indent, end='')\n",
    "        for i, f in enumerate(files):\n",
    "            print(f, end=' ')\n",
    "            if i == num_files - 1:\n",
    "                break\n",
    "        print()"
   ]
  },
  {
   "cell_type": "code",
   "execution_count": 7,
   "metadata": {},
   "outputs": [
    {
     "name": "stdout",
     "output_type": "stream",
     "text": [
      "training-set/\n",
      "    ROCO_CLEF_00000.jpg ROCO_CLEF_00001.jpg ROCO_CLEF_00003.jpg ROCO_CLEF_00004.jpg ROCO_CLEF_00005.jpg \n"
     ]
    }
   ],
   "source": [
    "path = 'training-set'\n",
    "list_files(path, 5)"
   ]
  },
  {
   "cell_type": "code",
   "execution_count": 8,
   "metadata": {},
   "outputs": [
    {
     "data": {
      "text/plain": [
       "56629"
      ]
     },
     "execution_count": 8,
     "metadata": {},
     "output_type": "execute_result"
    }
   ],
   "source": [
    "len(os.listdir(path))"
   ]
  },
  {
   "cell_type": "code",
   "execution_count": 9,
   "metadata": {},
   "outputs": [],
   "source": [
    "def append_ext(fn):\n",
    "    return fn+\".jpg\""
   ]
  },
  {
   "cell_type": "code",
   "execution_count": 10,
   "metadata": {},
   "outputs": [
    {
     "data": {
      "text/html": [
       "<div>\n",
       "<style scoped>\n",
       "    .dataframe tbody tr th:only-of-type {\n",
       "        vertical-align: middle;\n",
       "    }\n",
       "\n",
       "    .dataframe tbody tr th {\n",
       "        vertical-align: top;\n",
       "    }\n",
       "\n",
       "    .dataframe thead th {\n",
       "        text-align: right;\n",
       "    }\n",
       "</style>\n",
       "<table border=\"1\" class=\"dataframe\">\n",
       "  <thead>\n",
       "    <tr style=\"text-align: right;\">\n",
       "      <th></th>\n",
       "      <th>image</th>\n",
       "      <th>tags</th>\n",
       "    </tr>\n",
       "  </thead>\n",
       "  <tbody>\n",
       "    <tr>\n",
       "      <th>0</th>\n",
       "      <td>ROCO_CLEF_07350.jpg</td>\n",
       "      <td>C0203126;C0203051</td>\n",
       "    </tr>\n",
       "    <tr>\n",
       "      <th>1</th>\n",
       "      <td>ROCO_CLEF_19073.jpg</td>\n",
       "      <td>C0772294;C0023884;C0221198;C0412555;C0041618</td>\n",
       "    </tr>\n",
       "    <tr>\n",
       "      <th>2</th>\n",
       "      <td>ROCO_CLEF_60501.jpg</td>\n",
       "      <td>C0233492;C2985494;C0262950;C1306232</td>\n",
       "    </tr>\n",
       "    <tr>\n",
       "      <th>3</th>\n",
       "      <td>ROCO_CLEF_05564.jpg</td>\n",
       "      <td>C0521530;C0817096</td>\n",
       "    </tr>\n",
       "    <tr>\n",
       "      <th>4</th>\n",
       "      <td>ROCO_CLEF_55020.jpg</td>\n",
       "      <td>C0935598;C1184743</td>\n",
       "    </tr>\n",
       "  </tbody>\n",
       "</table>\n",
       "</div>"
      ],
      "text/plain": [
       "                 image                                          tags\n",
       "0  ROCO_CLEF_07350.jpg                             C0203126;C0203051\n",
       "1  ROCO_CLEF_19073.jpg  C0772294;C0023884;C0221198;C0412555;C0041618\n",
       "2  ROCO_CLEF_60501.jpg           C0233492;C2985494;C0262950;C1306232\n",
       "3  ROCO_CLEF_05564.jpg                             C0521530;C0817096\n",
       "4  ROCO_CLEF_55020.jpg                             C0935598;C1184743"
      ]
     },
     "execution_count": 10,
     "metadata": {},
     "output_type": "execute_result"
    }
   ],
   "source": [
    "train_concepts[\"image\"]=train_concepts[\"image\"].apply(append_ext)\n",
    "train_concepts.head()"
   ]
  },
  {
   "cell_type": "code",
   "execution_count": 11,
   "metadata": {},
   "outputs": [],
   "source": [
    "PATH = \"./training-set/ROCO_CLEF_{0:05d}.jpg\"\n",
    "\n",
    "def display_images(rows, cols):\n",
    "\n",
    "    plt.figure(figsize=(10,10))\n",
    "    for i in range(rows * cols):\n",
    "        try:\n",
    "            p = PATH.format(i)\n",
    "            image = mpimg.imread(p) # images are color images\n",
    "            plt.subplot(rows, cols, i+1)\n",
    "            plt.xticks([])\n",
    "            plt.yticks([])\n",
    "            plt.grid(False)\n",
    "            plt.imshow(image, cmap=plt.cm.binary)\n",
    "            filename = p.split(\"/\")[2]\n",
    "            tags = train_concepts.loc[train_concepts[\"image\"] == filename]['tags'].values[0].split(\";\")\n",
    "            names = []\n",
    "            for tag in tags:\n",
    "                name = string_concepts.loc[string_concepts['tag'] == tag]['name'].values[0]\n",
    "                names.append(name)\n",
    "            \n",
    "            plt.xlabel(p.split(\"/\")[2]+\"\\n\"+ str(tags)+ \"\\n\"+str(names))\n",
    "        except FileNotFoundError:\n",
    "            pass"
   ]
  },
  {
   "cell_type": "code",
   "execution_count": 12,
   "metadata": {},
   "outputs": [
    {
     "data": {
      "image/png": "[encoded data removed]",
      "text/plain": [
       "<Figure size 720x720 with 3 Axes>"
      ]
     },
     "metadata": {},
     "output_type": "display_data"
    }
   ],
   "source": [
    "display_images(2, 2)"
   ]
  },
  {
   "cell_type": "code",
   "execution_count": 13,
   "metadata": {},
   "outputs": [],
   "source": [
    "def fetch_tagIds(rows, cols):\n",
    "    for i in range(rows * cols):\n",
    "        try:\n",
    "            p = PATH.format(i)\n",
    "            filename = p.split(\"/\")[2]\n",
    "            tags = train_concepts.loc[train_concepts[\"image\"] == filename]['tags'].values[0].split(\";\")\n",
    "            names = []\n",
    "            for tag in tags:\n",
    "                name = string_concepts.loc[string_concepts['tag'] == tag]['name'].values[0]\n",
    "                names.append(name)\n",
    "            print(\"image: {},\\ntags: {},\\nnames: {}\\n\".format(filename, tags, names))\n",
    "        except Exception:\n",
    "            pass"
   ]
  },
  {
   "cell_type": "code",
   "execution_count": 14,
   "metadata": {},
   "outputs": [
    {
     "name": "stdout",
     "output_type": "stream",
     "text": [
      "image: ROCO_CLEF_00000.jpg,\n",
      "tags: ['C0027442'],\n",
      "names: ['pars nasalis pharyngis']\n",
      "\n",
      "image: ROCO_CLEF_00001.jpg,\n",
      "tags: ['C0741302'],\n",
      "names: ['atypia']\n",
      "\n",
      "image: ROCO_CLEF_00003.jpg,\n",
      "tags: ['C0040399', 'C0741302', 'C2936859', 'C0796095', 'C0751438', 'C2936904', 'C0020889', 'C0796110', 'C0019939', 'C2826624'],\n",
      "names: ['single photon emission tomography', 'atypia', 'nsx', 'trigonocephaly syndrome', 'posterior pituitary dis', 'gbbb1', 'os ilium', 'median cleft upper lip', 'horn', 'excrescence']\n",
      "\n",
      "image: ROCO_CLEF_00004.jpg,\n",
      "tags: ['C0687028', 'C0005388', 'C1261287', 'C1550227'],\n",
      "names: ['a tube shaped organ structure', 'portion of bile', 'stenosi', 'duct']\n",
      "\n",
      "image: ROCO_CLEF_00005.jpg,\n",
      "tags: ['C0772294', 'C0231881', 'C0221198', 'C0441633'],\n",
      "names: ['alesion', 'resonance', 'visible lesion', 'diagnostic scanning']\n",
      "\n",
      "image: ROCO_CLEF_00007.jpg,\n",
      "tags: ['C0817096', 'C0796494', 'C0332448', 'C1546677'],\n",
      "names: ['thoracics', 'lobus', 'tissue infiltration', 'infiltrate']\n",
      "\n",
      "image: ROCO_CLEF_00008.jpg,\n",
      "tags: ['C1709311', 'C0412555', 'C0041618', 'C0559499', 'C0015811', 'C0751438', 'C0448475'],\n",
      "names: ['omotransverse', 'obstetric ultrasounds', 'medical sonography', 'musculus biceps brachii', 'os femoris', 'posterior pituitary dis', 'gluteus']\n",
      "\n",
      "image: ROCO_CLEF_00009.jpg,\n",
      "tags: ['C0015392'],\n",
      "names: ['bulbus oculi']\n",
      "\n",
      "image: ROCO_CLEF_00011.jpg,\n",
      "tags: ['C0029939', 'C0441633', 'C0030797'],\n",
      "names: ['genital system', 'diagnostic scanning', 'region']\n",
      "\n",
      "image: ROCO_CLEF_00013.jpg,\n",
      "tags: ['C0598782', 'C1322279', 'C0392148', 'C0240795', 'C0556030', 'C1553386', 'C0700124', 'C1186983', 'C2347268', 'C0231519', 'C0011900', 'C0184252', 'C0018792', 'C0150312', 'C0723285', 'C0018827', 'C0333052', 'C0524422', 'C0612923', 'C0012359'],\n",
      "names: ['appendages', 'widening action', 'presences', 'positional', 'repositioned', 'normal', 'dilatazione', 'valva', 'sdtm-position', 'opposition (symptom)', 'diagnosis (dx)', 'valve [manufactured product]', 'upper chambers of the heart', 'found', 'septa', 'ventricular', 'vers', 'atria', 'correctol', 'abnormal dilation']\n",
      "\n",
      "image: ROCO_CLEF_00014.jpg,\n",
      "tags: ['C0028429', 'C1963113'],\n",
      "names: ['nasus', 'fracture']\n",
      "\n",
      "image: ROCO_CLEF_00015.jpg,\n",
      "tags: ['C1458156', 'C1263136', 'C0021853', 'C0000726', 'C0015733', 'C1139930'],\n",
      "names: ['recurrent malignant tumor', 'platet', 'gut', 'abdominopelvis', 'crap', 'plates']\n",
      "\n"
     ]
    }
   ],
   "source": [
    "fetch_tagIds(4,4)"
   ]
  },
  {
   "cell_type": "code",
   "execution_count": 15,
   "metadata": {},
   "outputs": [
    {
     "data": {
      "text/plain": [
       "5528"
      ]
     },
     "execution_count": 15,
     "metadata": {},
     "output_type": "execute_result"
    }
   ],
   "source": [
    "len(string_concepts)"
   ]
  },
  {
   "cell_type": "code",
   "execution_count": 16,
   "metadata": {},
   "outputs": [
    {
     "data": {
      "text/plain": [
       "[('C0034579', 7226),\n",
       " ('C1548003', 5991),\n",
       " ('C0441633', 5825),\n",
       " ('C0817096', 5481),\n",
       " ('C0043299', 5341),\n",
       " ('C1962945', 4876),\n",
       " ('C0772294', 4213),\n",
       " ('C0040395', 4062),\n",
       " ('C0040405', 3646),\n",
       " ('C0221198', 3323)]"
      ]
     },
     "execution_count": 16,
     "metadata": {},
     "output_type": "execute_result"
    }
   ],
   "source": [
    "from collections import Counter\n",
    "Counter(\" \".join(full_concepts[\"tags\"]).split(\";\")).most_common(10)"
   ]
  },
  {
   "cell_type": "code",
   "execution_count": 17,
   "metadata": {},
   "outputs": [
    {
     "data": {
      "text/html": [
       "<div>\n",
       "<style scoped>\n",
       "    .dataframe tbody tr th:only-of-type {\n",
       "        vertical-align: middle;\n",
       "    }\n",
       "\n",
       "    .dataframe tbody tr th {\n",
       "        vertical-align: top;\n",
       "    }\n",
       "\n",
       "    .dataframe thead th {\n",
       "        text-align: right;\n",
       "    }\n",
       "</style>\n",
       "<table border=\"1\" class=\"dataframe\">\n",
       "  <thead>\n",
       "    <tr style=\"text-align: right;\">\n",
       "      <th></th>\n",
       "      <th>image</th>\n",
       "      <th>tags</th>\n",
       "      <th>count</th>\n",
       "    </tr>\n",
       "  </thead>\n",
       "  <tbody>\n",
       "    <tr>\n",
       "      <th>12205</th>\n",
       "      <td>ROCO_CLEF_24282</td>\n",
       "      <td>C1561540;C0032743;C0251244;C0040395;C0011311;C...</td>\n",
       "      <td>77</td>\n",
       "    </tr>\n",
       "    <tr>\n",
       "      <th>10974</th>\n",
       "      <td>ROCO_CLEF_46788</td>\n",
       "      <td>C1548005;C3244286;C3244287;C1561543;C1561542;C...</td>\n",
       "      <td>74</td>\n",
       "    </tr>\n",
       "    <tr>\n",
       "      <th>40499</th>\n",
       "      <td>ROCO_CLEF_69357</td>\n",
       "      <td>C0544724;C0183191;C0729274;C0565342;C0182362;C...</td>\n",
       "      <td>72</td>\n",
       "    </tr>\n",
       "    <tr>\n",
       "      <th>42812</th>\n",
       "      <td>ROCO_CLEF_46672</td>\n",
       "      <td>C0544724;C0183191;C0729274;C0565342;C0182362;C...</td>\n",
       "      <td>70</td>\n",
       "    </tr>\n",
       "    <tr>\n",
       "      <th>40486</th>\n",
       "      <td>ROCO_CLEF_44813</td>\n",
       "      <td>C0922671;C0227991;C0506734;C0582818;C0149575;C...</td>\n",
       "      <td>69</td>\n",
       "    </tr>\n",
       "    <tr>\n",
       "      <th>10623</th>\n",
       "      <td>ROCO_CLEF_03622</td>\n",
       "      <td>C0150312;C0027121;C2242558;C0038774;C0005558;C...</td>\n",
       "      <td>64</td>\n",
       "    </tr>\n",
       "    <tr>\n",
       "      <th>3601</th>\n",
       "      <td>ROCO_CLEF_15228</td>\n",
       "      <td>C0746922;C0497156;C3854058;C1514241;C0025519;C...</td>\n",
       "      <td>56</td>\n",
       "    </tr>\n",
       "    <tr>\n",
       "      <th>41235</th>\n",
       "      <td>ROCO_CLEF_35223</td>\n",
       "      <td>C0013218;C0497156;C2939420;C1706817;C0013216;C...</td>\n",
       "      <td>45</td>\n",
       "    </tr>\n",
       "    <tr>\n",
       "      <th>47507</th>\n",
       "      <td>ROCO_CLEF_40118</td>\n",
       "      <td>C0201989;C0085140;C0015252;C0007876;C1305857;C...</td>\n",
       "      <td>43</td>\n",
       "    </tr>\n",
       "    <tr>\n",
       "      <th>3991</th>\n",
       "      <td>ROCO_CLEF_68842</td>\n",
       "      <td>C0504085;C0001558;C2939420;C0772294;C0227665;C...</td>\n",
       "      <td>40</td>\n",
       "    </tr>\n",
       "  </tbody>\n",
       "</table>\n",
       "</div>"
      ],
      "text/plain": [
       "                 image                                               tags  \\\n",
       "12205  ROCO_CLEF_24282  C1561540;C0032743;C0251244;C0040395;C0011311;C...   \n",
       "10974  ROCO_CLEF_46788  C1548005;C3244286;C3244287;C1561543;C1561542;C...   \n",
       "40499  ROCO_CLEF_69357  C0544724;C0183191;C0729274;C0565342;C0182362;C...   \n",
       "42812  ROCO_CLEF_46672  C0544724;C0183191;C0729274;C0565342;C0182362;C...   \n",
       "40486  ROCO_CLEF_44813  C0922671;C0227991;C0506734;C0582818;C0149575;C...   \n",
       "10623  ROCO_CLEF_03622  C0150312;C0027121;C2242558;C0038774;C0005558;C...   \n",
       "3601   ROCO_CLEF_15228  C0746922;C0497156;C3854058;C1514241;C0025519;C...   \n",
       "41235  ROCO_CLEF_35223  C0013218;C0497156;C2939420;C1706817;C0013216;C...   \n",
       "47507  ROCO_CLEF_40118  C0201989;C0085140;C0015252;C0007876;C1305857;C...   \n",
       "3991   ROCO_CLEF_68842  C0504085;C0001558;C2939420;C0772294;C0227665;C...   \n",
       "\n",
       "       count  \n",
       "12205     77  \n",
       "10974     74  \n",
       "40499     72  \n",
       "42812     70  \n",
       "40486     69  \n",
       "10623     64  \n",
       "3601      56  \n",
       "41235     45  \n",
       "47507     43  \n",
       "3991      40  "
      ]
     },
     "execution_count": 17,
     "metadata": {},
     "output_type": "execute_result"
    }
   ],
   "source": [
    "full_concepts['count'] = (full_concepts.apply(lambda x: len(x['tags'].split(\";\")), axis=1))\n",
    "full_concepts.sort_values(by='count', ascending=False).head(10)"
   ]
  },
  {
   "cell_type": "code",
   "execution_count": 18,
   "metadata": {},
   "outputs": [
    {
     "data": {
      "text/plain": [
       "432753"
      ]
     },
     "execution_count": 18,
     "metadata": {},
     "output_type": "execute_result"
    }
   ],
   "source": [
    "full_concepts['count'].sum()"
   ]
  },
  {
   "cell_type": "code",
   "execution_count": 19,
   "metadata": {},
   "outputs": [
    {
     "data": {
      "text/plain": [
       "6.113539400446416"
      ]
     },
     "execution_count": 19,
     "metadata": {},
     "output_type": "execute_result"
    }
   ],
   "source": [
    "full_concepts['count'].mean()"
   ]
  },
  {
   "cell_type": "markdown",
   "metadata": {},
   "source": [
    "* 432753 tags in total\n",
    "* 6 tags per image"
   ]
  },
  {
   "cell_type": "markdown",
   "metadata": {},
   "source": [
    "## Data Preprocessing"
   ]
  },
  {
   "cell_type": "markdown",
   "metadata": {},
   "source": [
    "* convert tags in list format.\n",
    "* load datasets using `flow_from_dataframe` method."
   ]
  },
  {
   "cell_type": "code",
   "execution_count": 20,
   "metadata": {},
   "outputs": [
    {
     "data": {
      "text/html": [
       "<div>\n",
       "<style scoped>\n",
       "    .dataframe tbody tr th:only-of-type {\n",
       "        vertical-align: middle;\n",
       "    }\n",
       "\n",
       "    .dataframe tbody tr th {\n",
       "        vertical-align: top;\n",
       "    }\n",
       "\n",
       "    .dataframe thead th {\n",
       "        text-align: right;\n",
       "    }\n",
       "</style>\n",
       "<table border=\"1\" class=\"dataframe\">\n",
       "  <thead>\n",
       "    <tr style=\"text-align: right;\">\n",
       "      <th></th>\n",
       "      <th>image</th>\n",
       "      <th>tags</th>\n",
       "    </tr>\n",
       "  </thead>\n",
       "  <tbody>\n",
       "    <tr>\n",
       "      <th>0</th>\n",
       "      <td>ROCO_CLEF_07350.jpg</td>\n",
       "      <td>[C0203126, C0203051]</td>\n",
       "    </tr>\n",
       "    <tr>\n",
       "      <th>1</th>\n",
       "      <td>ROCO_CLEF_19073.jpg</td>\n",
       "      <td>[C0772294, C0023884, C0221198, C0412555, C0041...</td>\n",
       "    </tr>\n",
       "    <tr>\n",
       "      <th>2</th>\n",
       "      <td>ROCO_CLEF_60501.jpg</td>\n",
       "      <td>[C0233492, C2985494, C0262950, C1306232]</td>\n",
       "    </tr>\n",
       "    <tr>\n",
       "      <th>3</th>\n",
       "      <td>ROCO_CLEF_05564.jpg</td>\n",
       "      <td>[C0521530, C0817096]</td>\n",
       "    </tr>\n",
       "    <tr>\n",
       "      <th>4</th>\n",
       "      <td>ROCO_CLEF_55020.jpg</td>\n",
       "      <td>[C0935598, C1184743]</td>\n",
       "    </tr>\n",
       "  </tbody>\n",
       "</table>\n",
       "</div>"
      ],
      "text/plain": [
       "                 image                                               tags\n",
       "0  ROCO_CLEF_07350.jpg                               [C0203126, C0203051]\n",
       "1  ROCO_CLEF_19073.jpg  [C0772294, C0023884, C0221198, C0412555, C0041...\n",
       "2  ROCO_CLEF_60501.jpg           [C0233492, C2985494, C0262950, C1306232]\n",
       "3  ROCO_CLEF_05564.jpg                               [C0521530, C0817096]\n",
       "4  ROCO_CLEF_55020.jpg                               [C0935598, C1184743]"
      ]
     },
     "execution_count": 20,
     "metadata": {},
     "output_type": "execute_result"
    }
   ],
   "source": [
    "train_concepts[\"tags\"]=train_concepts[\"tags\"].apply(lambda x:x.split(\";\"))\n",
    "train_concepts.head()"
   ]
  },
  {
   "cell_type": "code",
   "execution_count": 21,
   "metadata": {},
   "outputs": [
    {
     "data": {
      "text/html": [
       "<div>\n",
       "<style scoped>\n",
       "    .dataframe tbody tr th:only-of-type {\n",
       "        vertical-align: middle;\n",
       "    }\n",
       "\n",
       "    .dataframe tbody tr th {\n",
       "        vertical-align: top;\n",
       "    }\n",
       "\n",
       "    .dataframe thead th {\n",
       "        text-align: right;\n",
       "    }\n",
       "</style>\n",
       "<table border=\"1\" class=\"dataframe\">\n",
       "  <thead>\n",
       "    <tr style=\"text-align: right;\">\n",
       "      <th></th>\n",
       "      <th>image</th>\n",
       "      <th>tags</th>\n",
       "    </tr>\n",
       "  </thead>\n",
       "  <tbody>\n",
       "    <tr>\n",
       "      <th>0</th>\n",
       "      <td>ROCO_CLEF_64017.jpg</td>\n",
       "      <td>[C0001074, C3203359, C0041618]</td>\n",
       "    </tr>\n",
       "    <tr>\n",
       "      <th>1</th>\n",
       "      <td>ROCO_CLEF_39073.jpg</td>\n",
       "      <td>[C0027530, C1610719, C0065967, C1704258, C0883...</td>\n",
       "    </tr>\n",
       "    <tr>\n",
       "      <th>2</th>\n",
       "      <td>ROCO_CLEF_18028.jpg</td>\n",
       "      <td>[C1265876, C1293134, C0029053, C0034579, C0025...</td>\n",
       "    </tr>\n",
       "    <tr>\n",
       "      <th>3</th>\n",
       "      <td>ROCO_CLEF_02052.jpg</td>\n",
       "      <td>[C0040426, C1962945, C0043299, C0036849, C0150...</td>\n",
       "    </tr>\n",
       "    <tr>\n",
       "      <th>4</th>\n",
       "      <td>ROCO_CLEF_67927.jpg</td>\n",
       "      <td>[C0184666, C4085643, C4049705, C4049706, C4321...</td>\n",
       "    </tr>\n",
       "  </tbody>\n",
       "</table>\n",
       "</div>"
      ],
      "text/plain": [
       "                 image                                               tags\n",
       "0  ROCO_CLEF_64017.jpg                     [C0001074, C3203359, C0041618]\n",
       "1  ROCO_CLEF_39073.jpg  [C0027530, C1610719, C0065967, C1704258, C0883...\n",
       "2  ROCO_CLEF_18028.jpg  [C1265876, C1293134, C0029053, C0034579, C0025...\n",
       "3  ROCO_CLEF_02052.jpg  [C0040426, C1962945, C0043299, C0036849, C0150...\n",
       "4  ROCO_CLEF_67927.jpg  [C0184666, C4085643, C4049705, C4049706, C4321..."
      ]
     },
     "execution_count": 21,
     "metadata": {},
     "output_type": "execute_result"
    }
   ],
   "source": [
    "val_concepts[\"image\"]=val_concepts[\"image\"].apply(append_ext)\n",
    "val_concepts[\"tags\"]=val_concepts[\"tags\"].apply(lambda x:x.split(\";\"))\n",
    "val_concepts.head()"
   ]
  },
  {
   "cell_type": "code",
   "execution_count": 22,
   "metadata": {},
   "outputs": [],
   "source": [
    "batch_size = 32\n",
    "epochs = 12\n",
    "IMG_HEIGHT = 128\n",
    "IMG_WIDTH = 128"
   ]
  },
  {
   "cell_type": "code",
   "execution_count": 23,
   "metadata": {},
   "outputs": [],
   "source": [
    "train_image_generator = ImageDataGenerator(rescale=1./255) # Generator for our training data\n",
    "validation_image_generator = ImageDataGenerator(rescale=1./255) # Generator for our validation data"
   ]
  },
  {
   "cell_type": "code",
   "execution_count": 24,
   "metadata": {},
   "outputs": [
    {
     "name": "stdout",
     "output_type": "stream",
     "text": [
      "Found 56629 validated image filenames belonging to 5528 classes.\n"
     ]
    }
   ],
   "source": [
    "train_generator = train_image_generator.flow_from_dataframe(dataframe=train_concepts,\n",
    "                                                            directory=\"./training-set/\", \n",
    "                                                            x_col=\"image\",\n",
    "                                                            y_col='tags',\n",
    "                                                            class_mode=\"categorical\",\n",
    "                                                            shuffle=True,\n",
    "                                                            classes=string_concepts['tag'].tolist(),\n",
    "                                                            target_size=(IMG_HEIGHT,IMG_WIDTH), \n",
    "                                                            batch_size=batch_size)"
   ]
  },
  {
   "cell_type": "code",
   "execution_count": 25,
   "metadata": {},
   "outputs": [
    {
     "name": "stdout",
     "output_type": "stream",
     "text": [
      "Found 14157 validated image filenames belonging to 5528 classes.\n"
     ]
    }
   ],
   "source": [
    "valid_generator=validation_image_generator.flow_from_dataframe(dataframe=val_concepts,\n",
    "                                                               directory=\"./validation-set/\",\n",
    "                                                               x_col=\"image\",\n",
    "                                                               y_col=\"tags\",\n",
    "                                                               batch_size=batch_size,\n",
    "                                                               seed=42,\n",
    "                                                               class_mode=\"categorical\",\n",
    "                                                               shuffle=True,\n",
    "                                                               classes=string_concepts['tag'].tolist(),\n",
    "                                                               target_size=(IMG_HEIGHT,IMG_WIDTH))"
   ]
  },
  {
   "cell_type": "markdown",
   "metadata": {},
   "source": [
    "## Build a Baseline"
   ]
  },
  {
   "cell_type": "markdown",
   "metadata": {},
   "source": [
    "* dummy classifier with most frequent tags."
   ]
  },
  {
   "cell_type": "code",
   "execution_count": 25,
   "metadata": {},
   "outputs": [],
   "source": [
    "from sklearn.preprocessing import MultiLabelBinarizer\n",
    "mlb = MultiLabelBinarizer()\n",
    "tags_labels = mlb.fit_transform(train_concepts['tags'])"
   ]
  },
  {
   "cell_type": "code",
   "execution_count": 26,
   "metadata": {},
   "outputs": [
    {
     "data": {
      "text/plain": [
       "DummyClassifier(constant=None, random_state=None, strategy='most_frequent')"
      ]
     },
     "execution_count": 26,
     "metadata": {},
     "output_type": "execute_result"
    }
   ],
   "source": [
    "from sklearn.dummy import DummyClassifier\n",
    "\n",
    "dummy_clf = DummyClassifier(strategy=\"most_frequent\")\n",
    "dummy_clf.fit(train_generator, tags_labels)"
   ]
  },
  {
   "cell_type": "code",
   "execution_count": 27,
   "metadata": {},
   "outputs": [
    {
     "data": {
      "text/plain": [
       "array([[1, 1, 1, ..., 1, 1, 1],\n",
       "       [1, 1, 1, ..., 1, 1, 1],\n",
       "       [1, 1, 1, ..., 1, 1, 1],\n",
       "       ...,\n",
       "       [1, 1, 1, ..., 1, 1, 1],\n",
       "       [1, 1, 1, ..., 1, 1, 1],\n",
       "       [1, 1, 1, ..., 1, 1, 1]])"
      ]
     },
     "execution_count": 27,
     "metadata": {},
     "output_type": "execute_result"
    }
   ],
   "source": [
    "dummy_clf.predict(train_generator)"
   ]
  },
  {
   "cell_type": "code",
   "execution_count": 28,
   "metadata": {},
   "outputs": [
    {
     "data": {
      "text/plain": [
       "0.5384180790960452"
      ]
     },
     "execution_count": 28,
     "metadata": {},
     "output_type": "execute_result"
    }
   ],
   "source": [
    "dummy_clf.score(train_generator, tags_labels)"
   ]
  },
  {
   "cell_type": "markdown",
   "metadata": {},
   "source": [
    "## Build a Neural Network"
   ]
  },
  {
   "cell_type": "markdown",
   "metadata": {},
   "source": [
    "* an input layer with 32 filters.\n",
    "* 3 hiden layers.\n",
    "* a dense layer with 5528 outputs with the probability of each tag."
   ]
  },
  {
   "cell_type": "code",
   "execution_count": 26,
   "metadata": {},
   "outputs": [],
   "source": [
    "model = Sequential([\n",
    "    Conv2D(32, 3, padding='same', activation='relu', input_shape=(IMG_HEIGHT,IMG_WIDTH,3)),\n",
    "    MaxPooling2D(),\n",
    "    Conv2D(64, 3, padding='same', activation='relu'),\n",
    "    MaxPooling2D(),\n",
    "    Conv2D(32, 3, padding='same', activation='relu'),\n",
    "    MaxPooling2D(),\n",
    "    Conv2D(16, 3, padding='same', activation='relu'),\n",
    "    MaxPooling2D(),\n",
    "    Flatten(),\n",
    "    Dense(5528, activation='sigmoid')\n",
    "])"
   ]
  },
  {
   "cell_type": "code",
   "execution_count": 27,
   "metadata": {},
   "outputs": [],
   "source": [
    "model.compile(optimizer='adam',\n",
    "              loss='categorical_crossentropy',\n",
    "              metrics=['accuracy'])"
   ]
  },
  {
   "cell_type": "code",
   "execution_count": 28,
   "metadata": {},
   "outputs": [
    {
     "name": "stdout",
     "output_type": "stream",
     "text": [
      "Model: \"sequential\"\n",
      "_________________________________________________________________\n",
      "Layer (type)                 Output Shape              Param #   \n",
      "=================================================================\n",
      "conv2d (Conv2D)              (None, 128, 128, 32)      896       \n",
      "_________________________________________________________________\n",
      "max_pooling2d (MaxPooling2D) (None, 64, 64, 32)        0         \n",
      "_________________________________________________________________\n",
      "conv2d_1 (Conv2D)            (None, 64, 64, 64)        18496     \n",
      "_________________________________________________________________\n",
      "max_pooling2d_1 (MaxPooling2 (None, 32, 32, 64)        0         \n",
      "_________________________________________________________________\n",
      "conv2d_2 (Conv2D)            (None, 32, 32, 32)        18464     \n",
      "_________________________________________________________________\n",
      "max_pooling2d_2 (MaxPooling2 (None, 16, 16, 32)        0         \n",
      "_________________________________________________________________\n",
      "conv2d_3 (Conv2D)            (None, 16, 16, 16)        4624      \n",
      "_________________________________________________________________\n",
      "max_pooling2d_3 (MaxPooling2 (None, 8, 8, 16)          0         \n",
      "_________________________________________________________________\n",
      "flatten (Flatten)            (None, 1024)              0         \n",
      "_________________________________________________________________\n",
      "dense (Dense)                (None, 5528)              5666200   \n",
      "=================================================================\n",
      "Total params: 5,708,680\n",
      "Trainable params: 5,708,680\n",
      "Non-trainable params: 0\n",
      "_________________________________________________________________\n"
     ]
    }
   ],
   "source": [
    "model.summary()"
   ]
  },
  {
   "cell_type": "code",
   "execution_count": 64,
   "metadata": {},
   "outputs": [
    {
     "name": "stdout",
     "output_type": "stream",
     "text": [
      "Epoch 1/12\n",
      "1769/1769 [==============================] - 1841s 1s/step - loss: 38.5422 - accuracy: 0.0112 - val_loss: 37.2705 - val_accuracy: 0.0349\n",
      "Epoch 2/12\n",
      "1769/1769 [==============================] - 1810s 1s/step - loss: 35.8902 - accuracy: 0.0491 - val_loss: 36.5551 - val_accuracy: 0.0598\n",
      "Epoch 3/12\n",
      "1769/1769 [==============================] - 1809s 1s/step - loss: 33.9403 - accuracy: 0.0701 - val_loss: 36.5355 - val_accuracy: 0.0764\n",
      "Epoch 4/12\n",
      "1769/1769 [==============================] - 1808s 1s/step - loss: 32.0015 - accuracy: 0.0800 - val_loss: 37.0569 - val_accuracy: 0.0643\n",
      "Epoch 5/12\n",
      "1769/1769 [==============================] - 1794s 1s/step - loss: 30.3231 - accuracy: 0.0932 - val_loss: 37.6028 - val_accuracy: 0.0682\n",
      "Epoch 6/12\n",
      "1769/1769 [==============================] - 1785s 1s/step - loss: 29.0850 - accuracy: 0.1071 - val_loss: 38.8337 - val_accuracy: 0.0645\n",
      "Epoch 7/12\n",
      "1769/1769 [==============================] - 1783s 1s/step - loss: 28.2455 - accuracy: 0.1136 - val_loss: 39.2552 - val_accuracy: 0.0612\n",
      "Epoch 8/12\n",
      "1769/1769 [==============================] - 1790s 1s/step - loss: 27.6105 - accuracy: 0.1236 - val_loss: 39.6651 - val_accuracy: 0.0579\n",
      "Epoch 9/12\n",
      "1769/1769 [==============================] - 1811s 1s/step - loss: 27.1456 - accuracy: 0.1258 - val_loss: 40.2579 - val_accuracy: 0.0616\n",
      "Epoch 10/12\n",
      "1769/1769 [==============================] - 2279s 1s/step - loss: 26.7746 - accuracy: 0.1323 - val_loss: 40.5571 - val_accuracy: 0.0595\n",
      "Epoch 11/12\n",
      "1769/1769 [==============================] - 1951s 1s/step - loss: 26.4473 - accuracy: 0.1363 - val_loss: 41.4339 - val_accuracy: 0.0535\n",
      "Epoch 12/12\n",
      "1769/1769 [==============================] - 2115s 1s/step - loss: 26.1986 - accuracy: 0.1367 - val_loss: 42.0446 - val_accuracy: 0.0554\n"
     ]
    }
   ],
   "source": [
    "history = model.fit_generator(\n",
    "    train_generator,\n",
    "    steps_per_epoch=len(train_generator.filenames) // batch_size,\n",
    "    epochs=epochs,\n",
    "    validation_data=valid_generator,\n",
    "    validation_steps=len(valid_generator.filenames) // batch_size,\n",
    ")"
   ]
  },
  {
   "cell_type": "code",
   "execution_count": 65,
   "metadata": {},
   "outputs": [],
   "source": [
    "model.save(\"simple_model_1.h5\")"
   ]
  },
  {
   "cell_type": "code",
   "execution_count": 66,
   "metadata": {},
   "outputs": [
    {
     "data": {
      "text/html": [
       "<div>\n",
       "<style scoped>\n",
       "    .dataframe tbody tr th:only-of-type {\n",
       "        vertical-align: middle;\n",
       "    }\n",
       "\n",
       "    .dataframe tbody tr th {\n",
       "        vertical-align: top;\n",
       "    }\n",
       "\n",
       "    .dataframe thead th {\n",
       "        text-align: right;\n",
       "    }\n",
       "</style>\n",
       "<table border=\"1\" class=\"dataframe\">\n",
       "  <thead>\n",
       "    <tr style=\"text-align: right;\">\n",
       "      <th></th>\n",
       "      <th>loss</th>\n",
       "      <th>accuracy</th>\n",
       "      <th>val_loss</th>\n",
       "      <th>val_accuracy</th>\n",
       "      <th>epoch</th>\n",
       "    </tr>\n",
       "  </thead>\n",
       "  <tbody>\n",
       "    <tr>\n",
       "      <th>0</th>\n",
       "      <td>38.543665</td>\n",
       "      <td>0.011202</td>\n",
       "      <td>37.270528</td>\n",
       "      <td>0.034856</td>\n",
       "      <td>0</td>\n",
       "    </tr>\n",
       "    <tr>\n",
       "      <th>1</th>\n",
       "      <td>35.890306</td>\n",
       "      <td>0.049084</td>\n",
       "      <td>36.555079</td>\n",
       "      <td>0.059813</td>\n",
       "      <td>1</td>\n",
       "    </tr>\n",
       "    <tr>\n",
       "      <th>2</th>\n",
       "      <td>33.940165</td>\n",
       "      <td>0.070074</td>\n",
       "      <td>36.535458</td>\n",
       "      <td>0.076357</td>\n",
       "      <td>2</td>\n",
       "    </tr>\n",
       "    <tr>\n",
       "      <th>3</th>\n",
       "      <td>32.002617</td>\n",
       "      <td>0.079987</td>\n",
       "      <td>37.056868</td>\n",
       "      <td>0.064338</td>\n",
       "      <td>3</td>\n",
       "    </tr>\n",
       "    <tr>\n",
       "      <th>4</th>\n",
       "      <td>30.321879</td>\n",
       "      <td>0.093167</td>\n",
       "      <td>37.602825</td>\n",
       "      <td>0.068227</td>\n",
       "      <td>4</td>\n",
       "    </tr>\n",
       "    <tr>\n",
       "      <th>5</th>\n",
       "      <td>29.083807</td>\n",
       "      <td>0.107126</td>\n",
       "      <td>38.833689</td>\n",
       "      <td>0.064480</td>\n",
       "      <td>5</td>\n",
       "    </tr>\n",
       "    <tr>\n",
       "      <th>6</th>\n",
       "      <td>28.246357</td>\n",
       "      <td>0.113575</td>\n",
       "      <td>39.255163</td>\n",
       "      <td>0.061227</td>\n",
       "      <td>6</td>\n",
       "    </tr>\n",
       "    <tr>\n",
       "      <th>7</th>\n",
       "      <td>27.609075</td>\n",
       "      <td>0.123575</td>\n",
       "      <td>39.665147</td>\n",
       "      <td>0.057904</td>\n",
       "      <td>7</td>\n",
       "    </tr>\n",
       "    <tr>\n",
       "      <th>8</th>\n",
       "      <td>27.144688</td>\n",
       "      <td>0.125766</td>\n",
       "      <td>40.257906</td>\n",
       "      <td>0.061581</td>\n",
       "      <td>8</td>\n",
       "    </tr>\n",
       "    <tr>\n",
       "      <th>9</th>\n",
       "      <td>26.773958</td>\n",
       "      <td>0.132339</td>\n",
       "      <td>40.557140</td>\n",
       "      <td>0.059460</td>\n",
       "      <td>9</td>\n",
       "    </tr>\n",
       "    <tr>\n",
       "      <th>10</th>\n",
       "      <td>26.448021</td>\n",
       "      <td>0.136262</td>\n",
       "      <td>41.433878</td>\n",
       "      <td>0.053450</td>\n",
       "      <td>10</td>\n",
       "    </tr>\n",
       "    <tr>\n",
       "      <th>11</th>\n",
       "      <td>26.198514</td>\n",
       "      <td>0.136721</td>\n",
       "      <td>42.044571</td>\n",
       "      <td>0.055430</td>\n",
       "      <td>11</td>\n",
       "    </tr>\n",
       "  </tbody>\n",
       "</table>\n",
       "</div>"
      ],
      "text/plain": [
       "         loss  accuracy   val_loss  val_accuracy  epoch\n",
       "0   38.543665  0.011202  37.270528      0.034856      0\n",
       "1   35.890306  0.049084  36.555079      0.059813      1\n",
       "2   33.940165  0.070074  36.535458      0.076357      2\n",
       "3   32.002617  0.079987  37.056868      0.064338      3\n",
       "4   30.321879  0.093167  37.602825      0.068227      4\n",
       "5   29.083807  0.107126  38.833689      0.064480      5\n",
       "6   28.246357  0.113575  39.255163      0.061227      6\n",
       "7   27.609075  0.123575  39.665147      0.057904      7\n",
       "8   27.144688  0.125766  40.257906      0.061581      8\n",
       "9   26.773958  0.132339  40.557140      0.059460      9\n",
       "10  26.448021  0.136262  41.433878      0.053450     10\n",
       "11  26.198514  0.136721  42.044571      0.055430     11"
      ]
     },
     "execution_count": 66,
     "metadata": {},
     "output_type": "execute_result"
    }
   ],
   "source": [
    "hist = pd.DataFrame(history.history)\n",
    "hist['epoch'] = history.epoch\n",
    "hist"
   ]
  },
  {
   "cell_type": "code",
   "execution_count": 67,
   "metadata": {},
   "outputs": [
    {
     "data": {
      "text/plain": [
       "Text(0.5, 1.0, 'Training and Validation Loss')"
      ]
     },
     "execution_count": 67,
     "metadata": {},
     "output_type": "execute_result"
    },
    {
     "data": {
      "image/png": "[encoded data removed]",
      "text/plain": [
       "<Figure size 1008x576 with 2 Axes>"
      ]
     },
     "metadata": {
      "needs_background": "light"
     },
     "output_type": "display_data"
    }
   ],
   "source": [
    "acc = history.history['accuracy']\n",
    "val_acc = history.history['val_accuracy']\n",
    "\n",
    "loss = history.history['loss']\n",
    "val_loss = history.history['val_loss']\n",
    "\n",
    "epochs_range = range(epochs)\n",
    "\n",
    "plt.figure(figsize=(14, 8))\n",
    "plt.subplot(1, 2, 1)\n",
    "plt.plot(epochs_range, acc, label='Training Accuracy')\n",
    "plt.plot(epochs_range, val_acc, label='Validation Accuracy')\n",
    "plt.legend(loc='lower right')\n",
    "plt.title('Training and Validation Accuracy')\n",
    "\n",
    "plt.subplot(1, 2, 2)\n",
    "plt.plot(epochs_range, loss, label='Training Loss')\n",
    "plt.plot(epochs_range, val_loss, label='Validation Loss')\n",
    "plt.legend(loc='upper right')\n",
    "plt.title('Training and Validation Loss')"
   ]
  },
  {
   "cell_type": "markdown",
   "metadata": {},
   "source": [
    "## Assessment"
   ]
  },
  {
   "cell_type": "markdown",
   "metadata": {},
   "source": [
    "* predictions for the validation and the test set.\n",
    "* `0.0005` was the threshold for the tag selection.\n",
    "* `evaluate_f1` script was used to evaluate the model."
   ]
  },
  {
   "cell_type": "code",
   "execution_count": 26,
   "metadata": {},
   "outputs": [
    {
     "name": "stdout",
     "output_type": "stream",
     "text": [
      "Found 14157 validated image filenames belonging to 5528 classes.\n"
     ]
    }
   ],
   "source": [
    "batch_size = 99\n",
    "valid_generator=validation_image_generator.flow_from_dataframe(dataframe=val_concepts,\n",
    "                                                               directory=\"./validation-set/\",\n",
    "                                                               x_col=\"image\",\n",
    "                                                               y_col=\"tags\",\n",
    "                                                               batch_size=batch_size,\n",
    "                                                               seed=42,\n",
    "                                                               class_mode=\"categorical\",\n",
    "                                                               shuffle=False,\n",
    "                                                               classes=string_concepts['tag'].tolist(),\n",
    "                                                               target_size=(IMG_HEIGHT,IMG_WIDTH))"
   ]
  },
  {
   "cell_type": "code",
   "execution_count": 27,
   "metadata": {},
   "outputs": [
    {
     "name": "stdout",
     "output_type": "stream",
     "text": [
      "143/143 [==============================] - 157s 1s/step\n"
     ]
    }
   ],
   "source": [
    "valid_generator.reset()\n",
    "pred=model.predict_generator(valid_generator, steps=len(valid_generator.filenames) // batch_size, verbose=1)"
   ]
  },
  {
   "cell_type": "code",
   "execution_count": 28,
   "metadata": {},
   "outputs": [],
   "source": [
    "pred_bool = (pred > 0.0005)"
   ]
  },
  {
   "cell_type": "code",
   "execution_count": 29,
   "metadata": {},
   "outputs": [
    {
     "data": {
      "text/html": [
       "<div>\n",
       "<style scoped>\n",
       "    .dataframe tbody tr th:only-of-type {\n",
       "        vertical-align: middle;\n",
       "    }\n",
       "\n",
       "    .dataframe tbody tr th {\n",
       "        vertical-align: top;\n",
       "    }\n",
       "\n",
       "    .dataframe thead th {\n",
       "        text-align: right;\n",
       "    }\n",
       "</style>\n",
       "<table border=\"1\" class=\"dataframe\">\n",
       "  <thead>\n",
       "    <tr style=\"text-align: right;\">\n",
       "      <th></th>\n",
       "      <th>image</th>\n",
       "      <th>predictions</th>\n",
       "    </tr>\n",
       "  </thead>\n",
       "  <tbody>\n",
       "    <tr>\n",
       "      <th>0</th>\n",
       "      <td>ROCO_CLEF_64017.jpg</td>\n",
       "      <td>C0000726;C0001074;C0002978;C0003617;C0003842;C...</td>\n",
       "    </tr>\n",
       "    <tr>\n",
       "      <th>1</th>\n",
       "      <td>ROCO_CLEF_39073.jpg</td>\n",
       "      <td>C0027530;C0037949;C0221198;C0221874;C0231881;C...</td>\n",
       "    </tr>\n",
       "    <tr>\n",
       "      <th>2</th>\n",
       "      <td>ROCO_CLEF_18028.jpg</td>\n",
       "      <td>C0013687;C0016059;C0018827;C0024109;C0029053;C...</td>\n",
       "    </tr>\n",
       "    <tr>\n",
       "      <th>3</th>\n",
       "      <td>ROCO_CLEF_02052.jpg</td>\n",
       "      <td>C0043299;C1548003;C1962945</td>\n",
       "    </tr>\n",
       "    <tr>\n",
       "      <th>4</th>\n",
       "      <td>ROCO_CLEF_67927.jpg</td>\n",
       "      <td>C0000726;C0021853;C0024109;C0029053;C0030797;C...</td>\n",
       "    </tr>\n",
       "    <tr>\n",
       "      <th>...</th>\n",
       "      <td>...</td>\n",
       "      <td>...</td>\n",
       "    </tr>\n",
       "    <tr>\n",
       "      <th>14152</th>\n",
       "      <td>ROCO_CLEF_08685.jpg</td>\n",
       "      <td>C0004454;C0021156;C0024947;C0026367;C0043299;C...</td>\n",
       "    </tr>\n",
       "    <tr>\n",
       "      <th>14153</th>\n",
       "      <td>ROCO_CLEF_63867.jpg</td>\n",
       "      <td></td>\n",
       "    </tr>\n",
       "    <tr>\n",
       "      <th>14154</th>\n",
       "      <td>ROCO_CLEF_42562.jpg</td>\n",
       "      <td>C0009924;C0034579;C0040395;C0040405;C0221198;C...</td>\n",
       "    </tr>\n",
       "    <tr>\n",
       "      <th>14155</th>\n",
       "      <td>ROCO_CLEF_18130.jpg</td>\n",
       "      <td>C0030797;C0034579;C0040395;C0040405;C0441633;C...</td>\n",
       "    </tr>\n",
       "    <tr>\n",
       "      <th>14156</th>\n",
       "      <td>ROCO_CLEF_29197.jpg</td>\n",
       "      <td></td>\n",
       "    </tr>\n",
       "  </tbody>\n",
       "</table>\n",
       "<p>14157 rows × 2 columns</p>\n",
       "</div>"
      ],
      "text/plain": [
       "                     image                                        predictions\n",
       "0      ROCO_CLEF_64017.jpg  C0000726;C0001074;C0002978;C0003617;C0003842;C...\n",
       "1      ROCO_CLEF_39073.jpg  C0027530;C0037949;C0221198;C0221874;C0231881;C...\n",
       "2      ROCO_CLEF_18028.jpg  C0013687;C0016059;C0018827;C0024109;C0029053;C...\n",
       "3      ROCO_CLEF_02052.jpg                         C0043299;C1548003;C1962945\n",
       "4      ROCO_CLEF_67927.jpg  C0000726;C0021853;C0024109;C0029053;C0030797;C...\n",
       "...                    ...                                                ...\n",
       "14152  ROCO_CLEF_08685.jpg  C0004454;C0021156;C0024947;C0026367;C0043299;C...\n",
       "14153  ROCO_CLEF_63867.jpg                                                   \n",
       "14154  ROCO_CLEF_42562.jpg  C0009924;C0034579;C0040395;C0040405;C0221198;C...\n",
       "14155  ROCO_CLEF_18130.jpg  C0030797;C0034579;C0040395;C0040405;C0441633;C...\n",
       "14156  ROCO_CLEF_29197.jpg                                                   \n",
       "\n",
       "[14157 rows x 2 columns]"
      ]
     },
     "execution_count": 29,
     "metadata": {},
     "output_type": "execute_result"
    }
   ],
   "source": [
    "predictions=[]\n",
    "labels = valid_generator.class_indices\n",
    "labels = dict((v,k) for k,v in labels.items())\n",
    "for row in pred_bool:\n",
    "    l=[]\n",
    "    for index,cls in enumerate(row):\n",
    "        if cls:\n",
    "            l.append(labels[index])\n",
    "    predictions.append(\";\".join(l))\n",
    "filenames=valid_generator.filenames\n",
    "results=pd.DataFrame({\"image\":filenames,\n",
    "                      \"predictions\":predictions})\n",
    "results.to_csv(\"results-val.csv\", sep='\\t', index=False, header=False)\n",
    "results"
   ]
  },
  {
   "cell_type": "code",
   "execution_count": 30,
   "metadata": {},
   "outputs": [
    {
     "data": {
      "text/html": [
       "<div>\n",
       "<style scoped>\n",
       "    .dataframe tbody tr th:only-of-type {\n",
       "        vertical-align: middle;\n",
       "    }\n",
       "\n",
       "    .dataframe tbody tr th {\n",
       "        vertical-align: top;\n",
       "    }\n",
       "\n",
       "    .dataframe thead th {\n",
       "        text-align: right;\n",
       "    }\n",
       "</style>\n",
       "<table border=\"1\" class=\"dataframe\">\n",
       "  <thead>\n",
       "    <tr style=\"text-align: right;\">\n",
       "      <th></th>\n",
       "      <th>filename</th>\n",
       "    </tr>\n",
       "  </thead>\n",
       "  <tbody>\n",
       "    <tr>\n",
       "      <th>0</th>\n",
       "      <td>ROCO_CLEF_TEST_00001.jpg</td>\n",
       "    </tr>\n",
       "    <tr>\n",
       "      <th>1</th>\n",
       "      <td>ROCO_CLEF_TEST_00002.jpg</td>\n",
       "    </tr>\n",
       "    <tr>\n",
       "      <th>2</th>\n",
       "      <td>ROCO_CLEF_TEST_00003.jpg</td>\n",
       "    </tr>\n",
       "    <tr>\n",
       "      <th>3</th>\n",
       "      <td>ROCO_CLEF_TEST_00004.jpg</td>\n",
       "    </tr>\n",
       "    <tr>\n",
       "      <th>4</th>\n",
       "      <td>ROCO_CLEF_TEST_00005.jpg</td>\n",
       "    </tr>\n",
       "    <tr>\n",
       "      <th>...</th>\n",
       "      <td>...</td>\n",
       "    </tr>\n",
       "    <tr>\n",
       "      <th>9995</th>\n",
       "      <td>ROCO_CLEF_TEST_09996.jpg</td>\n",
       "    </tr>\n",
       "    <tr>\n",
       "      <th>9996</th>\n",
       "      <td>ROCO_CLEF_TEST_09997.jpg</td>\n",
       "    </tr>\n",
       "    <tr>\n",
       "      <th>9997</th>\n",
       "      <td>ROCO_CLEF_TEST_09998.jpg</td>\n",
       "    </tr>\n",
       "    <tr>\n",
       "      <th>9998</th>\n",
       "      <td>ROCO_CLEF_TEST_09999.jpg</td>\n",
       "    </tr>\n",
       "    <tr>\n",
       "      <th>9999</th>\n",
       "      <td>ROCO_CLEF_TEST_10000.jpg</td>\n",
       "    </tr>\n",
       "  </tbody>\n",
       "</table>\n",
       "<p>10000 rows × 1 columns</p>\n",
       "</div>"
      ],
      "text/plain": [
       "                      filename\n",
       "0     ROCO_CLEF_TEST_00001.jpg\n",
       "1     ROCO_CLEF_TEST_00002.jpg\n",
       "2     ROCO_CLEF_TEST_00003.jpg\n",
       "3     ROCO_CLEF_TEST_00004.jpg\n",
       "4     ROCO_CLEF_TEST_00005.jpg\n",
       "...                        ...\n",
       "9995  ROCO_CLEF_TEST_09996.jpg\n",
       "9996  ROCO_CLEF_TEST_09997.jpg\n",
       "9997  ROCO_CLEF_TEST_09998.jpg\n",
       "9998  ROCO_CLEF_TEST_09999.jpg\n",
       "9999  ROCO_CLEF_TEST_10000.jpg\n",
       "\n",
       "[10000 rows x 1 columns]"
      ]
     },
     "execution_count": 30,
     "metadata": {},
     "output_type": "execute_result"
    }
   ],
   "source": [
    "import glob\n",
    "csvs = glob.glob(os.path.join('test-set/*.jpg'))\n",
    "\n",
    "testdf = pd.DataFrame({'filename': csvs})\n",
    "testdf['filename']=testdf['filename'].apply(lambda x:x.split(\"\\\\\")[1])\n",
    "testdf"
   ]
  },
  {
   "cell_type": "code",
   "execution_count": 31,
   "metadata": {},
   "outputs": [
    {
     "name": "stdout",
     "output_type": "stream",
     "text": [
      "Found 10000 validated image filenames.\n"
     ]
    }
   ],
   "source": [
    "test_image_generator = ImageDataGenerator(rescale=1./255)\n",
    "batch_size=100\n",
    "test_generator = test_image_generator.flow_from_dataframe(dataframe=testdf,\n",
    "                                                          directory=\"./test-set/\",\n",
    "                                                          x_col=\"filename\",\n",
    "                                                          batch_size=batch_size,\n",
    "                                                          class_mode=None,\n",
    "                                                          shuffle=False,\n",
    "                                                          target_size=(IMG_HEIGHT,IMG_WIDTH))"
   ]
  },
  {
   "cell_type": "code",
   "execution_count": 32,
   "metadata": {},
   "outputs": [
    {
     "name": "stdout",
     "output_type": "stream",
     "text": [
      "100/100 [==============================] - 139s 1s/step\n"
     ]
    }
   ],
   "source": [
    "test_generator.reset()\n",
    "pred_test=model.predict_generator(test_generator, steps=len(test_generator.filenames) // batch_size, verbose=1)"
   ]
  },
  {
   "cell_type": "code",
   "execution_count": 33,
   "metadata": {},
   "outputs": [],
   "source": [
    "pred_bool_test = (pred_test > 0.0005)"
   ]
  },
  {
   "cell_type": "code",
   "execution_count": 34,
   "metadata": {},
   "outputs": [
    {
     "data": {
      "text/html": [
       "<div>\n",
       "<style scoped>\n",
       "    .dataframe tbody tr th:only-of-type {\n",
       "        vertical-align: middle;\n",
       "    }\n",
       "\n",
       "    .dataframe tbody tr th {\n",
       "        vertical-align: top;\n",
       "    }\n",
       "\n",
       "    .dataframe thead th {\n",
       "        text-align: right;\n",
       "    }\n",
       "</style>\n",
       "<table border=\"1\" class=\"dataframe\">\n",
       "  <thead>\n",
       "    <tr style=\"text-align: right;\">\n",
       "      <th></th>\n",
       "      <th>image</th>\n",
       "      <th>predictions</th>\n",
       "    </tr>\n",
       "  </thead>\n",
       "  <tbody>\n",
       "    <tr>\n",
       "      <th>0</th>\n",
       "      <td>ROCO_CLEF_TEST_00001.jpg</td>\n",
       "      <td>C0018670;C0037303;C0040399;C0043299;C0751438;C...</td>\n",
       "    </tr>\n",
       "    <tr>\n",
       "      <th>1</th>\n",
       "      <td>ROCO_CLEF_TEST_00002.jpg</td>\n",
       "      <td>C0034579;C0040395;C0040405;C0441633</td>\n",
       "    </tr>\n",
       "    <tr>\n",
       "      <th>2</th>\n",
       "      <td>ROCO_CLEF_TEST_00003.jpg</td>\n",
       "      <td>C0002978;C0003842;C0012737;C0027530;C0043299;C...</td>\n",
       "    </tr>\n",
       "    <tr>\n",
       "      <th>3</th>\n",
       "      <td>ROCO_CLEF_TEST_00004.jpg</td>\n",
       "      <td>C0043299;C1962945</td>\n",
       "    </tr>\n",
       "    <tr>\n",
       "      <th>4</th>\n",
       "      <td>ROCO_CLEF_TEST_00005.jpg</td>\n",
       "      <td></td>\n",
       "    </tr>\n",
       "    <tr>\n",
       "      <th>...</th>\n",
       "      <td>...</td>\n",
       "      <td>...</td>\n",
       "    </tr>\n",
       "    <tr>\n",
       "      <th>9995</th>\n",
       "      <td>ROCO_CLEF_TEST_09996.jpg</td>\n",
       "      <td>C0009924;C0013687;C0034579;C0040395;C0040405;C...</td>\n",
       "    </tr>\n",
       "    <tr>\n",
       "      <th>9996</th>\n",
       "      <td>ROCO_CLEF_TEST_09997.jpg</td>\n",
       "      <td>C0003842;C0005682;C0006104;C0007765;C0009924;C...</td>\n",
       "    </tr>\n",
       "    <tr>\n",
       "      <th>9997</th>\n",
       "      <td>ROCO_CLEF_TEST_09998.jpg</td>\n",
       "      <td>C0006104;C0079595;C0221198;C0228174;C0231881;C...</td>\n",
       "    </tr>\n",
       "    <tr>\n",
       "      <th>9998</th>\n",
       "      <td>ROCO_CLEF_TEST_09999.jpg</td>\n",
       "      <td>C0004454;C0021156;C0024947;C0035139;C0040426;C...</td>\n",
       "    </tr>\n",
       "    <tr>\n",
       "      <th>9999</th>\n",
       "      <td>ROCO_CLEF_TEST_10000.jpg</td>\n",
       "      <td>C0043299;C0817096;C1962945</td>\n",
       "    </tr>\n",
       "  </tbody>\n",
       "</table>\n",
       "<p>10000 rows × 2 columns</p>\n",
       "</div>"
      ],
      "text/plain": [
       "                         image  \\\n",
       "0     ROCO_CLEF_TEST_00001.jpg   \n",
       "1     ROCO_CLEF_TEST_00002.jpg   \n",
       "2     ROCO_CLEF_TEST_00003.jpg   \n",
       "3     ROCO_CLEF_TEST_00004.jpg   \n",
       "4     ROCO_CLEF_TEST_00005.jpg   \n",
       "...                        ...   \n",
       "9995  ROCO_CLEF_TEST_09996.jpg   \n",
       "9996  ROCO_CLEF_TEST_09997.jpg   \n",
       "9997  ROCO_CLEF_TEST_09998.jpg   \n",
       "9998  ROCO_CLEF_TEST_09999.jpg   \n",
       "9999  ROCO_CLEF_TEST_10000.jpg   \n",
       "\n",
       "                                            predictions  \n",
       "0     C0018670;C0037303;C0040399;C0043299;C0751438;C...  \n",
       "1                   C0034579;C0040395;C0040405;C0441633  \n",
       "2     C0002978;C0003842;C0012737;C0027530;C0043299;C...  \n",
       "3                                     C0043299;C1962945  \n",
       "4                                                        \n",
       "...                                                 ...  \n",
       "9995  C0009924;C0013687;C0034579;C0040395;C0040405;C...  \n",
       "9996  C0003842;C0005682;C0006104;C0007765;C0009924;C...  \n",
       "9997  C0006104;C0079595;C0221198;C0228174;C0231881;C...  \n",
       "9998  C0004454;C0021156;C0024947;C0035139;C0040426;C...  \n",
       "9999                         C0043299;C0817096;C1962945  \n",
       "\n",
       "[10000 rows x 2 columns]"
      ]
     },
     "execution_count": 34,
     "metadata": {},
     "output_type": "execute_result"
    }
   ],
   "source": [
    "predictions=[]\n",
    "labels = valid_generator.class_indices\n",
    "labels = dict((v,k) for k,v in labels.items())\n",
    "for row in pred_bool_test:\n",
    "    l=[]\n",
    "    for index,cls in enumerate(row):\n",
    "        if cls:\n",
    "            l.append(labels[index])\n",
    "    predictions.append(\";\".join(l))\n",
    "filenames=test_generator.filenames\n",
    "results=pd.DataFrame({\"image\":filenames,\n",
    "                      \"predictions\":predictions})\n",
    "results.to_csv(\"results-test.csv\", sep='\\t', index=False, header=False)\n",
    "results"
   ]
  },
  {
   "cell_type": "code",
   "execution_count": 35,
   "metadata": {},
   "outputs": [],
   "source": [
    "val_concepts[\"tags\"]=val_concepts[\"tags\"].apply(lambda x:\";\".join(x))\n",
    "val_concepts.to_csv(\"gt-val.csv\", sep='\\t', index=False, header=False)"
   ]
  },
  {
   "cell_type": "code",
   "execution_count": 36,
   "metadata": {},
   "outputs": [
    {
     "name": "stdout",
     "output_type": "stream",
     "text": [
      "Input parameters\n",
      "********************************\n",
      "Candidate file is \"results-val.csv\"\n",
      "Ground Truth file is \"gt-val.csv\"\n",
      "Processing concept sets...\n",
      "********************************\n",
      "1000 / 14157  concept sets processed...\n",
      "2000 / 14157  concept sets processed...\n",
      "3000 / 14157  concept sets processed...\n",
      "4000 / 14157  concept sets processed...\n",
      "5000 / 14157  concept sets processed...\n",
      "6000 / 14157  concept sets processed...\n",
      "7000 / 14157  concept sets processed...\n",
      "8000 / 14157  concept sets processed...\n",
      "9000 / 14157  concept sets processed...\n",
      "10000 / 14157  concept sets processed...\n",
      "11000 / 14157  concept sets processed...\n",
      "12000 / 14157  concept sets processed...\n",
      "13000 / 14157  concept sets processed...\n",
      "14000 / 14157  concept sets processed...\n",
      "Concept statistics\n",
      "********************************\n",
      "Number of concepts distribution\n",
      "1 : 1037\n",
      "2 : 1387\n",
      "3 : 1615\n",
      "4 : 1683\n",
      "5 : 1626\n",
      "6 : 1371\n",
      "7 : 1242\n",
      "8 : 943\n",
      "9 : 794\n",
      "10 : 632\n",
      "11 : 456\n",
      "12 : 340\n",
      "13 : 275\n",
      "14 : 208\n",
      "15 : 136\n",
      "16 : 136\n",
      "17 : 64\n",
      "18 : 50\n",
      "19 : 36\n",
      "20 : 24\n",
      "21 : 24\n",
      "22 : 17\n",
      "23 : 17\n",
      "24 : 13\n",
      "25 : 7\n",
      "26 : 4\n",
      "27 : 9\n",
      "28 : 4\n",
      "29 : 2\n",
      "31 : 1\n",
      "33 : 1\n",
      "40 : 1\n",
      "74 : 1\n",
      "77 : 1\n",
      "Least concepts in set : 1\n",
      "Most concepts in set : 77\n",
      "Average concepts in set : 6.140213322031504\n",
      "Final result\n",
      "********************************\n",
      "Obtained score : 2059.9807546477327 / 14157\n",
      "Mean score over all concept sets : 0.14550969517890322\n"
     ]
    },
    {
     "data": {
      "text/plain": [
       "<Figure size 432x288 with 0 Axes>"
      ]
     },
     "metadata": {},
     "output_type": "display_data"
    }
   ],
   "source": [
    "%run evaluate-f1 results-val.csv gt-val.csv"
   ]
  }
 ],
 "metadata": {
  "kernelspec": {
   "display_name": "Python 3",
   "language": "python",
   "name": "python3"
  },
  "language_info": {
   "codemirror_mode": {
    "name": "ipython",
    "version": 3
   },
   "file_extension": ".py",
   "mimetype": "text/x-python",
   "name": "python",
   "nbconvert_exporter": "python",
   "pygments_lexer": "ipython3",
   "version": "3.6.2"
  }
 },
 "nbformat": 4,
 "nbformat_minor": 2
}

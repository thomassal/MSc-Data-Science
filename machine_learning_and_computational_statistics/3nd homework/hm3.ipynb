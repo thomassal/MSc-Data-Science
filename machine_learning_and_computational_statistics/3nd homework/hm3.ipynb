{
 "cells": [
  {
   "cell_type": "markdown",
   "metadata": {},
   "source": [
    "## Exercise 4"
   ]
  },
  {
   "cell_type": "markdown",
   "metadata": {},
   "source": [
    "### Name: Thomas Saltos"
   ]
  },
  {
   "cell_type": "code",
   "execution_count": 3,
   "metadata": {},
   "outputs": [],
   "source": [
    "import scipy.io as sio\n",
    "import numpy as np\n",
    "import matplotlib.pyplot as plt\n",
    "import pandas as pd\n",
    "\n",
    "\n",
    "Training_Set = sio.loadmat('Training_Set.mat')\n",
    "X = Training_Set['X']\n",
    "y = Training_Set['y']"
   ]
  },
  {
   "cell_type": "code",
   "execution_count": 4,
   "metadata": {},
   "outputs": [
    {
     "data": {
      "image/png": "[encoded data removed]",
      "text/plain": [
       "<Figure size 432x288 with 1 Axes>"
      ]
     },
     "metadata": {
      "needs_background": "light"
     },
     "output_type": "display_data"
    }
   ],
   "source": [
    "fig = plt.figure()\n",
    "ax = fig.add_subplot(111)\n",
    "\n",
    "ax.scatter(X,y,c='r',marker='o')\n",
    "\n",
    "plt.show()"
   ]
  },
  {
   "cell_type": "code",
   "execution_count": 5,
   "metadata": {},
   "outputs": [
    {
     "data": {
      "text/plain": [
       "array([[0. ],\n",
       "       [0.1],\n",
       "       [0.2],\n",
       "       [0.3],\n",
       "       [0.4],\n",
       "       [0.5],\n",
       "       [0.6],\n",
       "       [0.7],\n",
       "       [0.8],\n",
       "       [0.9]])"
      ]
     },
     "execution_count": 5,
     "metadata": {},
     "output_type": "execute_result"
    }
   ],
   "source": [
    "M = 9\n",
    "X_train = X\n",
    "X_train"
   ]
  },
  {
   "cell_type": "code",
   "execution_count": 6,
   "metadata": {},
   "outputs": [
    {
     "data": {
      "text/plain": [
       "array([[1.0000000e+00, 0.0000000e+00, 0.0000000e+00, 0.0000000e+00,\n",
       "        0.0000000e+00, 0.0000000e+00, 0.0000000e+00, 0.0000000e+00,\n",
       "        0.0000000e+00],\n",
       "       [1.0000000e+00, 1.0000000e-01, 1.0000000e-02, 1.0000000e-03,\n",
       "        1.0000000e-04, 1.0000000e-05, 1.0000000e-06, 1.0000000e-07,\n",
       "        1.0000000e-08],\n",
       "       [1.0000000e+00, 2.0000000e-01, 4.0000000e-02, 8.0000000e-03,\n",
       "        1.6000000e-03, 3.2000000e-04, 6.4000000e-05, 1.2800000e-05,\n",
       "        2.5600000e-06],\n",
       "       [1.0000000e+00, 3.0000000e-01, 9.0000000e-02, 2.7000000e-02,\n",
       "        8.1000000e-03, 2.4300000e-03, 7.2900000e-04, 2.1870000e-04,\n",
       "        6.5610000e-05],\n",
       "       [1.0000000e+00, 4.0000000e-01, 1.6000000e-01, 6.4000000e-02,\n",
       "        2.5600000e-02, 1.0240000e-02, 4.0960000e-03, 1.6384000e-03,\n",
       "        6.5536000e-04],\n",
       "       [1.0000000e+00, 5.0000000e-01, 2.5000000e-01, 1.2500000e-01,\n",
       "        6.2500000e-02, 3.1250000e-02, 1.5625000e-02, 7.8125000e-03,\n",
       "        3.9062500e-03],\n",
       "       [1.0000000e+00, 6.0000000e-01, 3.6000000e-01, 2.1600000e-01,\n",
       "        1.2960000e-01, 7.7760000e-02, 4.6656000e-02, 2.7993600e-02,\n",
       "        1.6796160e-02],\n",
       "       [1.0000000e+00, 7.0000000e-01, 4.9000000e-01, 3.4300000e-01,\n",
       "        2.4010000e-01, 1.6807000e-01, 1.1764900e-01, 8.2354300e-02,\n",
       "        5.7648010e-02],\n",
       "       [1.0000000e+00, 8.0000000e-01, 6.4000000e-01, 5.1200000e-01,\n",
       "        4.0960000e-01, 3.2768000e-01, 2.6214400e-01, 2.0971520e-01,\n",
       "        1.6777216e-01],\n",
       "       [1.0000000e+00, 9.0000000e-01, 8.1000000e-01, 7.2900000e-01,\n",
       "        6.5610000e-01, 5.9049000e-01, 5.3144100e-01, 4.7829690e-01,\n",
       "        4.3046721e-01]])"
      ]
     },
     "execution_count": 6,
     "metadata": {},
     "output_type": "execute_result"
    }
   ],
   "source": [
    "arr_ones =np.ones((10,1))\n",
    "X = np.hstack((arr_ones,X_train))\n",
    "for i in range(2,M):\n",
    "    X = np.hstack((X,X_train**(i)))\n",
    "X"
   ]
  },
  {
   "cell_type": "code",
   "execution_count": 7,
   "metadata": {},
   "outputs": [
    {
     "data": {
      "text/plain": [
       "array([[ 9.99979434e-01, -2.59039687e+01,  2.61935937e+02,\n",
       "        -1.38147889e+03,  4.22320356e+03, -7.75370244e+03,\n",
       "         8.42527893e+03, -4.98951892e+03,  1.24008581e+03],\n",
       "       [-2.59039628e+01,  2.80718006e+04, -5.91038750e+05,\n",
       "         4.73055514e+06, -1.91115918e+07,  4.28963463e+07,\n",
       "        -5.42339453e+07,  3.61305838e+07, -9.86097296e+06],\n",
       "       [ 2.61935800e+02, -5.91038725e+05,  1.27207797e+07,\n",
       "        -1.03125332e+08,  4.20322613e+08, -9.49590315e+08,\n",
       "         1.20659398e+09, -8.07012927e+08,  2.20956266e+08],\n",
       "       [-1.38147773e+03,  4.73055474e+06, -1.03125328e+08,\n",
       "         8.43728409e+08, -3.46338103e+09,  7.86859182e+09,\n",
       "        -1.00436885e+10,  6.74255805e+09, -1.85175576e+09],\n",
       "       [ 4.22319861e+03, -1.91115895e+07,  4.20322581e+08,\n",
       "        -3.46338091e+09,  1.43000111e+10, -3.26463398e+10,\n",
       "         4.18387742e+10, -2.81821021e+10,  7.76182908e+09],\n",
       "       [-7.75369083e+03,  4.28963397e+07, -9.49590211e+08,\n",
       "         7.86859129e+09, -3.26463387e+10,  7.48383975e+10,\n",
       "        -9.62482602e+10,  6.50256232e+10, -1.79548688e+10],\n",
       "       [ 8.42526372e+03, -5.42339353e+07,  1.20659381e+09,\n",
       "        -1.00436875e+10,  4.18387717e+10, -9.62482575e+10,\n",
       "         1.24159332e+11, -8.41023235e+10,  2.32748297e+10],\n",
       "       [-4.98950847e+03,  3.61305761e+07, -8.07012795e+08,\n",
       "         6.74255724e+09, -2.81820997e+10,  6.50256199e+10,\n",
       "        -8.41023215e+10,  5.70989269e+10, -1.58332173e+10],\n",
       "       [ 1.24008288e+03, -9.86097063e+06,  2.20956225e+08,\n",
       "        -1.85175549e+09,  7.76182827e+09, -1.79548675e+10,\n",
       "         2.32748287e+10, -1.58332170e+10,  4.39811588e+09]])"
      ]
     },
     "execution_count": 7,
     "metadata": {},
     "output_type": "execute_result"
    }
   ],
   "source": [
    "XTXinv = np.linalg.inv(np.dot(X.T,X))\n",
    "XTXinv"
   ]
  },
  {
   "cell_type": "code",
   "execution_count": 8,
   "metadata": {},
   "outputs": [],
   "source": [
    "theta = np.dot(XTXinv,X.T).dot(y)"
   ]
  },
  {
   "cell_type": "code",
   "execution_count": 9,
   "metadata": {},
   "outputs": [
    {
     "data": {
      "text/plain": [
       "array([[ 2.00198657e+00],\n",
       "       [ 2.59351625e-01],\n",
       "       [-3.83226692e+00],\n",
       "       [ 4.94205111e+01],\n",
       "       [-2.62207925e+02],\n",
       "       [ 6.98307372e+02],\n",
       "       [-9.86595060e+02],\n",
       "       [ 7.06146508e+02],\n",
       "       [-2.01451676e+02]])"
      ]
     },
     "execution_count": 9,
     "metadata": {},
     "output_type": "execute_result"
    }
   ],
   "source": [
    "theta"
   ]
  },
  {
   "cell_type": "code",
   "execution_count": 10,
   "metadata": {},
   "outputs": [
    {
     "data": {
      "text/plain": [
       "array([[1.  , 0.  ],\n",
       "       [1.  , 0.05],\n",
       "       [1.  , 0.1 ],\n",
       "       [1.  , 0.15],\n",
       "       [1.  , 0.2 ],\n",
       "       [1.  , 0.25],\n",
       "       [1.  , 0.3 ],\n",
       "       [1.  , 0.35],\n",
       "       [1.  , 0.4 ],\n",
       "       [1.  , 0.45],\n",
       "       [1.  , 0.5 ],\n",
       "       [1.  , 0.55],\n",
       "       [1.  , 0.6 ],\n",
       "       [1.  , 0.65],\n",
       "       [1.  , 0.7 ],\n",
       "       [1.  , 0.75],\n",
       "       [1.  , 0.8 ],\n",
       "       [1.  , 0.85],\n",
       "       [1.  , 0.9 ],\n",
       "       [1.  , 0.95]])"
      ]
     },
     "execution_count": 10,
     "metadata": {},
     "output_type": "execute_result"
    }
   ],
   "source": [
    "X_test = np.arange(0.0,1,0.05)\n",
    "X_test = X_test.reshape(20,1)\n",
    "arr_ones =np.ones((20,1))\n",
    "X2 = np.hstack((arr_ones,X_test))\n",
    "X2"
   ]
  },
  {
   "cell_type": "code",
   "execution_count": 11,
   "metadata": {},
   "outputs": [],
   "source": [
    "for i in range(2, M):\n",
    "    X2 = np.hstack((X2,X_test**(i)))\n",
    "y_recon = X2.dot(theta)"
   ]
  },
  {
   "cell_type": "code",
   "execution_count": 12,
   "metadata": {},
   "outputs": [
    {
     "data": {
      "text/plain": [
       "array([[2.00198657],\n",
       "       [2.0101156 ],\n",
       "       [2.01886386],\n",
       "       [2.03165944],\n",
       "       [2.04523686],\n",
       "       [2.05635228],\n",
       "       [2.06423375],\n",
       "       [2.07043644],\n",
       "       [2.07745554],\n",
       "       [2.08713224],\n",
       "       [2.09957079],\n",
       "       [2.1129675 ],\n",
       "       [2.12443525],\n",
       "       [2.13158957],\n",
       "       [2.13434548],\n",
       "       [2.13605652],\n",
       "       [2.1428105 ],\n",
       "       [2.15937892],\n",
       "       [2.18000002],\n",
       "       [2.17185784]])"
      ]
     },
     "execution_count": 12,
     "metadata": {},
     "output_type": "execute_result"
    }
   ],
   "source": [
    "y_recon"
   ]
  },
  {
   "cell_type": "code",
   "execution_count": 13,
   "metadata": {},
   "outputs": [
    {
     "data": {
      "image/png": "[encoded data removed]",
      "text/plain": [
       "<Figure size 432x288 with 1 Axes>"
      ]
     },
     "metadata": {
      "needs_background": "light"
     },
     "output_type": "display_data"
    }
   ],
   "source": [
    "plt.plot(X_train,y,'o',label='training data')\n",
    "plt.plot(X_test,y_recon,'r',label='Reconstruction, M=%d'%M)\n",
    "plt.legend(bbox_to_anchor=(0.1, .7, .43, .102))\n",
    "plt.show()"
   ]
  },
  {
   "cell_type": "code",
   "execution_count": 14,
   "metadata": {},
   "outputs": [
    {
     "data": {
      "text/html": [
       "<div>\n",
       "<style scoped>\n",
       "    .dataframe tbody tr th:only-of-type {\n",
       "        vertical-align: middle;\n",
       "    }\n",
       "\n",
       "    .dataframe tbody tr th {\n",
       "        vertical-align: top;\n",
       "    }\n",
       "\n",
       "    .dataframe thead th {\n",
       "        text-align: right;\n",
       "    }\n",
       "</style>\n",
       "<table border=\"1\" class=\"dataframe\">\n",
       "  <thead>\n",
       "    <tr style=\"text-align: right;\">\n",
       "      <th></th>\n",
       "      <th></th>\n",
       "    </tr>\n",
       "  </thead>\n",
       "  <tbody>\n",
       "    <tr>\n",
       "      <th>$\\theta_0$</th>\n",
       "      <td>2.001987</td>\n",
       "    </tr>\n",
       "    <tr>\n",
       "      <th>$\\theta_1$</th>\n",
       "      <td>0.259352</td>\n",
       "    </tr>\n",
       "    <tr>\n",
       "      <th>$\\theta_2$</th>\n",
       "      <td>-3.832267</td>\n",
       "    </tr>\n",
       "    <tr>\n",
       "      <th>$\\theta_3$</th>\n",
       "      <td>49.420511</td>\n",
       "    </tr>\n",
       "    <tr>\n",
       "      <th>$\\theta_4$</th>\n",
       "      <td>-262.207925</td>\n",
       "    </tr>\n",
       "    <tr>\n",
       "      <th>$\\theta_5$</th>\n",
       "      <td>698.307372</td>\n",
       "    </tr>\n",
       "    <tr>\n",
       "      <th>$\\theta_6$</th>\n",
       "      <td>-986.595060</td>\n",
       "    </tr>\n",
       "    <tr>\n",
       "      <th>$\\theta_7$</th>\n",
       "      <td>706.146508</td>\n",
       "    </tr>\n",
       "    <tr>\n",
       "      <th>$\\theta_8$</th>\n",
       "      <td>-201.451676</td>\n",
       "    </tr>\n",
       "  </tbody>\n",
       "</table>\n",
       "</div>"
      ],
      "text/plain": [
       "                      \n",
       "$\\theta_0$    2.001987\n",
       "$\\theta_1$    0.259352\n",
       "$\\theta_2$   -3.832267\n",
       "$\\theta_3$   49.420511\n",
       "$\\theta_4$ -262.207925\n",
       "$\\theta_5$  698.307372\n",
       "$\\theta_6$ -986.595060\n",
       "$\\theta_7$  706.146508\n",
       "$\\theta_8$ -201.451676"
      ]
     },
     "execution_count": 14,
     "metadata": {},
     "output_type": "execute_result"
    }
   ],
   "source": [
    "name1 = [\"$\\theta_0$\",\"$\\theta_1$\",\"$\\theta_2$\",\"$\\theta_3$\",\"$\\theta_4$\",\"$\\theta_5$\",\n",
    "\"$\\theta_6$\",\"$\\theta_7$\",\"$\\theta_8$\"]\n",
    "pd.DataFrame(theta,name1,[\"\"])"
   ]
  },
  {
   "cell_type": "markdown",
   "metadata": {},
   "source": [
    "### c) Rigde reggression"
   ]
  },
  {
   "cell_type": "code",
   "execution_count": 15,
   "metadata": {},
   "outputs": [],
   "source": [
    "l = 0.01 #regularization parameter"
   ]
  },
  {
   "cell_type": "code",
   "execution_count": 16,
   "metadata": {},
   "outputs": [],
   "source": [
    "XTXinv = np.linalg.inv(np.dot(X.T,X) + l*np.identity(M));\n",
    "theta = np.dot(XTXinv,X.T).dot(y)\n",
    "y_recon = X2.dot(theta)"
   ]
  },
  {
   "cell_type": "code",
   "execution_count": 17,
   "metadata": {},
   "outputs": [
    {
     "data": {
      "text/plain": [
       "array([[1.99471461],\n",
       "       [2.00567506],\n",
       "       [2.01662784],\n",
       "       [2.02754077],\n",
       "       [2.038377  ],\n",
       "       [2.04909525],\n",
       "       [2.05965066],\n",
       "       [2.06999659],\n",
       "       [2.08008766],\n",
       "       [2.08988438],\n",
       "       [2.09936003],\n",
       "       [2.10850998],\n",
       "       [2.11736444],\n",
       "       [2.1260048 ],\n",
       "       [2.13458472],\n",
       "       [2.14335627],\n",
       "       [2.15270228],\n",
       "       [2.16317553],\n",
       "       [2.1755458 ],\n",
       "       [2.19085567]])"
      ]
     },
     "execution_count": 17,
     "metadata": {},
     "output_type": "execute_result"
    }
   ],
   "source": [
    "y_recon"
   ]
  },
  {
   "cell_type": "code",
   "execution_count": 18,
   "metadata": {},
   "outputs": [
    {
     "data": {
      "image/png": "[encoded data removed]",
      "text/plain": [
       "<Figure size 432x288 with 1 Axes>"
      ]
     },
     "metadata": {
      "needs_background": "light"
     },
     "output_type": "display_data"
    }
   ],
   "source": [
    "plt.plot(X_train,y,'o',label='training data')\n",
    "plt.plot(X_test,y_recon,'r',label='Reconstructed model, M=%d'%M)\n",
    "plt.legend(bbox_to_anchor=(0.4, .1, .55, .102))\n",
    "plt.show()"
   ]
  },
  {
   "cell_type": "code",
   "execution_count": 19,
   "metadata": {},
   "outputs": [
    {
     "data": {
      "text/html": [
       "<div>\n",
       "<style scoped>\n",
       "    .dataframe tbody tr th:only-of-type {\n",
       "        vertical-align: middle;\n",
       "    }\n",
       "\n",
       "    .dataframe tbody tr th {\n",
       "        vertical-align: top;\n",
       "    }\n",
       "\n",
       "    .dataframe thead th {\n",
       "        text-align: right;\n",
       "    }\n",
       "</style>\n",
       "<table border=\"1\" class=\"dataframe\">\n",
       "  <thead>\n",
       "    <tr style=\"text-align: right;\">\n",
       "      <th></th>\n",
       "      <th></th>\n",
       "    </tr>\n",
       "  </thead>\n",
       "  <tbody>\n",
       "    <tr>\n",
       "      <th>$\\theta_0$</th>\n",
       "      <td>1.994715</td>\n",
       "    </tr>\n",
       "    <tr>\n",
       "      <th>$\\theta_1$</th>\n",
       "      <td>0.219094</td>\n",
       "    </tr>\n",
       "    <tr>\n",
       "      <th>$\\theta_2$</th>\n",
       "      <td>0.004060</td>\n",
       "    </tr>\n",
       "    <tr>\n",
       "      <th>$\\theta_3$</th>\n",
       "      <td>-0.033896</td>\n",
       "    </tr>\n",
       "    <tr>\n",
       "      <th>$\\theta_4$</th>\n",
       "      <td>-0.028095</td>\n",
       "    </tr>\n",
       "    <tr>\n",
       "      <th>$\\theta_5$</th>\n",
       "      <td>-0.011253</td>\n",
       "    </tr>\n",
       "    <tr>\n",
       "      <th>$\\theta_6$</th>\n",
       "      <td>0.006882</td>\n",
       "    </tr>\n",
       "    <tr>\n",
       "      <th>$\\theta_7$</th>\n",
       "      <td>0.022988</td>\n",
       "    </tr>\n",
       "    <tr>\n",
       "      <th>$\\theta_8$</th>\n",
       "      <td>0.035990</td>\n",
       "    </tr>\n",
       "  </tbody>\n",
       "</table>\n",
       "</div>"
      ],
      "text/plain": [
       "                    \n",
       "$\\theta_0$  1.994715\n",
       "$\\theta_1$  0.219094\n",
       "$\\theta_2$  0.004060\n",
       "$\\theta_3$ -0.033896\n",
       "$\\theta_4$ -0.028095\n",
       "$\\theta_5$ -0.011253\n",
       "$\\theta_6$  0.006882\n",
       "$\\theta_7$  0.022988\n",
       "$\\theta_8$  0.035990"
      ]
     },
     "execution_count": 19,
     "metadata": {},
     "output_type": "execute_result"
    }
   ],
   "source": [
    "name1 = [\"$\\theta_0$\",\"$\\theta_1$\",\"$\\theta_2$\",\"$\\theta_3$\",\"$\\theta_4$\",\n",
    "\"$\\theta_5$\",\"$\\theta_6$\",\"$\\theta_7$\",\"$\\theta_8$\"]\n",
    "pd.DataFrame(theta,name1,[\"\"])"
   ]
  },
  {
   "cell_type": "markdown",
   "metadata": {},
   "source": [
    "### d) Lasso"
   ]
  },
  {
   "cell_type": "code",
   "execution_count": 20,
   "metadata": {},
   "outputs": [
    {
     "data": {
      "text/plain": [
       "Lasso(alpha=0.1, copy_X=True, fit_intercept=True, max_iter=1000,\n",
       "      normalize=False, positive=False, precompute=False, random_state=None,\n",
       "      selection='cyclic', tol=0.0001, warm_start=False)"
      ]
     },
     "execution_count": 20,
     "metadata": {},
     "output_type": "execute_result"
    }
   ],
   "source": [
    "#Lasso estimated model\n",
    "\n",
    "from sklearn import linear_model\n",
    "\n",
    "#alpha = 0.01 (lamda parameters)\n",
    "clf = linear_model.Lasso(alpha=0.1)\n",
    "clf.fit(X, y)"
   ]
  },
  {
   "cell_type": "code",
   "execution_count": 21,
   "metadata": {},
   "outputs": [
    {
     "data": {
      "text/plain": [
       "array([2.08889622])"
      ]
     },
     "execution_count": 21,
     "metadata": {},
     "output_type": "execute_result"
    }
   ],
   "source": [
    "clf.intercept_"
   ]
  },
  {
   "cell_type": "code",
   "execution_count": 22,
   "metadata": {},
   "outputs": [
    {
     "data": {
      "text/plain": [
       "array([0., 0., 0., 0., 0., 0., 0., 0., 0.])"
      ]
     },
     "execution_count": 22,
     "metadata": {},
     "output_type": "execute_result"
    }
   ],
   "source": [
    "clf.coef_"
   ]
  },
  {
   "cell_type": "code",
   "execution_count": 23,
   "metadata": {},
   "outputs": [],
   "source": [
    "y_pred = clf.predict(X2)"
   ]
  },
  {
   "cell_type": "code",
   "execution_count": 24,
   "metadata": {},
   "outputs": [
    {
     "data": {
      "image/png": "[encoded data removed]",
      "text/plain": [
       "<Figure size 432x288 with 1 Axes>"
      ]
     },
     "metadata": {
      "needs_background": "light"
     },
     "output_type": "display_data"
    }
   ],
   "source": [
    "plt.plot(X_train,y,'o',label='training data')\n",
    "plt.plot(X_test,y_pred,'r',label='Reconstructed model, M=%d'%M)\n",
    "plt.legend(bbox_to_anchor=(0.4, .1, .55, .102))\n",
    "plt.show()"
   ]
  },
  {
   "cell_type": "code",
   "execution_count": 25,
   "metadata": {},
   "outputs": [
    {
     "data": {
      "text/plain": [
       "array([2.08889622, 2.08889622, 2.08889622, 2.08889622, 2.08889622,\n",
       "       2.08889622, 2.08889622, 2.08889622, 2.08889622, 2.08889622,\n",
       "       2.08889622, 2.08889622, 2.08889622, 2.08889622, 2.08889622,\n",
       "       2.08889622, 2.08889622, 2.08889622, 2.08889622, 2.08889622])"
      ]
     },
     "execution_count": 25,
     "metadata": {},
     "output_type": "execute_result"
    }
   ],
   "source": [
    "y_pred"
   ]
  },
  {
   "cell_type": "markdown",
   "metadata": {},
   "source": [
    "## Exercise 5 "
   ]
  },
  {
   "cell_type": "code",
   "execution_count": 26,
   "metadata": {},
   "outputs": [
    {
     "data": {
      "text/plain": [
       "50"
      ]
     },
     "execution_count": 26,
     "metadata": {},
     "output_type": "execute_result"
    }
   ],
   "source": [
    "x = np.random.normal(size=30)\n",
    "x_array = x\n",
    "y = 2*x\n",
    "y = y + np.random.normal(0,np.sqrt(8),len(x))\n",
    "y_array = y\n",
    "for i in range(1,50):\n",
    "    x = np.random.normal(size=30)\n",
    "    x_array = np.vstack((x_array, x))\n",
    "    y = 2*x\n",
    "    y = y + np.random.normal(0,np.sqrt(8),len(x))\n",
    "    y_array = np.vstack((y_array, y))\n",
    "len(y_array)"
   ]
  },
  {
   "cell_type": "code",
   "execution_count": 27,
   "metadata": {},
   "outputs": [
    {
     "data": {
      "text/plain": [
       "[2.5251722827351877,\n",
       " 2.2558543431785596,\n",
       " 1.2806528096490153,\n",
       " 1.8353304864535556,\n",
       " 2.368395029273317,\n",
       " 2.162712533054351,\n",
       " 1.4217333442499414,\n",
       " 1.7417678155116119,\n",
       " 2.724296775215459,\n",
       " 2.1313936097888004,\n",
       " 2.5616368275310797,\n",
       " 1.4705114064089868,\n",
       " 1.4966413434611987,\n",
       " 2.0447637951831705,\n",
       " 1.3604257206358774,\n",
       " 1.5973641339353641,\n",
       " 1.8016396194102107,\n",
       " 1.5441277263124935,\n",
       " 1.6618181405834516,\n",
       " 1.7492241076078772,\n",
       " 1.8081352448632761,\n",
       " 1.6177933327823628,\n",
       " 1.5436476569350261,\n",
       " 1.9809226736890029,\n",
       " 2.0826090180422,\n",
       " 2.003288231157031,\n",
       " 0.8007982811421577,\n",
       " 2.2600586668893707,\n",
       " 2.9673476856745147,\n",
       " 1.6834099566299292,\n",
       " 2.4693355773157375,\n",
       " 2.340477670173387,\n",
       " 2.385496196328526,\n",
       " 1.8147822463822973,\n",
       " 2.09230555796222,\n",
       " 2.0217225436126687,\n",
       " 2.7822179595195746,\n",
       " 1.9462827805236491,\n",
       " 2.5198334671993856,\n",
       " 1.4948823006105707,\n",
       " 2.9131643758875265,\n",
       " 2.671803600255162,\n",
       " 2.078920695313174,\n",
       " 2.176551486926021,\n",
       " 3.0835809786942687,\n",
       " 1.8876512566715797,\n",
       " 1.810338441237541,\n",
       " 1.4017633762951025,\n",
       " 2.515064514447213,\n",
       " 2.057883845567908]"
      ]
     },
     "execution_count": 27,
     "metadata": {},
     "output_type": "execute_result"
    }
   ],
   "source": [
    "theta_all=[]\n",
    "for i in range(0,50):\n",
    "    A = np.vstack([x_array[i], np.ones(len(x_array[0]))]).T\n",
    "    theta, c = np.linalg.lstsq(A, y_array[i], rcond=None)[0]\n",
    "    theta_all.append(theta)\n",
    "theta_all"
   ]
  },
  {
   "cell_type": "code",
   "execution_count": 28,
   "metadata": {},
   "outputs": [
    {
     "data": {
      "text/plain": [
       "2.0189506293781583"
      ]
     },
     "execution_count": 28,
     "metadata": {},
     "output_type": "execute_result"
    }
   ],
   "source": [
    "np.mean(theta_all)"
   ]
  },
  {
   "cell_type": "code",
   "execution_count": 29,
   "metadata": {},
   "outputs": [
    {
     "name": "stdout",
     "output_type": "stream",
     "text": [
      "The Mean Square Error is:  0.23235766947663133\n"
     ]
    }
   ],
   "source": [
    "difference = 0\n",
    "theta_true = np.ones(50)*2\n",
    "summation = 0  #variable to store the summation of differences\n",
    "n = len(theta_true) #finding total number of items in list\n",
    "for i in range (0,n):  #looping through each element of the list\n",
    "  difference = theta_true[i] - theta_all[i]  #finding the difference between observed and predicted value\n",
    "  squared_difference = difference**2  #taking square of the differene \n",
    "  summation = summation + squared_difference  #taking a sum of all the differences\n",
    "MSE = summation/n  #dividing summation by total values to obtain average\n",
    "print(\"The Mean Square Error is: \" , MSE)"
   ]
  },
  {
   "cell_type": "code",
   "execution_count": 30,
   "metadata": {},
   "outputs": [
    {
     "data": {
      "image/png": "[encoded data removed]",
      "text/plain": [
       "<Figure size 432x288 with 1 Axes>"
      ]
     },
     "metadata": {
      "needs_background": "light"
     },
     "output_type": "display_data"
    }
   ],
   "source": [
    "plt.plot(theta_all, 'ro')\n",
    "plt.plot(theta_true)\n",
    "plt.show()"
   ]
  },
  {
   "cell_type": "markdown",
   "metadata": {},
   "source": [
    "## Exercise 6"
   ]
  },
  {
   "cell_type": "code",
   "execution_count": null,
   "metadata": {},
   "outputs": [],
   "source": [
    "l=np.arange(0.0, 10000, 0.1).tolist()\n",
    "for lam in l:\n",
    "    for i in range(0,50):\n",
    "        XTXinv = np.linalg.inv(np.dot(x_array[i].T,x_array[i]) + lam*np.identity(len(x_array[i])));\n",
    "        theta = np.dot(XTXinv,x_array[i].T).dot(y_array[i])"
   ]
  }
 ],
 "metadata": {
  "kernelspec": {
   "display_name": "Python 3",
   "language": "python",
   "name": "python3"
  },
  "language_info": {
   "codemirror_mode": {
    "name": "ipython",
    "version": 3
   },
   "file_extension": ".py",
   "mimetype": "text/x-python",
   "name": "python",
   "nbconvert_exporter": "python",
   "pygments_lexer": "ipython3",
   "version": "3.6.4"
  }
 },
 "nbformat": 4,
 "nbformat_minor": 2
}

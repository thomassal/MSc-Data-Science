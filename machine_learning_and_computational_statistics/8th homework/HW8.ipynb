{
 "cells": [
  {
   "cell_type": "markdown",
   "metadata": {},
   "source": [
    "### Name: Thomas Saltos\n",
    "### Exercise 2"
   ]
  },
  {
   "cell_type": "code",
   "execution_count": 4,
   "metadata": {},
   "outputs": [
    {
     "data": {
      "image/png": "[encoded data removed]",
      "text/plain": [
       "<Figure size 432x288 with 6 Axes>"
      ]
     },
     "metadata": {
      "needs_background": "light"
     },
     "output_type": "display_data"
    }
   ],
   "source": [
    "import numpy as np\n",
    "import matplotlib.pyplot as plt\n",
    "\n",
    "%matplotlib inline\n",
    "\n",
    "def f(z,a):\n",
    "    return 1/(1+ np.exp(-a*z))\n",
    "\n",
    "z = np.arange(-5.0,5.0,0.5)\n",
    "a =[0,0.1,0.5,1,5,10]\n",
    "fig = plt.figure()\n",
    "\n",
    "plt.subplot(231)\n",
    "plt.plot(z, f(z,a[0]))\n",
    "plt.title('a= %s' %a[0])\n",
    "\n",
    "plt.subplot(232)\n",
    "plt.plot(z, f(z,a[1]))\n",
    "plt.title('a= %s' %a[1])\n",
    "\n",
    "plt.subplot(233)\n",
    "plt.plot(z, f(z,a[2]))\n",
    "plt.title('a= %s' %a[2])\n",
    "\n",
    "plt.subplot(234)\n",
    "plt.plot(z, f(z,a[3]))\n",
    "plt.title('a= %s' %a[3])\n",
    "\n",
    "plt.subplot(235)\n",
    "plt.plot(z, f(z,a[4]))\n",
    "plt.title('a= %s' %a[4])\n",
    "\n",
    "plt.subplot(236)\n",
    "plt.plot(z, f(z,a[5]))\n",
    "plt.title('a= %s' %a[5])\n",
    "\n",
    "plt.subplots_adjust(top=0.92, bottom=0.08, left=0.10, right=0.95, hspace=0.75, wspace=0.95)\n",
    "plt.show()"
   ]
  },
  {
   "cell_type": "markdown",
   "metadata": {},
   "source": [
    "### Exercise 4"
   ]
  },
  {
   "cell_type": "code",
   "execution_count": 5,
   "metadata": {},
   "outputs": [],
   "source": [
    "import scipy.io as sio\n",
    "import numpy as np\n",
    "import matplotlib.pyplot as plt\n",
    "from scipy.stats import multivariate_normal, norm\n",
    "import pandas as pd\n",
    "from numpy import matlib\n",
    "\n",
    "Dataset = sio.loadmat('HW8.mat')\n",
    "train_x = Dataset['train_x']\n",
    "train_y= Dataset['train_y']\n",
    "\n",
    "test_x = Dataset['test_x']\n",
    "test_y = Dataset['test_y']"
   ]
  },
  {
   "cell_type": "code",
   "execution_count": 2,
   "metadata": {},
   "outputs": [],
   "source": [
    "indx_1 = (train_y==1).reshape(len(train_y))\n",
    "indx_2 = (train_y==2).reshape(len(train_y))"
   ]
  },
  {
   "cell_type": "markdown",
   "metadata": {},
   "source": [
    "### a) Bayes classifier"
   ]
  },
  {
   "cell_type": "code",
   "execution_count": 3,
   "metadata": {},
   "outputs": [
    {
     "data": {
      "text/html": [
       "<div>\n",
       "<style scoped>\n",
       "    .dataframe tbody tr th:only-of-type {\n",
       "        vertical-align: middle;\n",
       "    }\n",
       "\n",
       "    .dataframe tbody tr th {\n",
       "        vertical-align: top;\n",
       "    }\n",
       "\n",
       "    .dataframe thead th {\n",
       "        text-align: right;\n",
       "    }\n",
       "</style>\n",
       "<table border=\"1\" class=\"dataframe\">\n",
       "  <thead>\n",
       "    <tr style=\"text-align: right;\">\n",
       "      <th></th>\n",
       "      <th></th>\n",
       "    </tr>\n",
       "  </thead>\n",
       "  <tbody>\n",
       "    <tr>\n",
       "      <th>$P_{\\omega_1}$</th>\n",
       "      <td>0.5</td>\n",
       "    </tr>\n",
       "    <tr>\n",
       "      <th>$P_{\\omega_2}$</th>\n",
       "      <td>0.5</td>\n",
       "    </tr>\n",
       "  </tbody>\n",
       "</table>\n",
       "</div>"
      ],
      "text/plain": [
       "                   \n",
       "$P_{\\omega_1}$  0.5\n",
       "$P_{\\omega_2}$  0.5"
      ]
     },
     "execution_count": 3,
     "metadata": {},
     "output_type": "execute_result"
    }
   ],
   "source": [
    "#estimate number of trainining samples belonging to each class\n",
    "N1 = np.count_nonzero(indx_1)\n",
    "N2 = np.count_nonzero(indx_2)\n",
    "N = len(train_y)\n",
    "P1 = N1/N\n",
    "P2 = N2/N\n",
    "name1 = [\"$P_{\\omega_1}$\",\"$P_{\\omega_2}$\"]\n",
    "pd.DataFrame([P1,P2],name1,[\"\"])"
   ]
  },
  {
   "cell_type": "code",
   "execution_count": 6,
   "metadata": {},
   "outputs": [
    {
     "name": "stderr",
     "output_type": "stream",
     "text": [
      "c:\\users\\thomas\\envs\\notebook\\lib\\site-packages\\ipykernel_launcher.py:15: DeprecationWarning: Calling np.sum(generator) is deprecated, and in the future will give a different result. Use np.sum(np.fromiter(generator)) or the python sum builtin instead.\n",
      "  from ipykernel import kernelapp as app\n"
     ]
    },
    {
     "data": {
      "text/html": [
       "<div>\n",
       "<style scoped>\n",
       "    .dataframe tbody tr th:only-of-type {\n",
       "        vertical-align: middle;\n",
       "    }\n",
       "\n",
       "    .dataframe tbody tr th {\n",
       "        vertical-align: top;\n",
       "    }\n",
       "\n",
       "    .dataframe thead th {\n",
       "        text-align: right;\n",
       "    }\n",
       "</style>\n",
       "<table border=\"1\" class=\"dataframe\">\n",
       "  <thead>\n",
       "    <tr style=\"text-align: right;\">\n",
       "      <th></th>\n",
       "      <th></th>\n",
       "    </tr>\n",
       "  </thead>\n",
       "  <tbody>\n",
       "    <tr>\n",
       "      <th>Error of Bayes classifier</th>\n",
       "      <td>0.15</td>\n",
       "    </tr>\n",
       "  </tbody>\n",
       "</table>\n",
       "</div>"
      ],
      "text/plain": [
       "                               \n",
       "Error of Bayes classifier  0.15"
      ]
     },
     "execution_count": 6,
     "metadata": {},
     "output_type": "execute_result"
    }
   ],
   "source": [
    "m1 = np.mean(train_x[indx_1,:],0)\n",
    "m2 = np.mean(train_x[indx_2,:],0)\n",
    "S1 = 1/N1*((train_x[indx_1,:] - np.matlib.repmat(m1,N1,1)).T).dot((train_x[indx_1,:] - np.matlib.repmat(m1,N1,1)))\n",
    "S2 = 1/N2*((train_x[indx_2,:] - np.matlib.repmat(m2,N2,1)).T).dot((train_x[indx_2,:] - np.matlib.repmat(m2,N2,1)))\n",
    "\n",
    "N_test = len(test_y)\n",
    "class1 = multivariate_normal(m1,S1)\n",
    "class1_scores = class1.pdf(test_x)*P1\n",
    "class2 = multivariate_normal(m2,S2)\n",
    "class2_scores = class2.pdf(test_x)*P2\n",
    "Btest_y = np.zeros((N,1))\n",
    "Btest_y[class1_scores>class2_scores] = 1\n",
    "Btest_y[class2_scores>class1_scores] = 2\n",
    "\n",
    "Error_Bayes = 1 - (np.sum(i==1 for i in Btest_y == test_y))/N_test\n",
    "name1 = [\"Error of Bayes classifier\"]\n",
    "pd.DataFrame(Error_Bayes,name1,[\"\"])"
   ]
  },
  {
   "cell_type": "markdown",
   "metadata": {},
   "source": [
    "### b) Naive Bayes classifier"
   ]
  },
  {
   "cell_type": "code",
   "execution_count": 7,
   "metadata": {},
   "outputs": [
    {
     "name": "stderr",
     "output_type": "stream",
     "text": [
      "c:\\users\\thomas\\envs\\notebook\\lib\\site-packages\\ipykernel_launcher.py:16: DeprecationWarning: Calling np.sum(generator) is deprecated, and in the future will give a different result. Use np.sum(np.fromiter(generator)) or the python sum builtin instead.\n",
      "  app.launch_new_instance()\n"
     ]
    },
    {
     "data": {
      "text/html": [
       "<div>\n",
       "<style scoped>\n",
       "    .dataframe tbody tr th:only-of-type {\n",
       "        vertical-align: middle;\n",
       "    }\n",
       "\n",
       "    .dataframe tbody tr th {\n",
       "        vertical-align: top;\n",
       "    }\n",
       "\n",
       "    .dataframe thead th {\n",
       "        text-align: right;\n",
       "    }\n",
       "</style>\n",
       "<table border=\"1\" class=\"dataframe\">\n",
       "  <thead>\n",
       "    <tr style=\"text-align: right;\">\n",
       "      <th></th>\n",
       "      <th></th>\n",
       "    </tr>\n",
       "  </thead>\n",
       "  <tbody>\n",
       "    <tr>\n",
       "      <th>Error of Naive Bayes classifier</th>\n",
       "      <td>0.165</td>\n",
       "    </tr>\n",
       "  </tbody>\n",
       "</table>\n",
       "</div>"
      ],
      "text/plain": [
       "                                      \n",
       "Error of Naive Bayes classifier  0.165"
      ]
     },
     "execution_count": 7,
     "metadata": {},
     "output_type": "execute_result"
    }
   ],
   "source": [
    "m1 = np.mean(train_x[indx_1,:],0)\n",
    "m2 = np.mean(train_x[indx_2,:],0)\n",
    "#ML estimate of S11, S12\n",
    "S11_naive = np.sum(np.power(train_x[indx_1,0].reshape(N1,1) - np.matlib.repmat(m1[0],N1,1),2))/N1\n",
    "S12_naive = (np.sum(np.power(train_x[indx_1,1].reshape(N1,1) - np.matlib.repmat(m1[1],N1,1),2)))/N1\n",
    "#ML estimate of S21,S22\n",
    "S21_naive = np.sum(np.power(train_x[indx_2,0].reshape(N2,1) - np.matlib.repmat(m2[0],N2,1),2))/N2\n",
    "S22_naive = np.sum(np.power(train_x[indx_2,1].reshape(N2,1) - np.matlib.repmat(m2[1],N2,1),2))/N2\n",
    "class1_scores = np.multiply(norm(m1[0],np.sqrt(S11_naive)).pdf(test_x[:,0]), (norm(m1[1],np.sqrt(S12_naive)).pdf(test_x[:,1])))\n",
    "class2_scores= np.multiply(norm(m2[0],np.sqrt(S21_naive)).pdf(test_x[:,0]), norm(m2[1],np.sqrt(S22_naive)).pdf(test_x[:,1]))\n",
    "\n",
    "Btest_naive_y = np.zeros((N,1))\n",
    "Btest_naive_y[class1_scores>class2_scores] = 1\n",
    "Btest_naive_y[class2_scores>class1_scores] = 2\n",
    "\n",
    "Error_Bayes_naive = (np.sum(i==1 for i in Btest_naive_y != test_y))/N_test\n",
    "name1 = [\"Error of Naive Bayes classifier\"]\n",
    "pd.DataFrame(Error_Bayes_naive,name1,[\"\"])"
   ]
  },
  {
   "cell_type": "markdown",
   "metadata": {},
   "source": [
    "### c) knn classifier"
   ]
  },
  {
   "cell_type": "code",
   "execution_count": 8,
   "metadata": {},
   "outputs": [
    {
     "name": "stderr",
     "output_type": "stream",
     "text": [
      "c:\\users\\thomas\\envs\\notebook\\lib\\site-packages\\ipykernel_launcher.py:6: DeprecationWarning: Calling np.sum(generator) is deprecated, and in the future will give a different result. Use np.sum(np.fromiter(generator)) or the python sum builtin instead.\n",
      "  \n"
     ]
    },
    {
     "data": {
      "text/html": [
       "<div>\n",
       "<style scoped>\n",
       "    .dataframe tbody tr th:only-of-type {\n",
       "        vertical-align: middle;\n",
       "    }\n",
       "\n",
       "    .dataframe tbody tr th {\n",
       "        vertical-align: top;\n",
       "    }\n",
       "\n",
       "    .dataframe thead th {\n",
       "        text-align: right;\n",
       "    }\n",
       "</style>\n",
       "<table border=\"1\" class=\"dataframe\">\n",
       "  <thead>\n",
       "    <tr style=\"text-align: right;\">\n",
       "      <th></th>\n",
       "      <th></th>\n",
       "    </tr>\n",
       "  </thead>\n",
       "  <tbody>\n",
       "    <tr>\n",
       "      <th>Error of kNN classifier</th>\n",
       "      <td>0.17</td>\n",
       "    </tr>\n",
       "  </tbody>\n",
       "</table>\n",
       "</div>"
      ],
      "text/plain": [
       "                             \n",
       "Error of kNN classifier  0.17"
      ]
     },
     "execution_count": 8,
     "metadata": {},
     "output_type": "execute_result"
    }
   ],
   "source": [
    "from sklearn.neighbors import KNeighborsClassifier\n",
    "\n",
    "neigh = KNeighborsClassifier(n_neighbors=5)\n",
    "neigh.fit(train_x, train_y.ravel())\n",
    "Knn_test_y = neigh.predict(test_x).reshape(N_test,1)\n",
    "Error_kNN = (np.sum(i==1 for i in Knn_test_y != test_y))/N_test\n",
    "name1 = [\"Error of kNN classifier\"]\n",
    "pd.DataFrame(Error_kNN,name1,[\"\"])"
   ]
  },
  {
   "cell_type": "markdown",
   "metadata": {},
   "source": [
    "### d) Logistic-regression classifier"
   ]
  },
  {
   "cell_type": "code",
   "execution_count": 9,
   "metadata": {},
   "outputs": [
    {
     "name": "stderr",
     "output_type": "stream",
     "text": [
      "c:\\users\\thomas\\envs\\notebook\\lib\\site-packages\\ipykernel_launcher.py:5: DeprecationWarning: Calling np.sum(generator) is deprecated, and in the future will give a different result. Use np.sum(np.fromiter(generator)) or the python sum builtin instead.\n",
      "  \"\"\"\n"
     ]
    },
    {
     "data": {
      "text/html": [
       "<div>\n",
       "<style scoped>\n",
       "    .dataframe tbody tr th:only-of-type {\n",
       "        vertical-align: middle;\n",
       "    }\n",
       "\n",
       "    .dataframe tbody tr th {\n",
       "        vertical-align: top;\n",
       "    }\n",
       "\n",
       "    .dataframe thead th {\n",
       "        text-align: right;\n",
       "    }\n",
       "</style>\n",
       "<table border=\"1\" class=\"dataframe\">\n",
       "  <thead>\n",
       "    <tr style=\"text-align: right;\">\n",
       "      <th></th>\n",
       "      <th></th>\n",
       "    </tr>\n",
       "  </thead>\n",
       "  <tbody>\n",
       "    <tr>\n",
       "      <th>Error of Logistic Regression classifier</th>\n",
       "      <td>0.155</td>\n",
       "    </tr>\n",
       "  </tbody>\n",
       "</table>\n",
       "</div>"
      ],
      "text/plain": [
       "                                              \n",
       "Error of Logistic Regression classifier  0.155"
      ]
     },
     "execution_count": 9,
     "metadata": {},
     "output_type": "execute_result"
    }
   ],
   "source": [
    "from sklearn.linear_model import LogisticRegression\n",
    "\n",
    "clf = LogisticRegression(random_state=0).fit(train_x, train_y.ravel())\n",
    "lr_test_y = clf.predict(test_x).reshape(N_test,1)\n",
    "Error_logR = (np.sum(i==1 for i in lr_test_y != test_y))/N_test\n",
    "name1 = [\"Error of Logistic Regression classifier\"]\n",
    "pd.DataFrame(Error_logR,name1,[\"\"])"
   ]
  },
  {
   "cell_type": "markdown",
   "metadata": {},
   "source": [
    "### e)"
   ]
  },
  {
   "cell_type": "code",
   "execution_count": 10,
   "metadata": {},
   "outputs": [
    {
     "data": {
      "image/png": "[encoded data removed]",
      "text/plain": [
       "<Figure size 432x288 with 1 Axes>"
      ]
     },
     "metadata": {
      "needs_background": "light"
     },
     "output_type": "display_data"
    }
   ],
   "source": [
    "plt.plot(train_x[indx_1,0],train_x[indx_1,1],'r+',label='class 1')\n",
    "plt.plot(train_x[indx_2,0],train_x[indx_2,1],'bo',label='class 2')\n",
    "plt.title('Training set')\n",
    "plt.legend(bbox_to_anchor=(0.2, .8, .2, .2), loc=3, ncol=1, mode=\"expand\", borderaxespad=0.)\n",
    "plt.show()"
   ]
  },
  {
   "cell_type": "markdown",
   "metadata": {},
   "source": [
    "### f) Classification results on the test set"
   ]
  },
  {
   "cell_type": "code",
   "execution_count": 11,
   "metadata": {},
   "outputs": [
    {
     "data": {
      "image/png": "[encoded data removed]",
      "text/plain": [
       "<Figure size 432x288 with 1 Axes>"
      ]
     },
     "metadata": {
      "needs_background": "light"
     },
     "output_type": "display_data"
    }
   ],
   "source": [
    "plt.plot(test_x[(test_y==1).reshape(len(test_y)),0],\n",
    "train_x[(test_y==1).reshape(len(test_y)),1],'r+',label='class 1')\n",
    "plt.plot(test_x[(test_y==2).reshape(len(test_y)),0],\n",
    "train_x[(test_y==2).reshape(len(test_y)),1],'bo',label='class 2')\n",
    "plt.title('Test set')\n",
    "plt.legend(bbox_to_anchor=(0.2, .8, .2, .2), loc=3, ncol=1, mode=\"expand\", borderaxespad=0.)\n",
    "plt.show()"
   ]
  },
  {
   "cell_type": "code",
   "execution_count": 12,
   "metadata": {},
   "outputs": [
    {
     "data": {
      "image/png": "[encoded data removed]",
      "text/plain": [
       "<Figure size 432x288 with 1 Axes>"
      ]
     },
     "metadata": {
      "needs_background": "light"
     },
     "output_type": "display_data"
    }
   ],
   "source": [
    "plt.plot(test_x[(Btest_y==1).reshape(len(test_y)),0],\n",
    "train_x[(Btest_y==1).reshape(len(test_y)),1],'r+',label='class 1')\n",
    "plt.plot(test_x[(Btest_y==2).reshape(len(test_y)),0],\n",
    "train_x[(Btest_y==2).reshape(len(test_y)),1],'bo',label='class 2')\n",
    "plt.title('Test set - Bayes classifier')\n",
    "plt.legend(bbox_to_anchor=(0.2, .8, .2, .2), loc=3, ncol=1, mode=\"expand\", borderaxespad=0.)\n",
    "plt.show()"
   ]
  },
  {
   "cell_type": "code",
   "execution_count": 13,
   "metadata": {},
   "outputs": [
    {
     "data": {
      "image/png": "[encoded data removed]",
      "text/plain": [
       "<Figure size 432x288 with 1 Axes>"
      ]
     },
     "metadata": {
      "needs_background": "light"
     },
     "output_type": "display_data"
    }
   ],
   "source": [
    "plt.plot(test_x[(Btest_naive_y==1).reshape(len(test_y)),0],\n",
    "train_x[(Btest_naive_y==1).reshape(len(test_y)),1],'r+',label='class 1')\n",
    "plt.plot(test_x[(Btest_naive_y==2).reshape(len(test_y)),0],\n",
    "train_x[(Btest_naive_y==2).reshape(len(test_y)),1],'bo',label='class 2')\n",
    "plt.title('Test set - Naive Bayes classifier')\n",
    "plt.legend(bbox_to_anchor=(0.2, .8, .2, .2), loc=3, ncol=1, mode=\"expand\", borderaxespad=0.)\n",
    "plt.show()"
   ]
  },
  {
   "cell_type": "code",
   "execution_count": 14,
   "metadata": {},
   "outputs": [
    {
     "data": {
      "image/png": "[encoded data removed]",
      "text/plain": [
       "<Figure size 432x288 with 1 Axes>"
      ]
     },
     "metadata": {
      "needs_background": "light"
     },
     "output_type": "display_data"
    }
   ],
   "source": [
    "plt.plot(test_x[(Knn_test_y==1).reshape(len(test_y)),0],\n",
    "train_x[(Knn_test_y==1).reshape(len(test_y)),1],'r+',label='class 1')\n",
    "plt.plot(test_x[(Knn_test_y==2).reshape(len(test_y)),0],\n",
    "train_x[(Knn_test_y==2).reshape(len(test_y)),1],'bo',label='class 2')\n",
    "plt.title('Test set - kNN classifier')\n",
    "plt.legend(bbox_to_anchor=(0.2, .8, .2, .2), loc=3, ncol=1, mode=\"expand\", borderaxespad=0.)\n",
    "plt.show()"
   ]
  },
  {
   "cell_type": "code",
   "execution_count": 17,
   "metadata": {},
   "outputs": [
    {
     "data": {
      "image/png": "[encoded data removed]",
      "text/plain": [
       "<Figure size 432x288 with 1 Axes>"
      ]
     },
     "metadata": {
      "needs_background": "light"
     },
     "output_type": "display_data"
    }
   ],
   "source": [
    "plt.plot(test_x[(lr_test_y==0).reshape(len(test_y)),0],\n",
    "train_x[(lr_test_y==0).reshape(len(test_y)),1],'r+',label='class 1')\n",
    "plt.plot(test_x[(lr_test_y==1).reshape(len(test_y)),0],\n",
    "train_x[(lr_test_y==1).reshape(len(test_y)),1],'bo',label='class 2')\n",
    "plt.title('Test set - Logistic regression classifier')\n",
    "plt.legend(bbox_to_anchor=(0.2, .8, .2, .2), loc=3, ncol=1, mode=\"expand\", borderaxespad=0.)\n",
    "plt.show()"
   ]
  },
  {
   "cell_type": "markdown",
   "metadata": {},
   "source": [
    "It can be seen from the results obtained on the test set that the Bayes classifier outperforms\n",
    "the rest classifiers. More specifically, Bayes classifier is superior to the Naive Bayes since the two\n",
    "classes are characterized by a non-diagonal covariance matrix. Hence, the statistical independence\n",
    "assumption (in the normal distribution case statistical independence is equivalent to a diagonal\n",
    "covariance matrix) which is the fundamental hypothesis made by the Naive Bayes is not valid. It\n",
    "is worth noting however that, despite the fact that the independence assumption 1 under which\n",
    "the naive Bayes and the minimum Euclidean distance classifiers are optimal is violated, the results\n",
    "obtained by both of them are only slightly worse than those of the Bayes classifier. Bayes classifier\n",
    "would exhibit the same performance with Naive Bayes if) the covariance matrices of normal\n",
    "distribution that generated the samples of the two classes was diagonal.\n",
    "It should be also noted that the results obtained by Logistic regression on the test set are quite\n",
    "close to the ones obtained by the Bayes classifier who is optimal. Taking into account the fact that\n",
    "the Logistic regression is based on the assumption that the two classes are linearly separable, there\n",
    "is a strong indication that this assumption is valid for this case. This is also verified by a visual\n",
    "inspection of the classes."
   ]
  }
 ],
 "metadata": {
  "kernelspec": {
   "display_name": "Python 3",
   "language": "python",
   "name": "python3"
  },
  "language_info": {
   "codemirror_mode": {
    "name": "ipython",
    "version": 3
   },
   "file_extension": ".py",
   "mimetype": "text/x-python",
   "name": "python",
   "nbconvert_exporter": "python",
   "pygments_lexer": "ipython3",
   "version": "3.6.4"
  }
 },
 "nbformat": 4,
 "nbformat_minor": 2
}
